{
 "cells": [
  {
   "cell_type": "code",
   "execution_count": 1,
   "metadata": {},
   "outputs": [
    {
     "name": "stdout",
     "output_type": "stream",
     "text": [
      "connect successfully\n"
     ]
    }
   ],
   "source": [
    "import nest_asyncio\n",
    "nest_asyncio.apply()\n",
    "import VinRAG\n",
    "import importlib\n",
    "#using importlib to reload module\n",
    "importlib.reload(VinRAG)\n",
    "from VinRAG import VinmecRetriever\n",
    "import streamlit as st\n",
    "\n",
    "DB_VECTOR = \"storage_index\"\n",
    "DB_ROOT = \"api\"\n",
    "url_pg_vector = st.secrets['url_pg_vector'] +\"/{db}\" #store information embedding\n",
    "\n",
    "model = \"gpt-3.5-turbo-1106\"\n",
    "api_key = st.secrets['api_key']\n",
    "vin_retriever = VinmecRetriever(DB_VECTOR, DB_ROOT, url_pg_vector,model,api_key)\n"
   ]
  },
  {
   "cell_type": "code",
   "execution_count": 2,
   "metadata": {},
   "outputs": [
    {
     "name": "stdout",
     "output_type": "stream",
     "text": [
      "1. Nhói ngực khi bê vật nặng kèm khó thở là bị làm sao?,\n",
      "2. Trẻ sơ sinh bị nghẹt mũi phải làm sao?,\n",
      "3. Nhiễm trùng vết mổ phải làm sao?,\n",
      "4. Bé bị nghẹo cổ phải điều trị như thế nào?,\n",
      "5. Làm gì khi trẻ bị động vật cắn?,  Xử lý khi trẻ bị động vật cắn,  Nguy cơ bệnh dại khi trẻ bị động vật cắn,  Các bệnh nhiễm trùng khác,  Phòng ngừa trẻ bị động vật cắn,\n",
      "6. Sơ cứu vết thương do động vật cắn,  Cách sơ cứu vết thương do động vật cắn nhẹ,  Khi bị động vật cắn cần phải đến bệnh viện,  Điều trị và theo dõi tiếp theo,\n",
      "\n"
     ]
    }
   ],
   "source": [
    "title,title_str = vin_retriever.get_customRV(\"Bị nghẹn vật to ở cổ thì phải làm sao?\")\n",
    "print(title_str)"
   ]
  },
  {
   "cell_type": "code",
   "execution_count": 3,
   "metadata": {},
   "outputs": [
    {
     "name": "stdout",
     "output_type": "stream",
     "text": [
      "\n",
      "        You are a helpful assistant that determines the index relative to query.  \n",
      "        Maybe some index contain a little the information about the query, make sure you read it carefully.\n",
      "        If you think it is useful for you, you can select it. No need to explain.\n",
      "        Always respond index number.\n",
      "        Example:\n",
      "        Query: What is the symptom of covid?\n",
      "        Information:\n",
      "        1. Covid is a disease caused by SARS-CoV-2 virus.\n",
      "        2. The most common symptoms of COVID-19 are fever, dry cough, and tiredness.\n",
      "        3. covid is done in 2023\n",
      "        4. Some people become infected.\n",
      "        Selected index: 1,2,4\n",
      "        If there noone index relative then return `None`.\n",
      "        Query: Bị nghẹn vật to ở cổ thì phải làm sao?\n",
      "\n",
      "        Information: \n",
      "1. Nhói ngực khi bê vật nặng kèm khó thở là bị làm sao?,\n",
      "2. Trẻ sơ sinh bị nghẹt mũi phải làm sao?,\n",
      "3. Nhiễm trùng vết mổ phải làm sao?,\n",
      "4. Bé bị nghẹo cổ phải điều trị như thế nào?,\n",
      "5. Làm gì khi trẻ bị động vật cắn?,  Xử lý khi trẻ bị động vật cắn,  Nguy cơ bệnh dại khi trẻ bị động vật cắn,  Các bệnh nhiễm trùng khác,  Phòng ngừa trẻ bị động vật cắn,\n",
      "6. Sơ cứu vết thương do động vật cắn,  Cách sơ cứu vết thương do động vật cắn nhẹ,  Khi bị động vật cắn cần phải đến bệnh viện,  Điều trị và theo dõi tiếp theo,\n",
      "\n",
      "\n",
      "        Selected index:\n",
      "        \n",
      "1, 4\n"
     ]
    }
   ],
   "source": [
    "ans = vin_retriever.decide_index_retriever(question=\"Bị nghẹn vật to ở cổ thì phải làm sao?\",title_str=title_str)\n",
    "print(ans)"
   ]
  },
  {
   "cell_type": "code",
   "execution_count": 5,
   "metadata": {},
   "outputs": [
    {
     "name": "stdout",
     "output_type": "stream",
     "text": [
      "['https://www.vinmec.com/tim-mach/tu-van-bac-si/nhoi-nguc-khi-be-vat-nang-kem-kho-tho-la-bi-lam-sao/', 'https://www.vinmec.com/tin-tuc/hoi-dap-bac-si/be-bi-ngheo-co-phai-dieu-tri-nhu-nao/']\n"
     ]
    }
   ],
   "source": [
    "print(vin_retriever.get_index(ans,title))"
   ]
  },
  {
   "cell_type": "code",
   "execution_count": null,
   "metadata": {},
   "outputs": [],
   "source": []
  }
 ],
 "metadata": {
  "kernelspec": {
   "display_name": "Python 3",
   "language": "python",
   "name": "python3"
  },
  "language_info": {
   "codemirror_mode": {
    "name": "ipython",
    "version": 3
   },
   "file_extension": ".py",
   "mimetype": "text/x-python",
   "name": "python",
   "nbconvert_exporter": "python",
   "pygments_lexer": "ipython3",
   "version": "3.9.13"
  }
 },
 "nbformat": 4,
 "nbformat_minor": 2
}
