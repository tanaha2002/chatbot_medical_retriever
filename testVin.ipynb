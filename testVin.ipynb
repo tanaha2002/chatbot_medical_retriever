{
 "cells": [
  {
   "cell_type": "code",
   "execution_count": 1,
   "metadata": {},
   "outputs": [
    {
     "name": "stdout",
     "output_type": "stream",
     "text": [
      "connect successfully\n"
     ]
    }
   ],
   "source": [
    "import nest_asyncio\n",
    "nest_asyncio.apply()\n",
    "import VinRAG\n",
    "import importlib\n",
    "#using importlib to reload module\n",
    "importlib.reload(VinRAG)\n",
    "from VinRAG import VinmecRetriever\n",
    "import streamlit as st\n",
    "\n",
    "DB_VECTOR = \"storage_index\"\n",
    "DB_ROOT = \"api\"\n",
    "url_pg_vector = st.secrets['url_pg_vector'] +\"/{db}\" #store information embedding\n",
    "\n",
    "model = \"gpt-3.5-turbo-1106\"\n",
    "api_key = st.secrets['api_key']\n",
    "vin_retriever = VinmecRetriever(DB_VECTOR, DB_ROOT, url_pg_vector,model,api_key)"
   ]
  },
  {
   "cell_type": "code",
   "execution_count": 12,
   "metadata": {},
   "outputs": [
    {
     "name": "stdout",
     "output_type": "stream",
     "text": [
      "SEARCH Cách chữa trật cổ\n",
      "Tài liệu liên quan: \n",
      "https://www.vinmec.com/co-xuong-khop/suc-khoe-thuong-thuc/ngu-bi-treo-co-lam-sao-cho-het/\n",
      "https://www.vinmec.com/co-xuong-khop/suc-khoe-thuong-thuc/lam-gi-khi-bi-treo-co/\n"
     ]
    },
    {
     "ename": "KeyboardInterrupt",
     "evalue": "",
     "output_type": "error",
     "traceback": [
      "\u001b[1;31m---------------------------------------------------------------------------\u001b[0m",
      "\u001b[1;31mKeyboardInterrupt\u001b[0m                         Traceback (most recent call last)",
      "Cell \u001b[1;32mIn[12], line 3\u001b[0m\n\u001b[0;32m      1\u001b[0m question \u001b[38;5;241m=\u001b[39m \u001b[38;5;124m\"\u001b[39m\u001b[38;5;124mBị trật cổ nên làm thế nào?\u001b[39m\u001b[38;5;124m\"\u001b[39m\n\u001b[0;32m      2\u001b[0m ans\u001b[38;5;241m=\u001b[39mvin_retriever\u001b[38;5;241m.\u001b[39mbehavior_controller(question,vin_retriever\u001b[38;5;241m.\u001b[39mcreate_retriever_stupid_2)\n\u001b[1;32m----> 3\u001b[0m \u001b[38;5;28;01mfor\u001b[39;00m text \u001b[38;5;129;01min\u001b[39;00m ans:\n\u001b[0;32m      4\u001b[0m     \u001b[38;5;28mprint\u001b[39m(text,end\u001b[38;5;241m=\u001b[39m\u001b[38;5;124m\"\u001b[39m\u001b[38;5;124m\"\u001b[39m)\n",
      "File \u001b[1;32md:\\BBSW\\vinmec_chatbot\\chatbot_medical_retriever\\VinRAG.py:212\u001b[0m, in \u001b[0;36mVinmecRetriever.create_retriever_stupid_2\u001b[1;34m(self, question)\u001b[0m\n\u001b[0;32m    210\u001b[0m \u001b[38;5;28;01mfor\u001b[39;00m node \u001b[38;5;129;01min\u001b[39;00m response_stream\u001b[38;5;241m.\u001b[39msource_nodes:\n\u001b[0;32m    211\u001b[0m     \u001b[38;5;28;01myield\u001b[39;00m node\u001b[38;5;241m.\u001b[39mmetadata[\u001b[38;5;124m'\u001b[39m\u001b[38;5;124murl\u001b[39m\u001b[38;5;124m'\u001b[39m]  \u001b[38;5;241m+\u001b[39m \u001b[38;5;124m\"\u001b[39m\u001b[38;5;130;01m\\n\u001b[39;00m\u001b[38;5;124m\"\u001b[39m\n\u001b[1;32m--> 212\u001b[0m \u001b[38;5;28;01mfor\u001b[39;00m text \u001b[38;5;129;01min\u001b[39;00m response_stream\u001b[38;5;241m.\u001b[39mresponse_gen:\n\u001b[0;32m    213\u001b[0m     \u001b[38;5;28;01myield\u001b[39;00m text\n",
      "File \u001b[1;32mc:\\Users\\minht\\AppData\\Local\\Programs\\Python\\Python310\\lib\\site-packages\\llama_index\\chat_engine\\types.py:156\u001b[0m, in \u001b[0;36mStreamingAgentChatResponse.response_gen\u001b[1;34m(self)\u001b[0m\n\u001b[0;32m    154\u001b[0m \u001b[38;5;28;01mwhile\u001b[39;00m \u001b[38;5;129;01mnot\u001b[39;00m \u001b[38;5;28mself\u001b[39m\u001b[38;5;241m.\u001b[39m_is_done \u001b[38;5;129;01mor\u001b[39;00m \u001b[38;5;129;01mnot\u001b[39;00m \u001b[38;5;28mself\u001b[39m\u001b[38;5;241m.\u001b[39m_queue\u001b[38;5;241m.\u001b[39mempty():\n\u001b[0;32m    155\u001b[0m     \u001b[38;5;28;01mtry\u001b[39;00m:\n\u001b[1;32m--> 156\u001b[0m         delta \u001b[38;5;241m=\u001b[39m \u001b[38;5;28;43mself\u001b[39;49m\u001b[38;5;241;43m.\u001b[39;49m\u001b[43m_queue\u001b[49m\u001b[38;5;241;43m.\u001b[39;49m\u001b[43mget\u001b[49m\u001b[43m(\u001b[49m\u001b[43mblock\u001b[49m\u001b[38;5;241;43m=\u001b[39;49m\u001b[38;5;28;43;01mFalse\u001b[39;49;00m\u001b[43m)\u001b[49m\n\u001b[0;32m    157\u001b[0m         \u001b[38;5;28mself\u001b[39m\u001b[38;5;241m.\u001b[39m_unformatted_response \u001b[38;5;241m+\u001b[39m\u001b[38;5;241m=\u001b[39m delta\n\u001b[0;32m    158\u001b[0m         \u001b[38;5;28;01myield\u001b[39;00m delta\n",
      "File \u001b[1;32mc:\\Users\\minht\\AppData\\Local\\Programs\\Python\\Python310\\lib\\queue.py:167\u001b[0m, in \u001b[0;36mQueue.get\u001b[1;34m(self, block, timeout)\u001b[0m\n\u001b[0;32m    165\u001b[0m \u001b[38;5;28;01mwith\u001b[39;00m \u001b[38;5;28mself\u001b[39m\u001b[38;5;241m.\u001b[39mnot_empty:\n\u001b[0;32m    166\u001b[0m     \u001b[38;5;28;01mif\u001b[39;00m \u001b[38;5;129;01mnot\u001b[39;00m block:\n\u001b[1;32m--> 167\u001b[0m         \u001b[38;5;28;01mif\u001b[39;00m \u001b[38;5;129;01mnot\u001b[39;00m \u001b[38;5;28;43mself\u001b[39;49m\u001b[38;5;241;43m.\u001b[39;49m\u001b[43m_qsize\u001b[49m\u001b[43m(\u001b[49m\u001b[43m)\u001b[49m:\n\u001b[0;32m    168\u001b[0m             \u001b[38;5;28;01mraise\u001b[39;00m Empty\n\u001b[0;32m    169\u001b[0m     \u001b[38;5;28;01melif\u001b[39;00m timeout \u001b[38;5;129;01mis\u001b[39;00m \u001b[38;5;28;01mNone\u001b[39;00m:\n",
      "File \u001b[1;32mc:\\Users\\minht\\AppData\\Local\\Programs\\Python\\Python310\\lib\\queue.py:209\u001b[0m, in \u001b[0;36mQueue._qsize\u001b[1;34m(self)\u001b[0m\n\u001b[0;32m    206\u001b[0m \u001b[38;5;28;01mdef\u001b[39;00m \u001b[38;5;21m_init\u001b[39m(\u001b[38;5;28mself\u001b[39m, maxsize):\n\u001b[0;32m    207\u001b[0m     \u001b[38;5;28mself\u001b[39m\u001b[38;5;241m.\u001b[39mqueue \u001b[38;5;241m=\u001b[39m deque()\n\u001b[1;32m--> 209\u001b[0m \u001b[38;5;28;01mdef\u001b[39;00m \u001b[38;5;21m_qsize\u001b[39m(\u001b[38;5;28mself\u001b[39m):\n\u001b[0;32m    210\u001b[0m     \u001b[38;5;28;01mreturn\u001b[39;00m \u001b[38;5;28mlen\u001b[39m(\u001b[38;5;28mself\u001b[39m\u001b[38;5;241m.\u001b[39mqueue)\n\u001b[0;32m    212\u001b[0m \u001b[38;5;66;03m# Put a new item in the queue\u001b[39;00m\n",
      "\u001b[1;31mKeyboardInterrupt\u001b[0m: "
     ]
    }
   ],
   "source": [
    "question = \"Bị trật cổ nên làm thế nào?\"\n",
    "ans=vin_retriever.behavior_controller(question,vin_retriever.create_retriever_stupid_2)\n",
    "for text in ans:\n",
    "    print(text,end=\"\")"
   ]
  },
  {
   "cell_type": "code",
   "execution_count": 13,
   "metadata": {},
   "outputs": [
    {
     "data": {
      "text/plain": [
       "[('https://www.vinmec.com/tin-tuc/thong-tin-suc-khoe/nhi/cach-xu-ly-trao-nguoc-da-day-o-tre-em/',\n",
       "  'Cách xử lý trào ngược dạ dày ở trẻ em,  Các triệu chứng trào ngược dạ dày ở trẻ em thường gặp là gì?,  Cách xử lý trào ngược dạ dày ở trẻ em,  Chữa trào ngược dạ dày thực quản bằng một số thực phẩm và thảo dược thiên nhiên,'),\n",
       " ('https://www.vinmec.com/co-xuong-khop/suc-khoe-thuong-thuc/lam-gi-khi-bi-treo-co/',\n",
       "  'Làm gì khi bị trẹo cổ?,  Bị trẹo cổ là gì?,  Bị trẹo cổ nên làm gì?,'),\n",
       " ('https://www.vinmec.com/co-xuong-khop/suc-khoe-thuong-thuc/ngu-bi-treo-co-lam-sao-cho-het/',\n",
       "  'Ngủ bị trẹo cổ làm sao cho hết ?,  Nguyên nhân ngủ dậy bị trẹo cổ,  Ngủ bị trẹo cổ làm sao hết?,  Phương pháp xoa bóp bấm huyệt chữa trẹo cổ,  Các biện pháp phòng tình trạng ngủ bị trẹo cổ,'),\n",
       " ('https://www.vinmec.com/tin-tuc/thong-tin-suc-khoe/suc-khoe-tong-quat/cach-de-tranh-roi-loan-cuong-duong/',\n",
       "  'Cách để tránh rối loạn cương dương, Theo dõi cân nặng của bạn,  Áp dụng chế độ ăn Địa Trung Hải,  Tự điều trị rối loạn cương dương bằng cách quản lý huyết áp,  Giảm Cholesterol trong các mạch máu của cơ thể,  Kiểm soát bệnh đái tháo đường,  Từ bỏ hút thuốc lá là cách tự điều trị rối loạn cương dương,  Hạn chế sử dụng rượu bia,  Không sử dụng các loại thuốc cấm,  Luyện tập thể dục để phòng tránh rối loạn cương dương, 1 Ổn định hàm lượng hormone testosterone, 1 Không sử dụng steroid đồng hóa, 1 Quản lý căng thẳng, 1 Điều trị chứng ngưng thở khi ngủ, 1 Tìm hiểu các tác dụng phụ của thuốc, 1 Chất lượng giấc ngủ,')]"
      ]
     },
     "execution_count": 13,
     "metadata": {},
     "output_type": "execute_result"
    }
   ],
   "source": [
    "title,title_str = vin_retriever.get_customRV(\"Cách chữa trật cổ\")\n",
    "title"
   ]
  },
  {
   "cell_type": "code",
   "execution_count": 14,
   "metadata": {},
   "outputs": [
    {
     "data": {
      "text/plain": [
       "'1. Cách xử lý trào ngược dạ dày ở trẻ em\\n2. Làm gì khi bị trẹo cổ?\\n3. Ngủ bị trẹo cổ làm sao cho hết ?\\n4. Cách để tránh rối loạn cương dương\\n'"
      ]
     },
     "execution_count": 14,
     "metadata": {},
     "output_type": "execute_result"
    }
   ],
   "source": [
    "title_str"
   ]
  },
  {
   "cell_type": "code",
   "execution_count": 17,
   "metadata": {},
   "outputs": [
    {
     "name": "stdout",
     "output_type": "stream",
     "text": [
      "\n",
      "        Bạn là người trợ giúp hữu ích trong việc giúp xác định các mục trong danh sách dưới đây tương ứng với cùng loại bệnh như trong truy vấn của tôi.\n",
      "        Hãy chắc chắn rằng bạn đọc tất cả chúng một cách cẩn thận.\n",
      "        Vui lòng xem xét danh sách các mô tả bệnh tật và chỉ ra các mục mô tả cùng loại bệnh như trong câu hỏi của tôi.\n",
      "        Chỉ mục được chọn bao gồm các mục mô tả các triệu chứng hoặc vấn đề liên quan đến cùng loại bệnh như được đề cập trong truy vấn. Xác định tất cả các chỉ số có liên quan.\n",
      "        Không cần phải giải thích.\n",
      "        Luôn trả lời số chỉ mục.\n",
      "        Ví dụ:\n",
      "        Hỏi: Chăm sóc và điều trị bong gân cổ?\n",
      "        Thông tin:\n",
      "        1. Bị bong gân cổ phải làm sao?\n",
      "        2. Trẻ mới biết đi từ 2-4 tuổi có bị trầm cảm không?\n",
      "        3. Hướng dẫn chăm sóc trẻ bị ho\n",
      "        4. Trẻ rất nhạy cảm\n",
      "        5. Làm thế nào để giảm căng cơ cổ khi ngủ?\n",
      "        6. Điều trị và chăm sóc trẻ nhỏ bị viêm phổi\n",
      "        Chỉ số đã chọn: 1, 5\n",
      "        Nếu không có chỉ mục tương đối thì trả về `None`.\n",
      "        Truy vấn: Cách chữa trật cổ\n",
      "\n",
      "        Thông tin: \n",
      "1. Cách xử lý trào ngược dạ dày ở trẻ em\n",
      "2. Làm gì khi bị trẹo cổ?\n",
      "3. Ngủ bị trẹo cổ làm sao cho hết ?\n",
      "4. Cách để tránh rối loạn cương dương\n",
      "\n",
      "\n",
      "        Chỉ số đã chọn:\n",
      "        \n",
      "2, 3\n"
     ]
    }
   ],
   "source": [
    "res = vin_retriever.decide_index_retriever(\"Cách chữa trật cổ\", title_str= title_str)\n",
    "print(res)"
   ]
  },
  {
   "cell_type": "code",
   "execution_count": null,
   "metadata": {},
   "outputs": [],
   "source": []
  },
  {
   "cell_type": "code",
   "execution_count": null,
   "metadata": {},
   "outputs": [],
   "source": []
  }
 ],
 "metadata": {
  "kernelspec": {
   "display_name": "Python 3",
   "language": "python",
   "name": "python3"
  },
  "language_info": {
   "codemirror_mode": {
    "name": "ipython",
    "version": 3
   },
   "file_extension": ".py",
   "mimetype": "text/x-python",
   "name": "python",
   "nbconvert_exporter": "python",
   "pygments_lexer": "ipython3",
   "version": "3.10.11"
  }
 },
 "nbformat": 4,
 "nbformat_minor": 2
}
