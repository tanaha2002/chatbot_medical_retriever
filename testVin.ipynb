{
 "cells": [
  {
   "cell_type": "code",
   "execution_count": 57,
   "metadata": {},
   "outputs": [
    {
     "name": "stdout",
     "output_type": "stream",
     "text": [
      "connect successfully\n"
     ]
    }
   ],
   "source": [
    "import nest_asyncio\n",
    "nest_asyncio.apply()\n",
    "import VinRAG\n",
    "import importlib\n",
    "#using importlib to reload module\n",
    "importlib.reload(VinRAG)\n",
    "from VinRAG import VinmecRetriever\n",
    "import streamlit as st\n",
    "\n",
    "DB_VECTOR = \"storage_index\"\n",
    "DB_ROOT = \"api\"\n",
    "url_pg_vector = st.secrets['url_pg_vector'] +\"/{db}\" #store information embedding\n",
    "\n",
    "model = \"gpt-3.5-turbo-1106\"\n",
    "api_key = st.secrets['api_key']\n",
    "vin_retriever = VinmecRetriever(DB_VECTOR, DB_ROOT, url_pg_vector,model,api_key)"
   ]
  },
  {
   "cell_type": "code",
   "execution_count": 58,
   "metadata": {},
   "outputs": [
    {
     "name": "stdout",
     "output_type": "stream",
     "text": [
      "SEARCH triệu chứng mệt mỏi mãn tính\n"
     ]
    },
    {
     "data": {
      "text/plain": [
       "'triệu chứng mệt mỏi mãn tính'"
      ]
     },
     "execution_count": 58,
     "metadata": {},
     "output_type": "execute_result"
    }
   ],
   "source": [
    "question = \"Triệu chứng mệt mỏi mãn tính\"\n",
    "ans=vin_retriever.behavior_controller(question,vin_retriever.hybrid_retriever_engine)\n",
    "ans"
   ]
  },
  {
   "cell_type": "code",
   "execution_count": 50,
   "metadata": {},
   "outputs": [
    {
     "data": {
      "text/plain": [
       "[('https://www.vinmec.com/tin-tuc/thong-tin-suc-khoe/suc-khoe-tong-quat/co-met-moi-khong-co-suc-luc-co-phai-bi-met-moi-man-tinh/',\n",
       "  'Cơ thể mệt mỏi không có sức lực, có phải bị mệt mỏi mãn tính?,  Hội chứng mệt mỏi mãn tính là gì?,  Thường xuyên bị mệt mỏi thì có phải bị mệt mỏi mãn tính không?,  Điều trị hội chứng mệt mỏi mãn tính như thế nào?,'),\n",
       " ('https://www.vinmec.com/tin-tuc/thong-tin-suc-khoe/suc-khoe-tong-quat/dieu-tri-met-moi-man-tinh-nao/',\n",
       "  'Điều trị mệt mỏi mãn tính thế nào?,  Chẩn đoán hội chứng mệt mỏi mãn tính (cfs),  Triệu chứng mệt mỏi mãn tính,  Điều trị mệt mỏi mãn tính,'),\n",
       " ('https://www.vinmec.com/tin-tuc/thong-tin-suc-khoe/song-khoe/huong-dan-bang-hinh-anh-ve-hoi-chung-met-moi-man-tinh/',\n",
       "  'Hướng dẫn bằng hình ảnh về hội chứng mệt mỏi mãn tính,  Hội chứng mệt mỏi mãn tính là gì?,  Nguyên nhân gây ra hội chứng mệt mỏi mãn tính,  Các yếu tố nguy cơ mắc bệnh,  Hội chứng mệt mỏi mãn tính có triệu chứng gì?,  Chẩn đoán hội chứng mệt mỏi mãn tính,  Các phương pháp điều trị hội chứng mệt mỏi mãn tính,  Chăm sóc sức khỏe cho bệnh nhân mắc hội chứng mệt mỏi mãn tính,')]"
      ]
     },
     "execution_count": 50,
     "metadata": {},
     "output_type": "execute_result"
    }
   ],
   "source": [
    "title,title_str = vin_retriever.get_customRV(\"Triệu chứng mệt mỏi mãn tính\")\n",
    "title"
   ]
  },
  {
   "cell_type": "code",
   "execution_count": 51,
   "metadata": {},
   "outputs": [
    {
     "data": {
      "text/plain": [
       "'1. Cơ thể mệt mỏi không có sức lực, có phải bị mệt mỏi mãn tính?,  Hội chứng mệt mỏi mãn tính là gì?,  Thường xuyên bị mệt mỏi thì có phải bị mệt mỏi mãn tính không?,  Điều trị hội chứng mệt mỏi mãn tính như thế nào?,\\n2. Điều trị mệt mỏi mãn tính thế nào?,  Chẩn đoán hội chứng mệt mỏi mãn tính (cfs),  Triệu chứng mệt mỏi mãn tính,  Điều trị mệt mỏi mãn tính,\\n3. Hướng dẫn bằng hình ảnh về hội chứng mệt mỏi mãn tính,  Hội chứng mệt mỏi mãn tính là gì?,  Nguyên nhân gây ra hội chứng mệt mỏi mãn tính,  Các yếu tố nguy cơ mắc bệnh,  Hội chứng mệt mỏi mãn tính có triệu chứng gì?,  Chẩn đoán hội chứng mệt mỏi mãn tính,  Các phương pháp điều trị hội chứng mệt mỏi mãn tính,  Chăm sóc sức khỏe cho bệnh nhân mắc hội chứng mệt mỏi mãn tính,\\n'"
      ]
     },
     "execution_count": 51,
     "metadata": {},
     "output_type": "execute_result"
    }
   ],
   "source": [
    "title_str"
   ]
  },
  {
   "cell_type": "code",
   "execution_count": 52,
   "metadata": {},
   "outputs": [
    {
     "data": {
      "text/plain": [
       "3"
      ]
     },
     "execution_count": 52,
     "metadata": {},
     "output_type": "execute_result"
    }
   ],
   "source": [
    "len(title)"
   ]
  },
  {
   "cell_type": "code",
   "execution_count": 54,
   "metadata": {},
   "outputs": [
    {
     "name": "stdout",
     "output_type": "stream",
     "text": [
      "\n",
      "        You are a helpful assistant in identifying items in the list below corresponding to the same type of disease as in my query.\n",
      "        Make sure you read all of them carefully.\n",
      "        Please consider the list of disease descriptions and identify the items describing the same type of disease as in my query.\n",
      "        The selected index includes items describing symptoms related to the same type of disease as mentioned in the query. Identify all relevant indices.\n",
      "        The number of indexes selected cannot exceed 3\n",
      "        No need to explain.\n",
      "        Always respond index number.\n",
      "        Example:\n",
      "        Query: Chăm sóc và điều trị trẹo cổ?\n",
      "        Information:\n",
      "        1. Bị bong vẹo cổ phải làm sao?\n",
      "        2. Cách chăm sóc bệnh nhân ung thư tại nhà\n",
      "        3. Trẻ nhỏ 2-4 tuổi cũng có thể trầm cảm?\n",
      "        4. Chăm sóc trẻ bị viêm họng tại nhà như thế nào?,\n",
      "        5. Người bị trầm cảm thì nên làm gì?\n",
      "        6. Phát hiện và điều trị vẹo cổ ở trẻ nhỏ\n",
      "        Selected index: 1, 6\n",
      "        If there noone index relative then return `None`.\n",
      "        Query: Triệu chứng mệt mỏi mãn tính\n",
      "\n",
      "        Information: \n",
      "1. Cơ thể mệt mỏi không có sức lực, có phải bị mệt mỏi mãn tính?,  Hội chứng mệt mỏi mãn tính là gì?,  Thường xuyên bị mệt mỏi thì có phải bị mệt mỏi mãn tính không?,  Điều trị hội chứng mệt mỏi mãn tính như thế nào?,\n",
      "2. Điều trị mệt mỏi mãn tính thế nào?,  Chẩn đoán hội chứng mệt mỏi mãn tính (cfs),  Triệu chứng mệt mỏi mãn tính,  Điều trị mệt mỏi mãn tính,\n",
      "3. Hướng dẫn bằng hình ảnh về hội chứng mệt mỏi mãn tính,  Hội chứng mệt mỏi mãn tính là gì?,  Nguyên nhân gây ra hội chứng mệt mỏi mãn tính,  Các yếu tố nguy cơ mắc bệnh,  Hội chứng mệt mỏi mãn tính có triệu chứng gì?,  Chẩn đoán hội chứng mệt mỏi mãn tính,  Các phương pháp điều trị hội chứng mệt mỏi mãn tính,  Chăm sóc sức khỏe cho bệnh nhân mắc hội chứng mệt mỏi mãn tính,\n",
      "\n",
      "\n",
      "        Selected index:\n",
      "        \n",
      "1, 2, 3\n"
     ]
    }
   ],
   "source": [
    "res = vin_retriever.decide_index_retriever(\"Triệu chứng mệt mỏi mãn tính\", title_str= title_str, title=title)\n",
    "print(res)"
   ]
  },
  {
   "cell_type": "code",
   "execution_count": 61,
   "metadata": {},
   "outputs": [
    {
     "name": "stdout",
     "output_type": "stream",
     "text": [
      "connect successfully\n",
      "SEARCH Hậu quả tiềm tàng của việc chẩn đoán sai và điều trị không hiệu quả viêm cơ tim cấp.\n",
      "\n",
      "        You are a helpful assistant in identifying items in the list below corresponding to the same type of disease as in my query.\n",
      "        Make sure you read all of them carefully.\n",
      "        Please consider the list of disease descriptions and identify the items describing the same type of disease as in my query.\n",
      "        The selected index includes items describing symptoms related to the same type of disease as mentioned in the query. Identify all relevant indices.\n",
      "        The number of indexes selected cannot exceed 6\n",
      "        No need to explain.\n",
      "        Always respond index number.\n",
      "        Example:\n",
      "        Query: Chăm sóc và điều trị trẹo cổ?\n",
      "        Information:\n",
      "        1. Bị bong vẹo cổ phải làm sao?\n",
      "        2. Cách chăm sóc bệnh nhân ung thư tại nhà\n",
      "        3. Trẻ nhỏ 2-4 tuổi cũng có thể trầm cảm?\n",
      "        4. Chăm sóc trẻ bị viêm họng tại nhà như thế nào?,\n",
      "        5. Người bị trầm cảm thì nên làm gì?\n",
      "        6. Phát hiện và điều trị vẹo cổ ở trẻ nhỏ\n",
      "        Selected index: 1, 6\n",
      "        If there noone index relative then return `None`.\n",
      "        Query: Hậu quả tiềm tàng của việc chẩn đoán sai và điều trị không hiệu quả viêm cơ tim cấp.\n",
      "\n",
      "        Information: \n",
      "1. Các xét nghiệm cần thực hiện để chẩn đoán viêm cơ tim,  Điện tâm đồ (ECG),  Chụp X quang ngực,  Siêu âm tim,  Chụp cộng hưởng từ (MRI) tim,  Chụp động mạch vành,  Xét nghiệm máu,  Sinh thiết cơ tim,\n",
      "2. Những việc làm có thể \"phá hủy\" trái tim của bạn,  Tiếp tục hút thuốc lá,  Phớt lờ triệu chứng đau ngực,  Chấp nhận di truyền bệnh tim mạch,  Không khám sức khỏe định kỳ,  Lười vận động,  Ngừng dùng thuốc,  Không chú ý đến vòng eo,  Bỏ qua triệu chứng tim rung động nhanh,  Không kiểm soát huyết áp, 1 Ăn với sự từ bỏ,\n",
      "3. Nhận diện sớm triệu chứng viêm cơ tim cấp,  Thực trạng căn bệnh viêm cơ tim cấp,  Dấu hiệu viêm cơ tim,\n",
      "4. Triệu chứng, cách điều trị bệnh thấp tim,  Bệnh thấp tim là gì?,  Triệu chứng bệnh thấp tim,  Cách chữa bệnh thấp tim,  Chăm sóc bệnh nhân mắc bệnh thấp tim,\n",
      "5. Viêm cơ tim chu sinh có thể điều trị khỏi hẳn không?,  Bệnh viêm cơ tim chu sinh là gì?,  Các triệu chứng của bệnh,  Nguyên nhân gây bệnh,  Giải đáp: Bệnh viêm cơ tim chu sinh có thể điều trị khỏi hẳn không?,  Phương pháp chẩn đoán,  Phương pháp điều trị,  Phương pháp phòng ngừa bệnh,\n",
      "6. Các triệu chứng hở van tim,  Hở van tim là gì?,  Nguyên nhân và triệu chứng hở van tim?,  Hở van tim có chữa được không?,  Các phương thức chẩn đoán hở van tim,  Cách điều trị hở van tim như thế nào?,  Cuộc sống của người hở van tim,  Cách phòng ngừa bệnh,\n",
      "\n",
      "\n",
      "        Selected index:\n",
      "        \n",
      "Selected index: 1, 3, 4, 5, 6\n",
      "=========================================\n",
      "connect successfully\n",
      "SEARCH hậu quả tiềm tàng của việc chẩn đoán sai và điều trị không hiệu quả viêm cơ tim cấp.\n",
      "\n",
      "        You are a helpful assistant in identifying items in the list below corresponding to the same type of disease as in my query.\n",
      "        Make sure you read all of them carefully.\n",
      "        Please consider the list of disease descriptions and identify the items describing the same type of disease as in my query.\n",
      "        The selected index includes items describing symptoms related to the same type of disease as mentioned in the query. Identify all relevant indices.\n",
      "        The number of indexes selected cannot exceed 6\n",
      "        No need to explain.\n",
      "        Always respond index number.\n",
      "        Example:\n",
      "        Query: Chăm sóc và điều trị trẹo cổ?\n",
      "        Information:\n",
      "        1. Bị bong vẹo cổ phải làm sao?\n",
      "        2. Cách chăm sóc bệnh nhân ung thư tại nhà\n",
      "        3. Trẻ nhỏ 2-4 tuổi cũng có thể trầm cảm?\n",
      "        4. Chăm sóc trẻ bị viêm họng tại nhà như thế nào?,\n",
      "        5. Người bị trầm cảm thì nên làm gì?\n",
      "        6. Phát hiện và điều trị vẹo cổ ở trẻ nhỏ\n",
      "        Selected index: 1, 6\n",
      "        If there noone index relative then return `None`.\n",
      "        Query: hậu quả tiềm tàng của việc chẩn đoán sai và điều trị không hiệu quả viêm cơ tim cấp.\n",
      "\n",
      "        Information: \n",
      "1. Các xét nghiệm cần thực hiện để chẩn đoán viêm cơ tim,  Điện tâm đồ (ECG),  Chụp X quang ngực,  Siêu âm tim,  Chụp cộng hưởng từ (MRI) tim,  Chụp động mạch vành,  Xét nghiệm máu,  Sinh thiết cơ tim,\n",
      "2. Những việc làm có thể \"phá hủy\" trái tim của bạn,  Tiếp tục hút thuốc lá,  Phớt lờ triệu chứng đau ngực,  Chấp nhận di truyền bệnh tim mạch,  Không khám sức khỏe định kỳ,  Lười vận động,  Ngừng dùng thuốc,  Không chú ý đến vòng eo,  Bỏ qua triệu chứng tim rung động nhanh,  Không kiểm soát huyết áp, 1 Ăn với sự từ bỏ,\n",
      "3. Nhận diện sớm triệu chứng viêm cơ tim cấp,  Thực trạng căn bệnh viêm cơ tim cấp,  Dấu hiệu viêm cơ tim,\n",
      "4. Triệu chứng, cách điều trị bệnh thấp tim,  Bệnh thấp tim là gì?,  Triệu chứng bệnh thấp tim,  Cách chữa bệnh thấp tim,  Chăm sóc bệnh nhân mắc bệnh thấp tim,\n",
      "5. Ho là triệu chứng bệnh tim mạch mà bạn không nên chủ quan,  Ho là triệu chứng bệnh tim đúng hay sai?,  Vì sao mắc bệnh tim mạch lại xuất hiện các cơn ho?,  Ho là triệu chứng bệnh tim vậy làm thế nào để điều trị ho do bệnh tim mạch?,  Có phải tất cả các cơn ho là triệu chứng bệnh tim mạch không?,\n",
      "6. Các triệu chứng hở van tim,  Hở van tim là gì?,  Nguyên nhân và triệu chứng hở van tim?,  Hở van tim có chữa được không?,  Các phương thức chẩn đoán hở van tim,  Cách điều trị hở van tim như thế nào?,  Cuộc sống của người hở van tim,  Cách phòng ngừa bệnh,\n",
      "\n",
      "\n",
      "        Selected index:\n",
      "        \n",
      "1, 3, 4\n",
      "=========================================\n",
      "connect successfully\n",
      "SEARCH hậu quả tiềm tàng của chẩn đoán sai và điều trị không hiệu quả viêm cơ tim cấp.\n",
      "\n",
      "        You are a helpful assistant in identifying items in the list below corresponding to the same type of disease as in my query.\n",
      "        Make sure you read all of them carefully.\n",
      "        Please consider the list of disease descriptions and identify the items describing the same type of disease as in my query.\n",
      "        The selected index includes items describing symptoms related to the same type of disease as mentioned in the query. Identify all relevant indices.\n",
      "        The number of indexes selected cannot exceed 6\n",
      "        No need to explain.\n",
      "        Always respond index number.\n",
      "        Example:\n",
      "        Query: Chăm sóc và điều trị trẹo cổ?\n",
      "        Information:\n",
      "        1. Bị bong vẹo cổ phải làm sao?\n",
      "        2. Cách chăm sóc bệnh nhân ung thư tại nhà\n",
      "        3. Trẻ nhỏ 2-4 tuổi cũng có thể trầm cảm?\n",
      "        4. Chăm sóc trẻ bị viêm họng tại nhà như thế nào?,\n",
      "        5. Người bị trầm cảm thì nên làm gì?\n",
      "        6. Phát hiện và điều trị vẹo cổ ở trẻ nhỏ\n",
      "        Selected index: 1, 6\n",
      "        If there noone index relative then return `None`.\n",
      "        Query: hậu quả tiềm tàng của chẩn đoán sai và điều trị không hiệu quả viêm cơ tim cấp.\n",
      "\n",
      "        Information: \n",
      "1. Các xét nghiệm cần thực hiện để chẩn đoán viêm cơ tim,  Điện tâm đồ (ECG),  Chụp X quang ngực,  Siêu âm tim,  Chụp cộng hưởng từ (MRI) tim,  Chụp động mạch vành,  Xét nghiệm máu,  Sinh thiết cơ tim,\n",
      "2. Những việc làm có thể \"phá hủy\" trái tim của bạn,  Tiếp tục hút thuốc lá,  Phớt lờ triệu chứng đau ngực,  Chấp nhận di truyền bệnh tim mạch,  Không khám sức khỏe định kỳ,  Lười vận động,  Ngừng dùng thuốc,  Không chú ý đến vòng eo,  Bỏ qua triệu chứng tim rung động nhanh,  Không kiểm soát huyết áp, 1 Ăn với sự từ bỏ,\n",
      "3. Nhận diện sớm triệu chứng viêm cơ tim cấp,  Thực trạng căn bệnh viêm cơ tim cấp,  Dấu hiệu viêm cơ tim,\n",
      "4. Triệu chứng, cách điều trị bệnh thấp tim,  Bệnh thấp tim là gì?,  Triệu chứng bệnh thấp tim,  Cách chữa bệnh thấp tim,  Chăm sóc bệnh nhân mắc bệnh thấp tim,\n",
      "5. Viêm cơ tim chu sinh có thể điều trị khỏi hẳn không?,  Bệnh viêm cơ tim chu sinh là gì?,  Các triệu chứng của bệnh,  Nguyên nhân gây bệnh,  Giải đáp: Bệnh viêm cơ tim chu sinh có thể điều trị khỏi hẳn không?,  Phương pháp chẩn đoán,  Phương pháp điều trị,  Phương pháp phòng ngừa bệnh,\n",
      "6. Các triệu chứng hở van tim,  Hở van tim là gì?,  Nguyên nhân và triệu chứng hở van tim?,  Hở van tim có chữa được không?,  Các phương thức chẩn đoán hở van tim,  Cách điều trị hở van tim như thế nào?,  Cuộc sống của người hở van tim,  Cách phòng ngừa bệnh,\n",
      "\n",
      "\n",
      "        Selected index:\n",
      "        \n",
      "Selected index: 1, 3, 4, 5\n",
      "=========================================\n",
      "connect successfully\n",
      "SEARCH Hậu quả tiềm tàng của chẩn đoán sai và điều trị không hiệu quả viêm cơ tim cấp.\n",
      "\n",
      "        You are a helpful assistant in identifying items in the list below corresponding to the same type of disease as in my query.\n",
      "        Make sure you read all of them carefully.\n",
      "        Please consider the list of disease descriptions and identify the items describing the same type of disease as in my query.\n",
      "        The selected index includes items describing symptoms related to the same type of disease as mentioned in the query. Identify all relevant indices.\n",
      "        The number of indexes selected cannot exceed 6\n",
      "        No need to explain.\n",
      "        Always respond index number.\n",
      "        Example:\n",
      "        Query: Chăm sóc và điều trị trẹo cổ?\n",
      "        Information:\n",
      "        1. Bị bong vẹo cổ phải làm sao?\n",
      "        2. Cách chăm sóc bệnh nhân ung thư tại nhà\n",
      "        3. Trẻ nhỏ 2-4 tuổi cũng có thể trầm cảm?\n",
      "        4. Chăm sóc trẻ bị viêm họng tại nhà như thế nào?,\n",
      "        5. Người bị trầm cảm thì nên làm gì?\n",
      "        6. Phát hiện và điều trị vẹo cổ ở trẻ nhỏ\n",
      "        Selected index: 1, 6\n",
      "        If there noone index relative then return `None`.\n",
      "        Query: Hậu quả tiềm tàng của chẩn đoán sai và điều trị không hiệu quả viêm cơ tim cấp.\n",
      "\n",
      "        Information: \n",
      "1. Các xét nghiệm cần thực hiện để chẩn đoán viêm cơ tim,  Điện tâm đồ (ECG),  Chụp X quang ngực,  Siêu âm tim,  Chụp cộng hưởng từ (MRI) tim,  Chụp động mạch vành,  Xét nghiệm máu,  Sinh thiết cơ tim,\n",
      "2. Những việc làm có thể \"phá hủy\" trái tim của bạn,  Tiếp tục hút thuốc lá,  Phớt lờ triệu chứng đau ngực,  Chấp nhận di truyền bệnh tim mạch,  Không khám sức khỏe định kỳ,  Lười vận động,  Ngừng dùng thuốc,  Không chú ý đến vòng eo,  Bỏ qua triệu chứng tim rung động nhanh,  Không kiểm soát huyết áp, 1 Ăn với sự từ bỏ,\n",
      "3. Triệu chứng, cách điều trị bệnh thấp tim,  Bệnh thấp tim là gì?,  Triệu chứng bệnh thấp tim,  Cách chữa bệnh thấp tim,  Chăm sóc bệnh nhân mắc bệnh thấp tim,\n",
      "4. Ho là triệu chứng bệnh tim mạch mà bạn không nên chủ quan,  Ho là triệu chứng bệnh tim đúng hay sai?,  Vì sao mắc bệnh tim mạch lại xuất hiện các cơn ho?,  Ho là triệu chứng bệnh tim vậy làm thế nào để điều trị ho do bệnh tim mạch?,  Có phải tất cả các cơn ho là triệu chứng bệnh tim mạch không?,\n",
      "5. Viêm cơ tim chu sinh có thể điều trị khỏi hẳn không?,  Bệnh viêm cơ tim chu sinh là gì?,  Các triệu chứng của bệnh,  Nguyên nhân gây bệnh,  Giải đáp: Bệnh viêm cơ tim chu sinh có thể điều trị khỏi hẳn không?,  Phương pháp chẩn đoán,  Phương pháp điều trị,  Phương pháp phòng ngừa bệnh,\n",
      "6. Các triệu chứng hở van tim,  Hở van tim là gì?,  Nguyên nhân và triệu chứng hở van tim?,  Hở van tim có chữa được không?,  Các phương thức chẩn đoán hở van tim,  Cách điều trị hở van tim như thế nào?,  Cuộc sống của người hở van tim,  Cách phòng ngừa bệnh,\n",
      "\n",
      "\n",
      "        Selected index:\n",
      "        \n",
      "Selected index: 3, 5\n",
      "=========================================\n",
      "connect successfully\n",
      "SEARCH Hậu quả tiềm tàng của chẩn đoán sai và điều trị không hiệu quả viêm cơ tim cấp là gì?\n",
      "\n",
      "        You are a helpful assistant in identifying items in the list below corresponding to the same type of disease as in my query.\n",
      "        Make sure you read all of them carefully.\n",
      "        Please consider the list of disease descriptions and identify the items describing the same type of disease as in my query.\n",
      "        The selected index includes items describing symptoms related to the same type of disease as mentioned in the query. Identify all relevant indices.\n",
      "        The number of indexes selected cannot exceed 6\n",
      "        No need to explain.\n",
      "        Always respond index number.\n",
      "        Example:\n",
      "        Query: Chăm sóc và điều trị trẹo cổ?\n",
      "        Information:\n",
      "        1. Bị bong vẹo cổ phải làm sao?\n",
      "        2. Cách chăm sóc bệnh nhân ung thư tại nhà\n",
      "        3. Trẻ nhỏ 2-4 tuổi cũng có thể trầm cảm?\n",
      "        4. Chăm sóc trẻ bị viêm họng tại nhà như thế nào?,\n",
      "        5. Người bị trầm cảm thì nên làm gì?\n",
      "        6. Phát hiện và điều trị vẹo cổ ở trẻ nhỏ\n",
      "        Selected index: 1, 6\n",
      "        If there noone index relative then return `None`.\n",
      "        Query: Hậu quả tiềm tàng của chẩn đoán sai và điều trị không hiệu quả viêm cơ tim cấp là gì?\n",
      "\n",
      "        Information: \n",
      "1. Các xét nghiệm cần thực hiện để chẩn đoán viêm cơ tim,  Điện tâm đồ (ECG),  Chụp X quang ngực,  Siêu âm tim,  Chụp cộng hưởng từ (MRI) tim,  Chụp động mạch vành,  Xét nghiệm máu,  Sinh thiết cơ tim,\n",
      "2. Những việc làm có thể \"phá hủy\" trái tim của bạn,  Tiếp tục hút thuốc lá,  Phớt lờ triệu chứng đau ngực,  Chấp nhận di truyền bệnh tim mạch,  Không khám sức khỏe định kỳ,  Lười vận động,  Ngừng dùng thuốc,  Không chú ý đến vòng eo,  Bỏ qua triệu chứng tim rung động nhanh,  Không kiểm soát huyết áp, 1 Ăn với sự từ bỏ,\n",
      "3. Triệu chứng, cách điều trị bệnh thấp tim,  Bệnh thấp tim là gì?,  Triệu chứng bệnh thấp tim,  Cách chữa bệnh thấp tim,  Chăm sóc bệnh nhân mắc bệnh thấp tim,\n",
      "4. Làm sao để phát hiện và chữa trị chứng rối loạn nhịp tim?,  Rối loạn nhịp tim có nguy hiểm không?,  Chẩn đoán phát hiện rối loạn nhịp tim,  Rối loạn nhịp tim có chữa được không?,\n",
      "5. Ho là triệu chứng bệnh tim mạch mà bạn không nên chủ quan,  Ho là triệu chứng bệnh tim đúng hay sai?,  Vì sao mắc bệnh tim mạch lại xuất hiện các cơn ho?,  Ho là triệu chứng bệnh tim vậy làm thế nào để điều trị ho do bệnh tim mạch?,  Có phải tất cả các cơn ho là triệu chứng bệnh tim mạch không?,\n",
      "6. Viêm cơ tim chu sinh có thể điều trị khỏi hẳn không?,  Bệnh viêm cơ tim chu sinh là gì?,  Các triệu chứng của bệnh,  Nguyên nhân gây bệnh,  Giải đáp: Bệnh viêm cơ tim chu sinh có thể điều trị khỏi hẳn không?,  Phương pháp chẩn đoán,  Phương pháp điều trị,  Phương pháp phòng ngừa bệnh,\n",
      "\n",
      "\n",
      "        Selected index:\n",
      "        \n",
      "6\n",
      "=========================================\n"
     ]
    }
   ],
   "source": [
    "question = \"Những hậu quả tiềm tàng của việc chẩn đoán sai và điều trị không hiệu quả viêm cơ tim cấp.\"\n",
    "for i in range(5):\n",
    "    vin_retriever = VinmecRetriever(DB_VECTOR, DB_ROOT, url_pg_vector,model,api_key)\n",
    "    gen_question = vin_retriever.behavior_controller(question,vin_retriever.hybrid_retriever_engine)\n",
    "    title, title_str = vin_retriever.get_customRV(gen_question)\n",
    "    res = vin_retriever.decide_index_retriever(gen_question, title_str= title_str, title=title)\n",
    "    print(res)\n",
    "    print(\"=========================================\")"
   ]
  },
  {
   "cell_type": "code",
   "execution_count": null,
   "metadata": {},
   "outputs": [],
   "source": []
  }
 ],
 "metadata": {
  "kernelspec": {
   "display_name": "Python 3",
   "language": "python",
   "name": "python3"
  },
  "language_info": {
   "codemirror_mode": {
    "name": "ipython",
    "version": 3
   },
   "file_extension": ".py",
   "mimetype": "text/x-python",
   "name": "python",
   "nbconvert_exporter": "python",
   "pygments_lexer": "ipython3",
   "version": "3.10.11"
  }
 },
 "nbformat": 4,
 "nbformat_minor": 2
}
