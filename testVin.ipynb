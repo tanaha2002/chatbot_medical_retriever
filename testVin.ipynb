{
 "cells": [
  {
   "cell_type": "code",
   "execution_count": 65,
   "metadata": {},
   "outputs": [
    {
     "name": "stdout",
     "output_type": "stream",
     "text": [
      "connect successfully\n"
     ]
    }
   ],
   "source": [
    "import nest_asyncio\n",
    "nest_asyncio.apply()\n",
    "import VinRAG\n",
    "import importlib\n",
    "#using importlib to reload module\n",
    "importlib.reload(VinRAG)\n",
    "from VinRAG import VinmecRetriever\n",
    "import streamlit as st\n",
    "\n",
    "DB_VECTOR = \"vinmec_embedding_2\"\n",
    "DB_ROOT = \"api\"\n",
    "url_pg_vector = st.secrets['url_pg_vector'] +\"/{db}\" #store information embedding\n",
    "\n",
    "model = \"gpt-3.5-turbo-1106\"\n",
    "api_key = st.secrets['api_key']\n",
    "vin_retriever = VinmecRetriever(DB_VECTOR, DB_ROOT, url_pg_vector,model,api_key)\n"
   ]
  },
  {
   "cell_type": "code",
   "execution_count": 69,
   "metadata": {},
   "outputs": [],
   "source": [
    "info = [\n",
    "    {'link': 'https://www.vinmec.com/vi/tin-tuc/thong-tin-suc-khoe/suc-khoe-tong-quat/huong-dan-xu-tri-cap-cuu-hoc-nghen/',\n",
    "     'content': 'Hướng dẫn xử trí cấp cứu hóc nghẹn,  Hóc nghẹn ở người lớn và trẻ em,  Hóc nghẹn ở trẻ nhũ nhi (Dưới 1 tuổi),  Cấp cứu cho những nạn nhân hóc nghẹn nặng và mất đáp ứng,'},\n",
    "    {'link': 'https://www.vinmec.com/tin-tuc/thong-tin-suc-khoe/nhi/lam-nao-khi-tre-bi-veo-co-nghieng-dau/',\n",
    "     'content': 'Làm thế nào khi trẻ bị vẹo cổ nghiêng đầu?,  Vẹo cổ nghiêng đầu ở trẻ là gì?,  Triệu chứng vẹo cổ ở trẻ em,  Điều trị vẹo cổ nghiêng đầu đúng cách cho trẻ,'},\n",
    "    {'link': 'https://www.vinmec.com/tin-tuc/thong-tin-suc-khoe/nhi/phat-hien-va-dieu-tri-veo-co-o-tre-nho/',\n",
    "     'content': 'Phát hiện và điều trị vẹo cổ ở trẻ nhỏ,  Tật vẹo cổ ở trẻ nhỏ là gì?,  Phát hiện tật vẹo cổ ở trẻ nhỏ,  Điều trị vẹo cổ ở trẻ nhỏ,'},\n",
    "    {'link': 'https://www.vinmec.com/vi/ung-buou-xa-tri/thong-tin-suc-khoe/hay-nghen-cho-xem-thuong/',\n",
    "     'content': 'Ăn hay nghẹn: Chớ xem thường,  Như thế nào là nuốt nghẹn?,  Nguyên nhân nuốt nghẹn,  Biểu hiện của nuốt nghẹn là như thế nào?,  Các phương pháp xử trí cấp cứu khi gặp người bị nghẹn,  Cách phòng chống nuốt nghẹn,'},\n",
    "    \n",
    "    \n",
    "]"
   ]
  },
  {
   "cell_type": "code",
   "execution_count": 66,
   "metadata": {},
   "outputs": [],
   "source": [
    "info = [\n",
    "    ['https://www.vinmec.com/tin-tuc/thong-tin-suc-khoe/nhi/lam-nao-khi-tre-bi-veo-co-nghieng-dau/',\n",
    "     'Làm thế nào khi trẻ bị vẹo cổ nghiêng đầu?,  Vẹo cổ nghiêng đầu ở trẻ là gì?,  Triệu chứng vẹo cổ ở trẻ em,  Điều trị vẹo cổ nghiêng đầu đúng cách cho trẻ,'],\n",
    "    ['https://www.vinmec.com/tin-tuc/thong-tin-suc-khoe/nhi/phat-hien-va-dieu-tri-veo-co-o-tre-nho/',\n",
    "     'Phát hiện và điều trị vẹo cổ ở trẻ nhỏ,  Tật vẹo cổ ở trẻ nhỏ là gì?,  Phát hiện tật vẹo cổ ở trẻ nhỏ,  Điều trị vẹo cổ ở trẻ nhỏ,'],\n",
    "    ['https://www.vinmec.com/vi/tin-tuc/thong-tin-suc-khoe/suc-khoe-tong-quat/huong-dan-xu-tri-cap-cuu-hoc-nghen/',\n",
    "     'Hướng dẫn xử trí cấp cứu hóc nghẹn,  Hóc nghẹn ở người lớn và trẻ em,  Hóc nghẹn ở trẻ nhũ nhi (Dưới 1 tuổi),  Cấp cứu cho những nạn nhân hóc nghẹn nặng và mất đáp ứng,'],\n",
    "    ['https://www.vinmec.com/vi/ung-buou-xa-tri/thong-tin-suc-khoe/hay-nghen-cho-xem-thuong/',\n",
    "     'Ăn hay nghẹn: Chớ xem thường,  Như thế nào là nuốt nghẹn?,  Nguyên nhân nuốt nghẹn,  Biểu hiện của nuốt nghẹn là như thế nào?,  Các phương pháp xử trí cấp cứu khi gặp người bị nghẹn,  Cách phòng chống nuốt nghẹn,']\n",
    "]"
   ]
  },
  {
   "cell_type": "code",
   "execution_count": 70,
   "metadata": {},
   "outputs": [],
   "source": [
    "question = \"Bị mắc nghẹn thì phải làm sao?\"\n",
    "res = vin_retriever.prompt_find_relevant_links(question, info, 2)"
   ]
  },
  {
   "cell_type": "code",
   "execution_count": 71,
   "metadata": {},
   "outputs": [
    {
     "data": {
      "text/plain": [
       "'https://www.vinmec.com/vi/tin-tuc/thong-tin-suc-khoe/suc-khoe-tong-quat/huong-dan-xu-tri-cap-cuu-hoc-nghen/\\nhttps://www.vinmec.com/vi/ung-buou-xa-tri/thong-tin-suc-khoe/hay-nghen-cho-xem-thuong/'"
      ]
     },
     "execution_count": 71,
     "metadata": {},
     "output_type": "execute_result"
    }
   ],
   "source": [
    "res"
   ]
  },
  {
   "cell_type": "code",
   "execution_count": null,
   "metadata": {},
   "outputs": [],
   "source": []
  }
 ],
 "metadata": {
  "kernelspec": {
   "display_name": "Python 3",
   "language": "python",
   "name": "python3"
  },
  "language_info": {
   "codemirror_mode": {
    "name": "ipython",
    "version": 3
   },
   "file_extension": ".py",
   "mimetype": "text/x-python",
   "name": "python",
   "nbconvert_exporter": "python",
   "pygments_lexer": "ipython3",
   "version": "3.10.11"
  }
 },
 "nbformat": 4,
 "nbformat_minor": 2
}
