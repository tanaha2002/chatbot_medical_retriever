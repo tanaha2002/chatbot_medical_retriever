{
 "cells": [
  {
   "cell_type": "code",
   "execution_count": 197,
   "metadata": {},
   "outputs": [
    {
     "name": "stdout",
     "output_type": "stream",
     "text": [
      "connect successfully\n"
     ]
    }
   ],
   "source": [
    "import nest_asyncio\n",
    "nest_asyncio.apply()\n",
    "import VinRAG\n",
    "import importlib\n",
    "#using importlib to reload module\n",
    "importlib.reload(VinRAG)\n",
    "from VinRAG import VinmecRetriever\n",
    "import streamlit as st\n",
    "\n",
    "DB_VECTOR = \"vinmec_embedding_2\"\n",
    "DB_ROOT = \"api\"\n",
    "url_pg_vector = st.secrets['url_pg_vector'] +\"/{db}\" #store information embedding\n",
    "\n",
    "model = \"gpt-3.5-turbo-1106\"\n",
    "api_key = st.secrets['api_key']\n",
    "vin_retriever = VinmecRetriever(DB_VECTOR, DB_ROOT, url_pg_vector,model,api_key)\n"
   ]
  },
  {
   "cell_type": "code",
   "execution_count": 198,
   "metadata": {},
   "outputs": [],
   "source": [
    "info = [\n",
    "    '1. Phát hiện và điều trị vẹo cổ ở trẻ nhỏ,  Tật vẹo cổ ở trẻ nhỏ là gì?,  Phát hiện tật vẹo cổ ở trẻ nhỏ,  Điều trị vẹo cổ ở trẻ nhỏ,',\n",
    "    '2. Ngủ bị trẹo cổ làm sao cho hết ?,  Nguyên nhân ngủ dậy bị trẹo cổ,  Ngủ bị trẹo cổ làm sao hết?,  Phương pháp xoa bóp bấm huyệt chữa trẹo cổ,  Các biện pháp phòng tình trạng ngủ bị trẹo cổ,',\n",
    "    '3. Bị đau vai phải sau khi ngủ dậy,  Một số nguyên nhân gây đau vai sau khi ngủ dậy,  Cần làm gì để hạn chế bị đau vai sau khi ngủ dậy?,',\n",
    "    '4. Điều trị đau sau mổ,  Đau sau mổ là gì?,  Các phương pháp đánh giá mức độ đau sau mổ,  Vai trò của điều trị đau sau mổ,  Các phương pháp điều trị đau sau mổ,',\n",
    "]"
   ]
  },
  {
   "cell_type": "code",
   "execution_count": 199,
   "metadata": {},
   "outputs": [
    {
     "name": "stdout",
     "output_type": "stream",
     "text": [
      "\n",
      "            You are a helpful assistant that determines the indexes are most relative to query.\n",
      "            Maybe some index contain a little the information about the query, make sure you read them all carefully.\n",
      "            If you think it is useful for you, you can select it. No need to explain.\n",
      "            Always respond index number.\n",
      "            Example:\n",
      "            Query: What is the symptom of covid?\n",
      "            Information:\n",
      "            1. Covid is a disease caused by SARS-CoV-2 virus.\n",
      "            2. The most common symptoms of COVID-19 are fever, dry cough, and tiredness.\n",
      "            3. covid is done in 2023\n",
      "            4. Some people become infected.\n",
      "            Selected index: 1,2,4\n",
      "            If there noone index relative then return 'None'.\n",
      "            Query: Bị đau sau cổ thì phải làm sao?\n",
      "\n",
      "            Information: \n",
      "['1. Hướng dẫn xử trí cấp cứu hóc nghẹn,  Hóc nghẹn ở người lớn và trẻ em,  Hóc nghẹn ở trẻ nhũ nhi (Dưới 1 tuổi),  Cấp cứu cho những nạn nhân hóc nghẹn nặng và mất đáp ứng,', '2. Làm thế nào khi trẻ bị vẹo cổ nghiêng đầu?,  Vẹo cổ nghiêng đầu ở trẻ là gì?,  Triệu chứng vẹo cổ ở trẻ em,  Điều trị vẹo cổ nghiêng đầu đúng cách cho trẻ,', '3. Làm gì khi bị trẹo cổ?,  Bị trẹo cổ là gì?,  Bị trẹo cổ nên làm gì?,', '4. Ăn hay nghẹn: Chớ xem thường,  Như thế nào là nuốt nghẹn?,  Nguyên nhân nuốt nghẹn,  Biểu hiện của nuốt nghẹn là như thế nào?,  Các phương pháp xử trí cấp cứu khi gặp người bị nghẹn,  Cách phòng chống nuốt nghẹn,']\n",
      "\n",
      "            Selected index:\n",
      "            \n"
     ]
    }
   ],
   "source": [
    "question = \"Bị đau sau cổ thì phải làm sao?\"\n",
    "res = vin_retriever.prompt_find_relevant_links(question, info)"
   ]
  },
  {
   "cell_type": "code",
   "execution_count": 200,
   "metadata": {},
   "outputs": [
    {
     "data": {
      "text/plain": [
       "'None'"
      ]
     },
     "execution_count": 200,
     "metadata": {},
     "output_type": "execute_result"
    }
   ],
   "source": [
    "res"
   ]
  },
  {
   "cell_type": "code",
   "execution_count": 201,
   "metadata": {},
   "outputs": [],
   "source": [
    "import re\n",
    "index = re.findall(r'\\d', res)\n",
    "for i in index:\n",
    "    print(i)"
   ]
  },
  {
   "cell_type": "code",
   "execution_count": null,
   "metadata": {},
   "outputs": [],
   "source": []
  }
 ],
 "metadata": {
  "kernelspec": {
   "display_name": "Python 3",
   "language": "python",
   "name": "python3"
  },
  "language_info": {
   "codemirror_mode": {
    "name": "ipython",
    "version": 3
   },
   "file_extension": ".py",
   "mimetype": "text/x-python",
   "name": "python",
   "nbconvert_exporter": "python",
   "pygments_lexer": "ipython3",
   "version": "3.10.11"
  }
 },
 "nbformat": 4,
 "nbformat_minor": 2
}
