{
 "cells": [
  {
   "cell_type": "code",
<<<<<<< HEAD
   "execution_count": 197,
=======
   "execution_count": 1,
>>>>>>> main
   "metadata": {},
   "outputs": [
    {
     "name": "stdout",
     "output_type": "stream",
     "text": [
      "connect successfully\n"
     ]
    }
   ],
   "source": [
    "import nest_asyncio\n",
    "nest_asyncio.apply()\n",
    "import VinRAG\n",
    "import importlib\n",
    "#using importlib to reload module\n",
    "importlib.reload(VinRAG)\n",
    "from VinRAG import VinmecRetriever\n",
    "import streamlit as st\n",
    "\n",
<<<<<<< HEAD
    "DB_VECTOR = \"vinmec_embedding_2\"\n",
=======
    "DB_VECTOR = \"storage_index\"\n",
>>>>>>> main
    "DB_ROOT = \"api\"\n",
    "url_pg_vector = st.secrets['url_pg_vector'] +\"/{db}\" #store information embedding\n",
    "\n",
    "model = \"gpt-3.5-turbo-1106\"\n",
    "api_key = st.secrets['api_key']\n",
    "vin_retriever = VinmecRetriever(DB_VECTOR, DB_ROOT, url_pg_vector,model,api_key)\n"
   ]
  },
  {
   "cell_type": "code",
<<<<<<< HEAD
   "execution_count": 198,
   "metadata": {},
   "outputs": [],
   "source": [
    "info = [\n",
    "    '1. Phát hiện và điều trị vẹo cổ ở trẻ nhỏ,  Tật vẹo cổ ở trẻ nhỏ là gì?,  Phát hiện tật vẹo cổ ở trẻ nhỏ,  Điều trị vẹo cổ ở trẻ nhỏ,',\n",
    "    '2. Ngủ bị trẹo cổ làm sao cho hết ?,  Nguyên nhân ngủ dậy bị trẹo cổ,  Ngủ bị trẹo cổ làm sao hết?,  Phương pháp xoa bóp bấm huyệt chữa trẹo cổ,  Các biện pháp phòng tình trạng ngủ bị trẹo cổ,',\n",
    "    '3. Bị đau vai phải sau khi ngủ dậy,  Một số nguyên nhân gây đau vai sau khi ngủ dậy,  Cần làm gì để hạn chế bị đau vai sau khi ngủ dậy?,',\n",
    "    '4. Điều trị đau sau mổ,  Đau sau mổ là gì?,  Các phương pháp đánh giá mức độ đau sau mổ,  Vai trò của điều trị đau sau mổ,  Các phương pháp điều trị đau sau mổ,',\n",
    "]"
=======
   "execution_count": 2,
   "metadata": {},
   "outputs": [
    {
     "name": "stdout",
     "output_type": "stream",
     "text": [
      "1. Nhói ngực khi bê vật nặng kèm khó thở là bị làm sao?,\n",
      "2. Trẻ sơ sinh bị nghẹt mũi phải làm sao?,\n",
      "3. Nhiễm trùng vết mổ phải làm sao?,\n",
      "4. Bé bị nghẹo cổ phải điều trị như thế nào?,\n",
      "5. Làm gì khi trẻ bị động vật cắn?,  Xử lý khi trẻ bị động vật cắn,  Nguy cơ bệnh dại khi trẻ bị động vật cắn,  Các bệnh nhiễm trùng khác,  Phòng ngừa trẻ bị động vật cắn,\n",
      "6. Sơ cứu vết thương do động vật cắn,  Cách sơ cứu vết thương do động vật cắn nhẹ,  Khi bị động vật cắn cần phải đến bệnh viện,  Điều trị và theo dõi tiếp theo,\n",
      "\n"
     ]
    }
   ],
   "source": [
    "title,title_str = vin_retriever.get_customRV(\"Bị nghẹn vật to ở cổ thì phải làm sao?\")\n",
    "print(title_str)"
>>>>>>> main
   ]
  },
  {
   "cell_type": "code",
<<<<<<< HEAD
   "execution_count": 199,
=======
   "execution_count": 3,
>>>>>>> main
   "metadata": {},
   "outputs": [
    {
     "name": "stdout",
     "output_type": "stream",
     "text": [
      "\n",
<<<<<<< HEAD
      "            You are a helpful assistant that determines the indexes are most relative to query.\n",
      "            Maybe some index contain a little the information about the query, make sure you read them all carefully.\n",
      "            If you think it is useful for you, you can select it. No need to explain.\n",
      "            Always respond index number.\n",
      "            Example:\n",
      "            Query: What is the symptom of covid?\n",
      "            Information:\n",
      "            1. Covid is a disease caused by SARS-CoV-2 virus.\n",
      "            2. The most common symptoms of COVID-19 are fever, dry cough, and tiredness.\n",
      "            3. covid is done in 2023\n",
      "            4. Some people become infected.\n",
      "            Selected index: 1,2,4\n",
      "            If there noone index relative then return 'None'.\n",
      "            Query: Bị đau sau cổ thì phải làm sao?\n",
      "\n",
      "            Information: \n",
      "['1. Hướng dẫn xử trí cấp cứu hóc nghẹn,  Hóc nghẹn ở người lớn và trẻ em,  Hóc nghẹn ở trẻ nhũ nhi (Dưới 1 tuổi),  Cấp cứu cho những nạn nhân hóc nghẹn nặng và mất đáp ứng,', '2. Làm thế nào khi trẻ bị vẹo cổ nghiêng đầu?,  Vẹo cổ nghiêng đầu ở trẻ là gì?,  Triệu chứng vẹo cổ ở trẻ em,  Điều trị vẹo cổ nghiêng đầu đúng cách cho trẻ,', '3. Làm gì khi bị trẹo cổ?,  Bị trẹo cổ là gì?,  Bị trẹo cổ nên làm gì?,', '4. Ăn hay nghẹn: Chớ xem thường,  Như thế nào là nuốt nghẹn?,  Nguyên nhân nuốt nghẹn,  Biểu hiện của nuốt nghẹn là như thế nào?,  Các phương pháp xử trí cấp cứu khi gặp người bị nghẹn,  Cách phòng chống nuốt nghẹn,']\n",
      "\n",
      "            Selected index:\n",
      "            \n"
=======
      "        You are a helpful assistant that determines the index relative to query.  \n",
      "        Maybe some index contain a little the information about the query, make sure you read it carefully.\n",
      "        If you think it is useful for you, you can select it. No need to explain.\n",
      "        Always respond index number.\n",
      "        Example:\n",
      "        Query: What is the symptom of covid?\n",
      "        Information:\n",
      "        1. Covid is a disease caused by SARS-CoV-2 virus.\n",
      "        2. The most common symptoms of COVID-19 are fever, dry cough, and tiredness.\n",
      "        3. covid is done in 2023\n",
      "        4. Some people become infected.\n",
      "        Selected index: 1,2,4\n",
      "        If there noone index relative then return `None`.\n",
      "        Query: Bị nghẹn vật to ở cổ thì phải làm sao?\n",
      "\n",
      "        Information: \n",
      "1. Nhói ngực khi bê vật nặng kèm khó thở là bị làm sao?,\n",
      "2. Trẻ sơ sinh bị nghẹt mũi phải làm sao?,\n",
      "3. Nhiễm trùng vết mổ phải làm sao?,\n",
      "4. Bé bị nghẹo cổ phải điều trị như thế nào?,\n",
      "5. Làm gì khi trẻ bị động vật cắn?,  Xử lý khi trẻ bị động vật cắn,  Nguy cơ bệnh dại khi trẻ bị động vật cắn,  Các bệnh nhiễm trùng khác,  Phòng ngừa trẻ bị động vật cắn,\n",
      "6. Sơ cứu vết thương do động vật cắn,  Cách sơ cứu vết thương do động vật cắn nhẹ,  Khi bị động vật cắn cần phải đến bệnh viện,  Điều trị và theo dõi tiếp theo,\n",
      "\n",
      "\n",
      "        Selected index:\n",
      "        \n",
      "1, 4\n"
>>>>>>> main
     ]
    }
   ],
   "source": [
<<<<<<< HEAD
    "question = \"Bị đau sau cổ thì phải làm sao?\"\n",
    "res = vin_retriever.prompt_find_relevant_links(question, info)"
=======
    "ans = vin_retriever.decide_index_retriever(question=\"Bị nghẹn vật to ở cổ thì phải làm sao?\",title_str=title_str)\n",
    "print(ans)"
>>>>>>> main
   ]
  },
  {
   "cell_type": "code",
<<<<<<< HEAD
   "execution_count": 200,
   "metadata": {},
   "outputs": [
    {
     "data": {
      "text/plain": [
       "'None'"
      ]
     },
     "execution_count": 200,
     "metadata": {},
     "output_type": "execute_result"
    }
   ],
   "source": [
    "res"
   ]
  },
  {
   "cell_type": "code",
   "execution_count": 201,
   "metadata": {},
   "outputs": [],
   "source": [
    "import re\n",
    "index = re.findall(r'\\d', res)\n",
    "for i in index:\n",
    "    print(i)"
=======
   "execution_count": 5,
   "metadata": {},
   "outputs": [
    {
     "name": "stdout",
     "output_type": "stream",
     "text": [
      "['https://www.vinmec.com/tim-mach/tu-van-bac-si/nhoi-nguc-khi-be-vat-nang-kem-kho-tho-la-bi-lam-sao/', 'https://www.vinmec.com/tin-tuc/hoi-dap-bac-si/be-bi-ngheo-co-phai-dieu-tri-nhu-nao/']\n"
     ]
    }
   ],
   "source": [
    "print(vin_retriever.get_index(ans,title))"
>>>>>>> main
   ]
  },
  {
   "cell_type": "code",
   "execution_count": null,
   "metadata": {},
   "outputs": [],
   "source": []
  }
 ],
 "metadata": {
  "kernelspec": {
   "display_name": "Python 3",
   "language": "python",
   "name": "python3"
  },
  "language_info": {
   "codemirror_mode": {
    "name": "ipython",
    "version": 3
   },
   "file_extension": ".py",
   "mimetype": "text/x-python",
   "name": "python",
   "nbconvert_exporter": "python",
   "pygments_lexer": "ipython3",
<<<<<<< HEAD
   "version": "3.10.11"
=======
   "version": "3.9.13"
>>>>>>> main
  }
 },
 "nbformat": 4,
 "nbformat_minor": 2
}
