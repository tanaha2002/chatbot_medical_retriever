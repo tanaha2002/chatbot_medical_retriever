{
 "cells": [
  {
   "cell_type": "code",
   "execution_count": 2,
   "metadata": {},
   "outputs": [
    {
     "name": "stdout",
     "output_type": "stream",
     "text": [
      "connect successfully\n"
     ]
    }
   ],
   "source": [
    "import nest_asyncio\n",
    "nest_asyncio.apply()\n",
    "import VinRAG\n",
    "import importlib\n",
    "#using importlib to reload module\n",
    "importlib.reload(VinRAG)\n",
    "from VinRAG import VinmecRetriever\n",
    "import streamlit as st\n",
    "\n",
    "DB_VECTOR = \"storage_index\"\n",
    "DB_ROOT = \"api\"\n",
    "url_pg_vector = st.secrets['url_pg_vector'] +\"/{db}\" #store information embedding\n",
    "\n",
    "model = \"gpt-3.5-turbo-1106\"\n",
    "api_key = st.secrets['api_key']\n",
    "vin_retriever = VinmecRetriever(DB_VECTOR, DB_ROOT, url_pg_vector,model,api_key)"
   ]
  },
  {
   "cell_type": "code",
   "execution_count": 3,
   "metadata": {},
   "outputs": [
    {
     "name": "stdout",
     "output_type": "stream",
     "text": [
      "SEARCH Chăm sóc và điều trị cho trật cổ\n",
      "Tài liệu liên quan: \n",
      "https://www.vinmec.com/tin-tuc/thong-tin-suc-khoe/nhi/phat-hien-va-dieu-tri-veo-co-o-tre-nho/\n",
      "https://www.vinmec.com/ung-buou-xa-tri/thong-tin-suc-khoe/cham-soc-giam-nhe-cho-benh-nhan-ung-thu/\n",
      "Trật cổ là một tình trạng khi cột sống cổ của trẻ bị vẹo hoặc không đúng tư thế. Để chăm sóc và điều trị cho trẻ bị trật cổ, có thể áp dụng các biện pháp sau:\n",
      "\n",
      "1. Phát hiện sớm và chẩn đoán: Khi phát hiện trẻ có bất thường tư thế cột sống cổ và đầu, hạn chế cử động quay, xoay cổ, cha mẹ cần đưa trẻ đi khám bác sĩ chuyên khoa để được chẩn đoán nguyên nhân và can thiệp điều trị sớm.\n",
      "\n",
      "2. Đeo nẹp cổ mềm: Đeo nẹp cổ mềm là một phương pháp điều trị hỗ trợ giúp trẻ phục hồi chức năng và điều chỉnh tư thế cổ tốt hơn. Tuy nhiên, việc đeo nẹp cổ mềm cần được chỉ định và hướng dẫn bởi bác sĩ chuyên khoa.\n",
      "\n",
      "3. Tập luyện phục hồi chức năng: Sau can thiệp, trẻ cần được tập luyện phục hồi chức năng và điều chỉnh tư thế. Các bài tập và phương pháp tập luyện phục hồi chức năng cụ thể sẽ được chỉ định bởi bác sĩ chuyên khoa.\n",
      "\n",
      "4. Theo dõi và kiểm tra định kỳ: Sau khi điều trị, trẻ cần được theo dõi và kiểm tra định kỳ để đánh giá kết quả điều trị và điều chỉnh phương pháp điều trị nếu cần.\n",
      "\n",
      "Nguồn: [Vinmec](https://www.vinmec.com/tin-tuc/thong-tin-suc-khoe/nhi/phat-hien-va-dieu-tri-veo-co-o-tre-nho/)"
     ]
    }
   ],
   "source": [
    "question = \"Bị trật cổ nên làm thế nào?\"\n",
    "ans=vin_retriever.behavior_controller(question,vin_retriever.create_retriever_stupid_2)\n",
    "for text in ans:\n",
    "    print(text,end=\"\")"
   ]
  },
  {
   "cell_type": "code",
   "execution_count": 7,
   "metadata": {},
   "outputs": [
    {
     "data": {
      "text/plain": [
       "[('https://www.vinmec.com/ung-buou-xa-tri/thong-tin-suc-khoe/cham-soc-giam-nhe-cho-benh-nhan-ung-thu/',\n",
       "  'Chăm sóc giảm nhẹ cho bệnh nhân ung thư,  Chăm sóc giảm nhẹ cho bệnh nhân ung thư là gì?,  Các phương pháp chăm sóc giảm nhẹ trong ung thư,  Chăm sóc giảm nhẹ cho một số đối tượng đặc biệt,'),\n",
       " ('https://www.vinmec.com/tin-tuc/thong-tin-suc-khoe/nhi/vi-sao-tre-de-bi-nhiem-trung-so-sinh/',\n",
       "  'Vì sao trẻ dễ bị nhiễm trùng sơ sinh?,  Nhiễm trùng sơ sinh là gì?,  Vì sao trẻ dễ bị nhiễm trùng sơ sinh?,  Triệu chứng nhiễm trùng sơ sinh,  Nhiễm trùng sơ sinh có nguy hiểm không?,  Điều trị nhiễm trùng sơ sinh,'),\n",
       " ('https://www.vinmec.com/tin-tuc/thong-tin-suc-khoe/nhi/cach-cham-soc-tre-dang-om-va-che-do-dinh-duong-phu-hop/',\n",
       "  'Cách chăm sóc trẻ đang ốm và chế độ dinh dưỡng phù hợp,  Hướng dẫn chăm sóc trẻ đang ốm để mau hồi phục,  Dinh dưỡng cho trẻ đang ốm,'),\n",
       " ('https://www.vinmec.com/tin-tuc/thong-tin-suc-khoe/nhi/dieu-tri-va-cham-soc-tre-nho-bi-viem-phoi/',\n",
       "  'Điều trị và chăm sóc trẻ nhỏ bị viêm phổi,  Tổng quan bệnh viêm phổi ở trẻ em,  Điều trị và chăm sóc trẻ viêm phổi đúng cách,  Cách phòng bệnh viêm phổi ở trẻ,'),\n",
       " ('https://www.vinmec.com/tin-tuc/thong-tin-suc-khoe/nhi/phat-hien-va-dieu-tri-veo-co-o-tre-nho/',\n",
       "  'Phát hiện và điều trị vẹo cổ ở trẻ nhỏ,  Tật vẹo cổ ở trẻ nhỏ là gì?,  Phát hiện tật vẹo cổ ở trẻ nhỏ,  Điều trị vẹo cổ ở trẻ nhỏ,')]"
      ]
     },
     "execution_count": 7,
     "metadata": {},
     "output_type": "execute_result"
    }
   ],
   "source": [
    "title,title_str = vin_retriever.get_customRV(\"Chăm sóc và điều trị cho trật cổ\")\n",
    "title"
   ]
  },
  {
   "cell_type": "code",
   "execution_count": 8,
   "metadata": {},
   "outputs": [
    {
     "data": {
      "text/plain": [
       "'1. Chăm sóc giảm nhẹ cho bệnh nhân ung thư\\n2. Vì sao trẻ dễ bị nhiễm trùng sơ sinh?\\n3. Cách chăm sóc trẻ đang ốm và chế độ dinh dưỡng phù hợp\\n4. Điều trị và chăm sóc trẻ nhỏ bị viêm phổi\\n5. Phát hiện và điều trị vẹo cổ ở trẻ nhỏ\\n'"
      ]
     },
     "execution_count": 8,
     "metadata": {},
     "output_type": "execute_result"
    }
   ],
   "source": [
    "title_str"
   ]
  },
  {
   "cell_type": "code",
   "execution_count": 9,
   "metadata": {},
   "outputs": [
    {
     "name": "stdout",
     "output_type": "stream",
     "text": [
      "\n",
      "        Bạn là người trợ giúp hữu ích trong việc giúp xác định các mục trong danh sách dưới đây tương ứng với cùng loại bệnh như trong truy vấn của tôi.\n",
      "        Hãy chắc chắn rằng bạn đọc tất cả chúng một cách cẩn thận.\n",
      "        Vui lòng xem xét danh sách các mô tả bệnh tật và chỉ ra các mục mô tả cùng loại bệnh như trong câu hỏi của tôi.\n",
      "        Chỉ mục được chọn bao gồm các mục mô tả các triệu chứng hoặc vấn đề liên quan đến cùng loại bệnh như được đề cập trong truy vấn. Xác định tất cả các chỉ số có liên quan.\n",
      "        Không cần phải giải thích.\n",
      "        Luôn trả lời số chỉ mục.\n",
      "        Ví dụ:\n",
      "        Hỏi: Chăm sóc và điều trị bong gân cổ?\n",
      "        Thông tin:\n",
      "        1. Bị bong gân cổ phải làm sao?\n",
      "        2. Trẻ mới biết đi từ 2-4 tuổi có bị trầm cảm không?\n",
      "        3. Hướng dẫn chăm sóc trẻ bị ho\n",
      "        4. Trẻ rất nhạy cảm\n",
      "        5. Làm thế nào để giảm căng cơ cổ khi ngủ?\n",
      "        6. Điều trị và chăm sóc trẻ nhỏ bị viêm phổi\n",
      "        Chỉ số đã chọn: 1, 5\n",
      "        Nếu không có chỉ mục tương đối thì trả về `None`.\n",
      "        Truy vấn: Chăm sóc và điều trị cho trật cổ\n",
      "\n",
      "        Thông tin: \n",
      "1. Chăm sóc giảm nhẹ cho bệnh nhân ung thư\n",
      "2. Vì sao trẻ dễ bị nhiễm trùng sơ sinh?\n",
      "3. Cách chăm sóc trẻ đang ốm và chế độ dinh dưỡng phù hợp\n",
      "4. Điều trị và chăm sóc trẻ nhỏ bị viêm phổi\n",
      "5. Phát hiện và điều trị vẹo cổ ở trẻ nhỏ\n",
      "\n",
      "\n",
      "        Chỉ số đã chọn:\n",
      "        \n",
      "5\n"
     ]
    }
   ],
   "source": [
    "res = vin_retriever.decide_index_retriever(\"Chăm sóc và điều trị cho trật cổ\", title_str= title_str)\n",
    "print(res)"
   ]
  },
  {
   "cell_type": "code",
   "execution_count": null,
   "metadata": {},
   "outputs": [],
   "source": []
  },
  {
   "cell_type": "code",
   "execution_count": null,
   "metadata": {},
   "outputs": [],
   "source": []
  }
 ],
 "metadata": {
  "kernelspec": {
   "display_name": "Python 3",
   "language": "python",
   "name": "python3"
  },
  "language_info": {
   "codemirror_mode": {
    "name": "ipython",
    "version": 3
   },
   "file_extension": ".py",
   "mimetype": "text/x-python",
   "name": "python",
   "nbconvert_exporter": "python",
   "pygments_lexer": "ipython3",
   "version": "3.9.13"
  }
 },
 "nbformat": 4,
 "nbformat_minor": 2
}
