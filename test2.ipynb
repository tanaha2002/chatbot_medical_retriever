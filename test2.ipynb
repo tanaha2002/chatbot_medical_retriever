{
 "cells": [
  {
   "cell_type": "code",
   "execution_count": 1,
   "metadata": {},
   "outputs": [],
   "source": [
    "import os\n",
    "\n",
    "os.chdir(\"..\")\n",
    "os.chdir(\"D:\\du-ws\\\\text2SQL\\chatbot_medical_retriever\")\n"
   ]
  },
  {
   "cell_type": "code",
   "execution_count": 2,
   "metadata": {},
   "outputs": [
    {
     "name": "stdout",
     "output_type": "stream",
     "text": [
      "connect successfully\n"
     ]
    }
   ],
   "source": [
    "import nest_asyncio\n",
    "nest_asyncio.apply()\n",
    "import VinRAG\n",
    "import importlib\n",
    "#using importlib to reload module\n",
    "importlib.reload(VinRAG)\n",
    "from VinRAG import VinmecRetriever\n",
    "import streamlit as st\n",
    "\n",
    "DB_VECTOR = \"storage_index\"\n",
    "DB_ROOT = \"api\"\n",
    "url_pg_vector = st.secrets['url_pg_vector'] +\"/{db}\" #store information embedding\n",
    "\n",
    "model = \"gpt-3.5-turbo-1106\"\n",
    "api_key = st.secrets['api_key']\n",
    "vin_retriever = VinmecRetriever(DB_VECTOR, DB_ROOT, url_pg_vector,model,api_key)"
   ]
  },
  {
   "cell_type": "markdown",
   "metadata": {},
   "source": [
    "final test"
   ]
  },
  {
   "cell_type": "code",
   "execution_count": 3,
   "metadata": {},
   "outputs": [
    {
     "name": "stdout",
     "output_type": "stream",
     "text": [
      "Tài liệu liên quan: \n",
      "https://www.vinmec.com/tin-tuc/hoi-dap-bac-si/be-bi-ngheo-co-phai-dieu-tri-nhu-nao/\n",
      "https://www.vinmec.com/ung-buou-xa-tri/thong-tin-suc-khoe/hay-nghen-cho-xem-thuong/\n",
      "https://www.vinmec.com/co-xuong-khop/suc-khoe-thuong-thuc/ngu-bi-treo-co-lam-sao-cho-het/\n",
      "Khi bị nghẹn vật to ở cổ, bạn cần cấp cứu ngay tại chỗ. Đầu tiên, hãy tranh thủ từng giây phút để làm khai thông khí quản và đồng thời gọi báo cho mọi người và bác sĩ đến hỗ trợ. Nếu bạn vẫn tỉnh táo, hãy ngồi và hơi cúi nửa người trên ra phía trước, sau đó gắng sức ho mạnh. Khi ho, sẽ tạo ra dòng khí đẩy vật nằm trong đường hô hấp ra ngoài hoặc tạo khe hở cho việc thở. Bạn có thể đứng ở phía sau, dùng tay đập mạnh 4 cái liên tiếp vào vùng lưng giữa hai xương bả vai. Nếu bạn bị nghẹn trong tình trạng bất tỉnh, bạn cần cho nạn nhân nằm nghiêng và thực hiện các thao tác như trên. Nếu vật nằm trong đường hô hấp là thức ăn đặc, nhầy, dính, bạn cần phải để nạn nhân nằm nghiêng và dùng hai ngón tay móc hoặc kẹp vật bị tắc lôi ra. Tuy nhiên, nếu tình trạng nghẹn vật không được giải quyết, bạn nên đến ngay các cơ sở y tế chuyên khoa để được khám và điều trị kịp thời. Hãy nhớ rằng, thông tin này chỉ mang tính chất tham khảo và bạn nên tìm hiểu thêm tại Bệnh viện Đa khoa Quốc tế Vinmec để được tư vấn chi tiết và chính xác hơn."
     ]
    }
   ],
   "source": [
    "ans = vin_retriever.hybrid_retriever_engine(\"Bị nghẹn vật to ở cổ phải làm sao?\")\n",
    "for text in ans:\n",
    "    print(text,end=\"\")"
   ]
  },
  {
   "cell_type": "code",
   "execution_count": 4,
   "metadata": {},
   "outputs": [
    {
     "name": "stdout",
     "output_type": "stream",
     "text": [
      "\n",
      "        Bạn là người trợ giúp hữu ích trong việc giúp xác định các mục trong danh sách dưới đây tương ứng với cùng loại bệnh như trong truy vấn của tôi.\n",
      "        Hãy chắc chắn rằng bạn đọc tất cả chúng một cách cẩn thận.\n",
      "        Vui lòng xem xét danh sách các mô tả bệnh tật và chỉ ra các mục mô tả cùng loại bệnh như trong câu hỏi của tôi.\n",
      "        Chỉ mục được chọn bao gồm các mục mô tả các triệu chứng hoặc vấn đề liên quan đến cùng loại bệnh như được đề cập trong truy vấn. Xác định tất cả các chỉ số có liên quan.\n",
      "        Không cần phải giải thích.\n",
      "        Luôn trả lời số chỉ mục.\n",
      "        Ví dụ:\n",
      "        Hỏi: Chăm sóc và điều trị bong gân cổ?\n",
      "        Thông tin:\n",
      "        1. Bị bong gân cổ phải làm sao?\n",
      "        2. Trẻ mới biết đi từ 2-4 tuổi có bị trầm cảm không?\n",
      "        3. Hướng dẫn chăm sóc trẻ bị ho\n",
      "        4. Trẻ rất nhạy cảm\n",
      "        5. Làm thế nào để giảm căng cơ cổ khi ngủ?\n",
      "        6. Điều trị và chăm sóc trẻ nhỏ bị viêm phổi\n",
      "        Chỉ số đã chọn: 1, 5\n",
      "        Nếu không có chỉ mục tương đối thì trả về `None`.\n",
      "        Truy vấn: Bị nghẹn vật to ở cổ phải làm sao?\n",
      "\n",
      "        Thông tin: \n",
      "1. Bị nổi mụn mủ ở cổ phải làm sao?,\n",
      "2. Nghẹn ở ngực trái, tim đập mạnh là bị làm sao?,\n",
      "3. Ăn hay nghẹn: Chớ xem thường,  Như thế nào là nuốt nghẹn?,  Nguyên nhân nuốt nghẹn,  Biểu hiện của nuốt nghẹn là như thế nào?,  Các phương pháp xử trí cấp cứu khi gặp người bị nghẹn,  Cách phòng chống nuốt nghẹn,\n",
      "4. Ngủ bị trẹo cổ làm sao cho hết ?,  Nguyên nhân ngủ dậy bị trẹo cổ,  Ngủ bị trẹo cổ làm sao hết?,  Phương pháp xoa bóp bấm huyệt chữa trẹo cổ,  Các biện pháp phòng tình trạng ngủ bị trẹo cổ,\n",
      "5. Nhiễm trùng vết mổ phải làm sao?,\n",
      "6. Bé bị nghẹo cổ phải điều trị như thế nào?,\n",
      "\n",
      "\n",
      "        Chỉ số đã chọn:\n",
      "        \n",
      "Tài liệu liên quan: \n",
      "https://www.vinmec.com/ung-buou-xa-tri/thong-tin-suc-khoe/hay-nghen-cho-xem-thuong/\n",
      "https://www.vinmec.com/tim-mach/tu-van-bac-si/nghen-o-nguc-trai-tim-dap-manh-la-bi-lam-sao/\n",
      "Khi bị nghẹn vật to ở cổ phải, bạn cần cấp cứu ngay tại chỗ để đảm bảo an toàn cho bệnh nhân. Đầu tiên, hãy yêu cầu bác sĩ hoặc mọi người xung quanh đến hỗ trợ. Bạn nên nhắc bệnh nhân ngồi và hơi cúi nửa người trước, sau đó yêu cầu bệnh nhân gắng sức ho mạnh. Khi ho, dòng khí sẽ được tạo ra để đẩy vật nằm trong đường hô hấp ra ngoài hoặc tạo khe hở cho việc thở. Bạn có thể đứng phía sau bệnh nhân, dùng tay đập mạnh 4 cái liên tiếp vào vùng lưng giữa hai xương bả vai. Nếu vẫn không thể loại bỏ vật nằm trong đường hô hấp, bạn nên đưa bệnh nhân đến cơ sở y tế gần nhất để được xử lý kịp thời và chính xác hơn.\n",
      "\n",
      "Tuy nhiên, tôi khuyến nghị bạn nên đến các phòng khám hoặc bệnh viện thuộc Hệ thống Y tế Vinmec để được bác sĩ tư vấn và xử lý tình huống này một cách an toàn và chuyên nghiệp hơn."
     ]
    }
   ],
   "source": [
    "ans = vin_retriever.pipeline_custom_retriever(\"Bị nghẹn vật to ở cổ phải làm sao?\")\n",
    "for text in ans:\n",
    "    print(text,end='')"
   ]
  },
  {
   "cell_type": "code",
   "execution_count": 8,
   "metadata": {},
   "outputs": [],
   "source": [
    "question = \"Triệu chứng kiệt sức\"\n",
    "title,title_str = vin_retriever.get_customRV(question)\n"
   ]
  },
  {
   "cell_type": "code",
   "execution_count": 9,
   "metadata": {},
   "outputs": [
    {
     "data": {
      "text/plain": [
       "[('https://www.vinmec.com/tin-tuc/thong-tin-suc-khoe/suc-khoe-tong-quat/cac-hoi-chung-benh-ly-ho-hap-thuong-gap/',\n",
       "  'Các hội chứng, bệnh lý hô hấp thường gặp,  Tràn dịch màng phổi,  Tràn khí màng phổi,  Hội chứng đông đặc phổi,  Hội chứng hạn chế và hội chứng tắc nghẽn,'),\n",
       " ('https://www.vinmec.com/tin-tuc/thong-tin-suc-khoe/suc-khoe-tong-quat/trieu-chung-lam-sang-va-hinh-anh-hep-ong-song-do-truot-dot-song-lung/',\n",
       "  'Triệu chứng lâm sàng và hình ảnh hẹp ống sống do trượt đốt sống thắt lưng,  Hẹp ống sống do trượt đốt sống thắt lưng là gì?,  Triệu chứng lâm sàng của hẹp ống sống do trượt đốt sống thắt lưng,  Hình ảnh hẹp ống sống do trượt đốt sống thắt lưng,'),\n",
       " ('https://www.vinmec.com/tin-tuc/thong-tin-suc-khoe/dinh-duong/trieu-chung-say-san-ngo-doc-san/',\n",
       "  'Triệu chứng say sắn, ngộ độc sắn,  Biểu hiện ngộ độc sắn,  Vì sao ăn sắn có thể bị ngộ độc,'),\n",
       " ('https://www.vinmec.com/tin-tuc/thong-tin-suc-khoe/suc-khoe-tong-quat/hoi-chung-met-moi-ke-gay-hau-qua-tham-lang/',\n",
       "  'Hội chứng mệt mỏi: Kẻ gây hậu quả thầm lặng,  Hiểu rõ về hội chứng mệt mỏi,  Khó khăn trong việc điều trị hội chứng mệt mỏi,'),\n",
       " ('https://www.vinmec.com/tin-tuc/thong-tin-suc-khoe/suc-khoe-tong-quat/met-moi-co-phai-la-benh/',\n",
       "  'Mệt mỏi có phải là bệnh?,  Hội chứng mệt mỏi một bệnh lý phức tạp,  Cần phân biệt hội chứng mệt mỏi với các bệnh lý khác,')]"
      ]
     },
     "execution_count": 9,
     "metadata": {},
     "output_type": "execute_result"
    }
   ],
   "source": [
    "title"
   ]
  },
  {
   "cell_type": "code",
   "execution_count": 10,
   "metadata": {},
   "outputs": [
    {
     "name": "stdout",
     "output_type": "stream",
     "text": [
      "\n",
      "        Bạn là người trợ giúp hữu ích trong việc giúp xác định các mục trong danh sách dưới đây tương ứng với cùng loại bệnh như trong truy vấn của tôi.\n",
      "        Hãy chắc chắn rằng bạn đọc tất cả chúng một cách cẩn thận.\n",
      "        Vui lòng xem xét danh sách các mô tả bệnh tật và chỉ ra các mục mô tả cùng loại bệnh như trong câu hỏi của tôi.\n",
      "        Chỉ mục được chọn bao gồm các mục mô tả các triệu chứng hoặc vấn đề liên quan đến cùng loại bệnh như được đề cập trong truy vấn. Xác định tất cả các chỉ số có liên quan.\n",
      "        Không cần phải giải thích.\n",
      "        Luôn trả lời số chỉ mục.\n",
      "        Ví dụ:\n",
      "        Hỏi: Chăm sóc và điều trị bong gân cổ?\n",
      "        Thông tin:\n",
      "        1. Bị bong gân cổ phải làm sao?\n",
      "        2. Trẻ mới biết đi từ 2-4 tuổi có bị trầm cảm không?\n",
      "        3. Hướng dẫn chăm sóc trẻ bị ho\n",
      "        4. Trẻ rất nhạy cảm\n",
      "        5. Làm thế nào để giảm căng cơ cổ khi ngủ?\n",
      "        6. Điều trị và chăm sóc trẻ nhỏ bị viêm phổi\n",
      "        Chỉ số đã chọn: 1, 5\n",
      "        Nếu không có chỉ mục tương đối thì trả về `None`.\n",
      "        Truy vấn: Triệu chứng kiệt sức\n",
      "\n",
      "        Thông tin: \n",
      "1. Các hội chứng, bệnh lý hô hấp thường gặp,  Tràn dịch màng phổi,  Tràn khí màng phổi,  Hội chứng đông đặc phổi,  Hội chứng hạn chế và hội chứng tắc nghẽn,\n",
      "2. Triệu chứng lâm sàng và hình ảnh hẹp ống sống do trượt đốt sống thắt lưng,  Hẹp ống sống do trượt đốt sống thắt lưng là gì?,  Triệu chứng lâm sàng của hẹp ống sống do trượt đốt sống thắt lưng,  Hình ảnh hẹp ống sống do trượt đốt sống thắt lưng,\n",
      "3. Triệu chứng say sắn, ngộ độc sắn,  Biểu hiện ngộ độc sắn,  Vì sao ăn sắn có thể bị ngộ độc,\n",
      "4. Hội chứng mệt mỏi: Kẻ gây hậu quả thầm lặng,  Hiểu rõ về hội chứng mệt mỏi,  Khó khăn trong việc điều trị hội chứng mệt mỏi,\n",
      "5. Mệt mỏi có phải là bệnh?,  Hội chứng mệt mỏi một bệnh lý phức tạp,  Cần phân biệt hội chứng mệt mỏi với các bệnh lý khác,\n",
      "\n",
      "\n",
      "        Chỉ số đã chọn:\n",
      "        \n"
     ]
    },
    {
     "data": {
      "text/plain": [
       "'4, 5'"
      ]
     },
     "execution_count": 10,
     "metadata": {},
     "output_type": "execute_result"
    }
   ],
   "source": [
    "ans = vin_retriever.decide_index_retriever(question,title_str)\n",
    "ans"
   ]
  },
  {
   "cell_type": "code",
   "execution_count": 11,
   "metadata": {},
   "outputs": [
    {
     "data": {
      "text/plain": [
       "['https://www.vinmec.com/tin-tuc/thong-tin-suc-khoe/suc-khoe-tong-quat/hoi-chung-met-moi-ke-gay-hau-qua-tham-lang/',\n",
       " 'https://www.vinmec.com/tin-tuc/thong-tin-suc-khoe/suc-khoe-tong-quat/met-moi-co-phai-la-benh/']"
      ]
     },
     "execution_count": 11,
     "metadata": {},
     "output_type": "execute_result"
    }
   ],
   "source": [
    "link_selected = vin_retriever.get_index(ans,title)\n",
    "link_selected"
   ]
  },
  {
   "cell_type": "code",
   "execution_count": null,
   "metadata": {},
   "outputs": [],
   "source": []
  },
  {
   "cell_type": "code",
   "execution_count": 13,
   "metadata": {},
   "outputs": [],
   "source": [
    "selected_nodes,need_to_search = vin_retriever.get_excluse_node(link_selected)\n"
   ]
  },
  {
   "cell_type": "code",
   "execution_count": 15,
   "metadata": {},
   "outputs": [
    {
     "data": {
      "text/plain": [
       "['https://www.vinmec.com/tin-tuc/thong-tin-suc-khoe/suc-khoe-tong-quat/hoi-chung-met-moi-ke-gay-hau-qua-tham-lang/']"
      ]
     },
     "execution_count": 15,
     "metadata": {},
     "output_type": "execute_result"
    }
   ],
   "source": [
    "need_to_search"
   ]
  },
  {
   "cell_type": "code",
   "execution_count": 14,
   "metadata": {},
   "outputs": [
    {
     "data": {
      "text/plain": [
       "[TextNode(id_='8fe881cc-be61-4b8b-a4d9-f6b85d4247a0', embedding=None, metadata={'url': 'https://www.vinmec.com/tin-tuc/thong-tin-suc-khoe/suc-khoe-tong-quat/met-moi-co-phai-la-benh/'}, excluded_embed_metadata_keys=[], excluded_llm_metadata_keys=[], relationships={<NodeRelationship.SOURCE: '1'>: RelatedNodeInfo(node_id='ec39eab3-d416-4b08-ab82-2d7e1c7d85f8', node_type=<ObjectType.DOCUMENT: '4'>, metadata={'url': 'https://www.vinmec.com/tin-tuc/thong-tin-suc-khoe/suc-khoe-tong-quat/met-moi-co-phai-la-benh/'}, hash='661b6aab07755742ae194439c52e8e6ad0da9472eefd4da9da615eba68207c00'), <NodeRelationship.PREVIOUS: '2'>: RelatedNodeInfo(node_id='d77e4b7c-3a85-4321-8c81-b1aa926d598d', node_type=<ObjectType.TEXT: '1'>, metadata={'url': 'https://www.vinmec.com/tin-tuc/thong-tin-suc-khoe/suc-khoe-tong-quat/met-moi-co-phai-la-benh/'}, hash='eaa6111c710fb62b75d198739173c1e28387a4182a04b12d5016ef1ba7e78edd'), <NodeRelationship.NEXT: '3'>: RelatedNodeInfo(node_id='1f9a05f4-0207-4f5d-927a-b5badbfa3019', node_type=<ObjectType.TEXT: '1'>, metadata={}, hash='e0b9572068cf97fc66309e6a89ebd705255c54f3aba0833e206b29091eeec500')}, hash='eb2637525c3910fdc12f3eea7007b109df32c670fc0c588448056fd3fd5c382e', text='Cho đến hiện nay, không có bộ xét nghiệm tiêu chuẩn nào giúp bác sĩ chẩn đoán bệnh. Khi không có xét nghiệm hoặc dấu hiệu sinh học cụ thể về bệnh, các bác sĩ sẽ không có lựa chọn nào khác ngoài việc chẩn đoán dựa trên các triệu chứng mà bệnh nhân khai báo. Một số triệu chứng được coi là bắt buộc để chẩn đoán, trong khi những triệu chứng khác được coi là hỗ trợ. Việc chẩn đoán ở người lớn còn khá miễn cưỡng cho đến khi họ bị bệnh ít nhất 6 tháng và các bệnh đồng mắc của họ đã được giải quyết. Đối với trẻ em và thanh thiếu niên, thời gian mắc bệnh đã được rút ngắn xuống còn 3 tháng, nhưng bác sĩ điều trị tùy theo tình trạng cụ thể mà quyết định.Từ những mô tả trên, chúng ta dễ dàng nhận ra rằng việc điều trị bệnh cũng gặp nhiều khó khăn. Công tác điều trị sẽ liên quan đến nhiều chuyên khoa và cần có sự phối hợp đồng bộ. Cho đến nay chưa có một phác đồ điều trị nhất quán. Bất kỳ phương pháp điều trị nào được sử dụng để giảm bớt các triệu chứng đều được coi là \"giảm nhẹ\".Hội chứng mệt mỏi mạn tính là bệnh lý phức tạp khó điều trịHội chứng mệt mỏi có biểu hiện nhiều triệu chứng ở nhiều hệ cơ quan. Vì vậy, cần có cái nhìn tổng thể về người bệnh hơn là chỉ chú ý từng hệ cơ quan riêng lẻ.Trước hết, cần phân biệt hội chứng mệt mỏi với chứng suy nhược cơ thể. Suy nhược được định nghĩa là tình trạng thiếu sức lực hoặc cảm giác không có khả năng thực hiện các công việc hàng ngày, cơn đau dữ dội hơn vào cuối ngày, và thường cải thiện sau một thời gian ngủ. Mặt khác, suy nhược cơ thể làm giảm hoặc mất sức mạnh cơ bắp, và là triệu chứng quan trọng trong các bệnh về cơ bắp.Ngoài mệt mỏi, hội chứng mệt mỏi còn có liên quan đến một loạt các triệu chứng, bao gồm đau khớp, đau cơ, đau đầu, lo lắng, các triệu chứng trầm cảm, rối loạn nhận thức, rối loạn giấc ngủ hoặc không chịu được gắng sức.', start_char_idx=3290, end_char_idx=5092, text_template='{metadata_str}\\n\\n{content}', metadata_template='{key}: {value}', metadata_seperator='\\n')]"
      ]
     },
     "execution_count": 14,
     "metadata": {},
     "output_type": "execute_result"
    }
   ],
   "source": [
    "selected_nodes"
   ]
  },
  {
   "cell_type": "markdown",
   "metadata": {},
   "source": [
    "RE_CHECK IF IT RIGHT"
   ]
  },
  {
   "cell_type": "code",
   "execution_count": 18,
   "metadata": {},
   "outputs": [
    {
     "data": {
      "text/plain": [
       "[TextNode(id_='d2e905c0-abf1-426b-a3ff-2aee484d4676', embedding=None, metadata={'url': 'https://www.vinmec.com/tin-tuc/thong-tin-suc-khoe/suc-khoe-tong-quat/cac-hoi-chung-benh-ly-ho-hap-thuong-gap/'}, excluded_embed_metadata_keys=[], excluded_llm_metadata_keys=[], relationships={<NodeRelationship.SOURCE: '1'>: RelatedNodeInfo(node_id='6d6a8592-31f6-45d8-a00a-1148f72c3042', node_type=<ObjectType.DOCUMENT: '4'>, metadata={'url': 'https://www.vinmec.com/tin-tuc/thong-tin-suc-khoe/suc-khoe-tong-quat/cac-hoi-chung-benh-ly-ho-hap-thuong-gap/'}, hash='d001b4b9e8e280c7bd940124276e309819f1d982664402ab4afffcd215f69eb5'), <NodeRelationship.PREVIOUS: '2'>: RelatedNodeInfo(node_id='7820b2a4-b56d-4a06-8297-13db5d2bf8b2', node_type=<ObjectType.TEXT: '1'>, metadata={'url': 'https://www.vinmec.com/tieu-hoa-gan-mat/thong-tin-suc-khoe/benh-hoc-lam-sang-cua-niem-mac-da-day-lac-cho-o-thuc-quan/'}, hash='067ebc82a253d17154b26a3f0426a46377ab58d8f56a9d0fc615ebe3a2e8e83d'), <NodeRelationship.NEXT: '3'>: RelatedNodeInfo(node_id='d14c70c5-8d4d-4f31-baed-8f0d789777e0', node_type=<ObjectType.TEXT: '1'>, metadata={}, hash='b7732108b42e62d029248caa2ef1aeb968756a33738884db7549fd10843ded91')}, hash='425b867f08a9d397c470704131b642e7fb201731b2922e7b439c69383909f393', text='Các hội chứng, bệnh lý hô hấp thường gặp,  Tràn dịch màng phổi,  Tràn khí màng phổi,  Hội chứng đông đặc phổi,  Hội chứng hạn chế và hội chứng tắc nghẽn,', start_char_idx=0, end_char_idx=153, text_template='{metadata_str}\\n\\n{content}', metadata_template='{key}: {value}', metadata_seperator='\\n'),\n",
       " TextNode(id_='ca296b7a-0546-4bb2-9b63-d701cbb6fa24', embedding=None, metadata={'url': 'https://www.vinmec.com/tin-tuc/thong-tin-suc-khoe/suc-khoe-tong-quat/hoi-chung-met-moi-ke-gay-hau-qua-tham-lang/'}, excluded_embed_metadata_keys=[], excluded_llm_metadata_keys=[], relationships={<NodeRelationship.SOURCE: '1'>: RelatedNodeInfo(node_id='69a6e8ab-054f-4251-9d5e-b340d2fd584c', node_type=<ObjectType.DOCUMENT: '4'>, metadata={'url': 'https://www.vinmec.com/tin-tuc/thong-tin-suc-khoe/suc-khoe-tong-quat/hoi-chung-met-moi-ke-gay-hau-qua-tham-lang/'}, hash='c4fdfdd32690abc82e764fc3f1c7abc822c29e4b05ee5fb9ba36ec8435065749'), <NodeRelationship.PREVIOUS: '2'>: RelatedNodeInfo(node_id='b1d44e2c-ef4f-4351-bcee-eaa12e1db222', node_type=<ObjectType.TEXT: '1'>, metadata={'url': 'https://www.vinmec.com/tin-tuc/thong-tin-suc-khoe/lam-dep/tai-sao-moi-ban-bi-sung-khi-vua-thuc-day/'}, hash='51aca7f7bca1b3682d4c0bb04170a7a0eff9540254108ac97df505d6be28e39b'), <NodeRelationship.NEXT: '3'>: RelatedNodeInfo(node_id='6611edc6-273e-49a3-910c-d67e21ea8cbe', node_type=<ObjectType.TEXT: '1'>, metadata={}, hash='11ca35685f27ca0ea436cc3ed4b58e5c5555dbcac44a89046df533414f35f8c9')}, hash='d21f21e62eea07e062e030d425f4b492bbd003346797341440bbfd9766ac6cd2', text='Hội chứng mệt mỏi: Kẻ gây hậu quả thầm lặng,  Hiểu rõ về hội chứng mệt mỏi,  Khó khăn trong việc điều trị hội chứng mệt mỏi,', start_char_idx=0, end_char_idx=124, text_template='{metadata_str}\\n\\n{content}', metadata_template='{key}: {value}', metadata_seperator='\\n'),\n",
       " TextNode(id_='2e6153d2-3390-44d1-a76c-0dd61499771b', embedding=None, metadata={'url': 'https://www.vinmec.com/tin-tuc/thong-tin-suc-khoe/dinh-duong/trieu-chung-say-san-ngo-doc-san/'}, excluded_embed_metadata_keys=[], excluded_llm_metadata_keys=[], relationships={<NodeRelationship.SOURCE: '1'>: RelatedNodeInfo(node_id='24b48a39-82db-49df-919c-463d8df442a7', node_type=<ObjectType.DOCUMENT: '4'>, metadata={'url': 'https://www.vinmec.com/tin-tuc/thong-tin-suc-khoe/dinh-duong/trieu-chung-say-san-ngo-doc-san/'}, hash='4775f438fbd0793f0b7594e0ab016d0aef41c0ccd1995449bb7fe8a62365a2aa'), <NodeRelationship.PREVIOUS: '2'>: RelatedNodeInfo(node_id='3ecef4e7-70ae-41ce-86f0-f167912e3642', node_type=<ObjectType.TEXT: '1'>, metadata={'url': 'https://www.vinmec.com/tin-tuc/thong-tin-suc-khoe/nhi/5-dieu-ban-chua-biet-ve-giac-ngu-cua-tre-so-sinh/'}, hash='e11e8ed7221ceb5b8b382720a3857cb02c06fc0e3270560cff43e0145fe20623'), <NodeRelationship.NEXT: '3'>: RelatedNodeInfo(node_id='88d28eac-1a0a-44cb-a524-609ab4b358c7', node_type=<ObjectType.TEXT: '1'>, metadata={}, hash='d8b314503597939a2d4a65338710639e3d76626a21b939e8e893f111a3f45e90')}, hash='92b6cf1e9e7efc3ba450cfb29dd2d9aa879a9ea2410d0f17e566883d1b29e7f6', text='Triệu chứng say sắn, ngộ độc sắn,  Biểu hiện ngộ độc sắn,  Vì sao ăn sắn có thể bị ngộ độc,', start_char_idx=0, end_char_idx=91, text_template='{metadata_str}\\n\\n{content}', metadata_template='{key}: {value}', metadata_seperator='\\n')]"
      ]
     },
     "execution_count": 18,
     "metadata": {},
     "output_type": "execute_result"
    }
   ],
   "source": [
    "title_nodes,content_nodes = vin_retriever.custom_rv.retrieve(question)\n",
    "title_nodes"
   ]
  },
  {
   "cell_type": "code",
   "execution_count": 19,
   "metadata": {},
   "outputs": [
    {
     "data": {
      "text/plain": [
       "[TextNode(id_='8fe881cc-be61-4b8b-a4d9-f6b85d4247a0', embedding=None, metadata={'url': 'https://www.vinmec.com/tin-tuc/thong-tin-suc-khoe/suc-khoe-tong-quat/met-moi-co-phai-la-benh/'}, excluded_embed_metadata_keys=[], excluded_llm_metadata_keys=[], relationships={<NodeRelationship.SOURCE: '1'>: RelatedNodeInfo(node_id='ec39eab3-d416-4b08-ab82-2d7e1c7d85f8', node_type=<ObjectType.DOCUMENT: '4'>, metadata={'url': 'https://www.vinmec.com/tin-tuc/thong-tin-suc-khoe/suc-khoe-tong-quat/met-moi-co-phai-la-benh/'}, hash='661b6aab07755742ae194439c52e8e6ad0da9472eefd4da9da615eba68207c00'), <NodeRelationship.PREVIOUS: '2'>: RelatedNodeInfo(node_id='d77e4b7c-3a85-4321-8c81-b1aa926d598d', node_type=<ObjectType.TEXT: '1'>, metadata={'url': 'https://www.vinmec.com/tin-tuc/thong-tin-suc-khoe/suc-khoe-tong-quat/met-moi-co-phai-la-benh/'}, hash='eaa6111c710fb62b75d198739173c1e28387a4182a04b12d5016ef1ba7e78edd'), <NodeRelationship.NEXT: '3'>: RelatedNodeInfo(node_id='1f9a05f4-0207-4f5d-927a-b5badbfa3019', node_type=<ObjectType.TEXT: '1'>, metadata={}, hash='e0b9572068cf97fc66309e6a89ebd705255c54f3aba0833e206b29091eeec500')}, hash='eb2637525c3910fdc12f3eea7007b109df32c670fc0c588448056fd3fd5c382e', text='Cho đến hiện nay, không có bộ xét nghiệm tiêu chuẩn nào giúp bác sĩ chẩn đoán bệnh. Khi không có xét nghiệm hoặc dấu hiệu sinh học cụ thể về bệnh, các bác sĩ sẽ không có lựa chọn nào khác ngoài việc chẩn đoán dựa trên các triệu chứng mà bệnh nhân khai báo. Một số triệu chứng được coi là bắt buộc để chẩn đoán, trong khi những triệu chứng khác được coi là hỗ trợ. Việc chẩn đoán ở người lớn còn khá miễn cưỡng cho đến khi họ bị bệnh ít nhất 6 tháng và các bệnh đồng mắc của họ đã được giải quyết. Đối với trẻ em và thanh thiếu niên, thời gian mắc bệnh đã được rút ngắn xuống còn 3 tháng, nhưng bác sĩ điều trị tùy theo tình trạng cụ thể mà quyết định.Từ những mô tả trên, chúng ta dễ dàng nhận ra rằng việc điều trị bệnh cũng gặp nhiều khó khăn. Công tác điều trị sẽ liên quan đến nhiều chuyên khoa và cần có sự phối hợp đồng bộ. Cho đến nay chưa có một phác đồ điều trị nhất quán. Bất kỳ phương pháp điều trị nào được sử dụng để giảm bớt các triệu chứng đều được coi là \"giảm nhẹ\".Hội chứng mệt mỏi mạn tính là bệnh lý phức tạp khó điều trịHội chứng mệt mỏi có biểu hiện nhiều triệu chứng ở nhiều hệ cơ quan. Vì vậy, cần có cái nhìn tổng thể về người bệnh hơn là chỉ chú ý từng hệ cơ quan riêng lẻ.Trước hết, cần phân biệt hội chứng mệt mỏi với chứng suy nhược cơ thể. Suy nhược được định nghĩa là tình trạng thiếu sức lực hoặc cảm giác không có khả năng thực hiện các công việc hàng ngày, cơn đau dữ dội hơn vào cuối ngày, và thường cải thiện sau một thời gian ngủ. Mặt khác, suy nhược cơ thể làm giảm hoặc mất sức mạnh cơ bắp, và là triệu chứng quan trọng trong các bệnh về cơ bắp.Ngoài mệt mỏi, hội chứng mệt mỏi còn có liên quan đến một loạt các triệu chứng, bao gồm đau khớp, đau cơ, đau đầu, lo lắng, các triệu chứng trầm cảm, rối loạn nhận thức, rối loạn giấc ngủ hoặc không chịu được gắng sức.', start_char_idx=3290, end_char_idx=5092, text_template='{metadata_str}\\n\\n{content}', metadata_template='{key}: {value}', metadata_seperator='\\n'),\n",
       " TextNode(id_='aab97f37-71ff-4523-b3e1-4e0df30113b5', embedding=None, metadata={'url': 'https://www.vinmec.com/tin-tuc/thong-tin-suc-khoe/suc-khoe-tong-quat/trieu-chung-lam-sang-va-hinh-anh-hep-ong-song-do-truot-dot-song-lung/'}, excluded_embed_metadata_keys=[], excluded_llm_metadata_keys=[], relationships={<NodeRelationship.SOURCE: '1'>: RelatedNodeInfo(node_id='51a55f9b-fa42-4812-9bd7-660367ade776', node_type=<ObjectType.DOCUMENT: '4'>, metadata={'url': 'https://www.vinmec.com/tin-tuc/thong-tin-suc-khoe/suc-khoe-tong-quat/trieu-chung-lam-sang-va-hinh-anh-hep-ong-song-do-truot-dot-song-lung/'}, hash='c013bc90c6c12a98eaa281380b2d6b7040169d022906a68c131d84cd36c87c73'), <NodeRelationship.PREVIOUS: '2'>: RelatedNodeInfo(node_id='4fa59745-82bf-4d4e-9e16-651abf3e12d3', node_type=<ObjectType.TEXT: '1'>, metadata={'url': 'https://www.vinmec.com/tin-tuc/thong-tin-suc-khoe/suc-khoe-tong-quat/trieu-chung-lam-sang-va-hinh-anh-hep-ong-song-do-truot-dot-song-lung/'}, hash='11b565f3267565350424c1b5b0e0e235626a24f14f3224aa87eec4c528cef676'), <NodeRelationship.NEXT: '3'>: RelatedNodeInfo(node_id='0a63f6e5-9fab-4214-ba2c-87b8d1cdc7ce', node_type=<ObjectType.TEXT: '1'>, metadata={}, hash='05c85c85f07205209932137231027a901e7888181275b4321d8c78c8c402a798')}, hash='01d3dd5cd08031ca15fc9cde9eb5a0d6f55ae900d6cc520b5b196687b8463965', text='Tất cả những triệu chứng này sẽ hết hoặc giảm dần khi người bệnh hạn chế đi lại hay nghỉ ngơi.● Rối loạn vận độngTriệu chứng này tiến triển từ nhẹ đến nặng, người bệnh cảm thấy đi lại khó khăn, bị khụy chân nên rất khó chịu, nếu điều trị muộn người bệnh có thể liệt hoàn toàn 2 chân. Bên cạnh đó, người bệnh có cảm giác mỏi bàn chân, lan lên cẳng chân rồi đến đùi. Thăm khám người bệnh thấy thay đổi màu sắc da của chân;● Đau kiểu rễĐau từ thắt lưng lan xuống mông, đùi, cẳng chân và bàn chân ở cả hai bên là một trong những triệu chứng hẹp ống sống thắt lưng. Đau tăng lên khi người bệnh vận động thắt lưng, ưỡn lưng ra sau, hoặc khi làm tăng áp lực ổ bụng như ho, hắt hơi. Đau có cảm giác nhức nhối, kết hợp rối loạn cảm giác, biểu hiện cả một hoặc hai bên.● Hội chứng đuôi ngựaNgười bệnh có dấu hiệu đau vùng đáy chậu, quanh hậu môn và mất cảm giác vùng tầng sinh môn.', start_char_idx=1854, end_char_idx=2725, text_template='{metadata_str}\\n\\n{content}', metadata_template='{key}: {value}', metadata_seperator='\\n')]"
      ]
     },
     "execution_count": 19,
     "metadata": {},
     "output_type": "execute_result"
    }
   ],
   "source": [
    "content_nodes"
   ]
  },
  {
   "cell_type": "code",
   "execution_count": 43,
   "metadata": {},
   "outputs": [],
   "source": [
    "vin_retriever.conn.rollback()"
   ]
  },
  {
   "cell_type": "code",
   "execution_count": 22,
   "metadata": {},
   "outputs": [
    {
     "name": "stdout",
     "output_type": "stream",
     "text": [
      "https://www.vinmec.com/tin-tuc/thong-tin-suc-khoe/suc-khoe-tong-quat/hoi-chung-met-moi-ke-gay-hau-qua-tham-lang/\n"
     ]
    }
   ],
   "source": [
    "for link in need_to_search:\n",
    "    print(link)"
   ]
  },
  {
   "cell_type": "code",
   "execution_count": 35,
   "metadata": {},
   "outputs": [
    {
     "data": {
      "text/plain": [
       "4"
      ]
     },
     "execution_count": 35,
     "metadata": {},
     "output_type": "execute_result"
    }
   ],
   "source": [
    "\n",
    "with vin_retriever.conn.cursor() as cur:\n",
    "    for link in need_to_search:\n",
    "        query = \"SELECT text,metadata_,node_id FROM data_vinmec_storage_index  WHERE  metadata_::json->>'url'  = %s\"\n",
    "        cur.execute(query,(link,))\n",
    "        search_nodes = cur.fetchall()\n",
    "len(search_nodes)"
   ]
  },
  {
   "cell_type": "code",
   "execution_count": 36,
   "metadata": {},
   "outputs": [
    {
     "data": {
      "text/plain": [
       "[('Bài viết của Bác sĩ chuyên khoa I Võ Khắc Khôi Nguyên - Bác sĩ Chấn thương chỉnh hình - Khoa Ngoại tổng hợp - Bệnh viện Đa khoa Quốc tế Vinmec Central ParkHội chứng mệt mỏi là một bệnh lý có mặt trên toàn thế giới. Bệnh lý này cho đến nay vẫn thường bị bỏ sót hoặc ít được chú ý cho đến khi nó trở thành tình trạng mạn tính. Tỷ lệ mắc hội chứng mệt mỏi mạn tính được báo cáo khác nhau ở các khu vực trên thế giới. Tỷ lệ hiện mắc trong cộng đồng chiếm 3,6% dân số ở Hoa Kỳ. Tỷ lệ hiện mắc ở tuổi vị thành niên dao động từ 0,9% ở Vương quốc Anh đến 0,11% ở Hà Lan.Hội chứng mệt mỏi mạn tính có thể ảnh hưởng đến 2,5 triệu người Mỹ. Ước tính có khoảng 25 % bệnh nhân hội chứng mệt mỏi mức độ nặng, tức là ở một thời điểm nào đó trong cuộc đời của họ phải ở nhà hoặc nằm trên giường. Bệnh nhân bị hội chứng mệt mỏi mạn tính cần được chăm sóc nhiều hơn các bệnh nhân mắc nhiều bệnh khác. Tuy nhiên, ngay cả ở Hoa Kỳ, có những vùng nơi người bệnh không nhận được bất kỳ dịch vụ chăm sóc y tế chuyên biệt nào. Cho đến nay, không có một xét nghiệm chuyên biệt nào giúp chẩn đoán xác định bệnh. Trên lâm sàng, cũng không có triệu chứng hay dấu hiệu đặc biệt nào để chẩn đoán chắc chắn. Không có một loại thuốc nào được cục quản lý dược phẩm Hoa Kỳ (FDA) chấp thuận để điều trị hội chứng mệt mỏi. Ngược lại, có khoảng 40 loại thuốc được FDA chấp thuận để điều trị HIV / AIDS một căn bệnh của thời đại. Và rõ ràng không có cách đặc trị cho hội chứng mệt mỏi. Đã hơn 80 năm kể từ khi xuất hiện ca hội chứng mệt mỏi mạn tính đầu tiên được ghi nhận ở Hoa Kỳ, nhưng cho đến nay căn bệnh này vẫn không có cách đặc trị.',\n",
       "  {'url': 'https://www.vinmec.com/tin-tuc/thong-tin-suc-khoe/suc-khoe-tong-quat/hoi-chung-met-moi-ke-gay-hau-qua-tham-lang/',\n",
       "   '_node_content': '{\"id_\": \"e1d58899-63bc-4166-a96f-340b2a43fed2\", \"embedding\": null, \"metadata\": {\"url\": \"https://www.vinmec.com/tin-tuc/thong-tin-suc-khoe/suc-khoe-tong-quat/hoi-chung-met-moi-ke-gay-hau-qua-tham-lang/\"}, \"excluded_embed_metadata_keys\": [], \"excluded_llm_metadata_keys\": [], \"relationships\": {\"1\": {\"node_id\": \"38180a30-2c7b-4b03-b6c9-4b4055d9fd17\", \"node_type\": \"4\", \"metadata\": {\"url\": \"https://www.vinmec.com/tin-tuc/thong-tin-suc-khoe/suc-khoe-tong-quat/hoi-chung-met-moi-ke-gay-hau-qua-tham-lang/\"}, \"hash\": \"9db6e1b52881b2119d8f7d5e42c4e78e83f95e8bb333dc781007176dbe21dcfd\", \"class_name\": \"RelatedNodeInfo\"}, \"2\": {\"node_id\": \"83d1c749-bdab-4ced-ad98-f4ab89a263c4\", \"node_type\": \"1\", \"metadata\": {\"url\": \"https://www.vinmec.com/ung-buou-xa-tri/tu-van-bac-si/dieu-tri-ung-thu-phoi-di-can-hach-nhu-nao/\"}, \"hash\": \"e8da29fd08aeaa58def5792de46b4525f5c806f78ab177b14a279c54005c08c3\", \"class_name\": \"RelatedNodeInfo\"}, \"3\": {\"node_id\": \"bb3ac0d4-d18d-4d63-a4da-1554a083e499\", \"node_type\": \"1\", \"metadata\": {}, \"hash\": \"83088b11ce06f8a4227ca4532071fb4b1c9197c670c2d25b1f53024507a274e0\", \"class_name\": \"RelatedNodeInfo\"}}, \"hash\": \"ce8daff72187bbe07621525259d63030668e1616960fdbc0b956e79527b259ac\", \"text\": \"\", \"start_char_idx\": 0, \"end_char_idx\": 1602, \"text_template\": \"{metadata_str}\\\\n\\\\n{content}\", \"metadata_template\": \"{key}: {value}\", \"metadata_seperator\": \"\\\\n\", \"class_name\": \"TextNode\"}',\n",
       "   '_node_type': 'TextNode',\n",
       "   'document_id': '38180a30-2c7b-4b03-b6c9-4b4055d9fd17',\n",
       "   'doc_id': '38180a30-2c7b-4b03-b6c9-4b4055d9fd17',\n",
       "   'ref_doc_id': '38180a30-2c7b-4b03-b6c9-4b4055d9fd17'},\n",
       "  'e1d58899-63bc-4166-a96f-340b2a43fed2'),\n",
       " ('Ngược lại, có khoảng 40 loại thuốc được FDA chấp thuận để điều trị HIV / AIDS một căn bệnh của thời đại. Và rõ ràng không có cách đặc trị cho hội chứng mệt mỏi. Đã hơn 80 năm kể từ khi xuất hiện ca hội chứng mệt mỏi mạn tính đầu tiên được ghi nhận ở Hoa Kỳ, nhưng cho đến nay căn bệnh này vẫn không có cách đặc trị. Ngược lại, khoảng thời gian từ ca nhiễm HIV / AIDS đầu tiên đến khi phát triển phương pháp điều trị với các loại thuốc được Cục Quản lý Dược phẩm Liên bang (FDA) phê duyệt là chưa đầy một thập kỷ.Hội chứng mệt mỏi là một rối loạn mạn tính, phức tạp, không rõ nguyên nhân, đặc trưng bởi sự xuất hiện của sự mệt mỏi dữ dội, khuyết tật (thể chất và tinh thần). Bệnh nhân bị cản trở các hoạt động hàng ngày, không giảm khi nghỉ ngơi, nặng hơn khi tập thể dục, và thường liên quan đến các biểu hiện toàn thân, nhiều hệ cơ quan.Hội chứng mệt mỏi kéo dài được Cơ quan Y tế Công cộng Hoa Kỳ mô tả vào năm 1934. Hiện tại, chúng ta vẫn chưa biết nguyên nhân của bệnh một cách rõ ràng. Do đó, bản chất bệnh lý của hội chứng mệt mỏi đã bị bỏ qua và căn bệnh này bị kỳ thị do bị gán nhãn sai là bệnh tâm thần hoặc rối loạn dạng cơ thể. Những nhận thức sai lầm như vậy về căn bệnh này đã dẫn đến việc nghiên cứu không đầy đủ về nó và việc chăm sóc, chữa trị vẫn còn nhiều thiếu sót. Năm 2015, Viện Y học Hoa Kỳ lần đầu tiên đã báo động căn bệnh này ảnh hưởng đến hàng triệu người Mỹ và cảnh báo chính phủ Hoa Kỳ đã đầu tư nghiên cứu về căn bệnh này và hỗ trợ bệnh nhân rất ít.Mặc dù nhiều người bị hội chứng mệt mỏi mạn tính vẫn tiếp tục làm việc bất chấp bệnh tật của họ vì lý do kinh tế và uy tín xã hội. Nhưng điều này gây thiệt hại về năng suất làm việc trên toàn cầu khoảng 6.900 triệu euro. Ước tính hàng năm, mỗi bệnh nhân gây tổn thất 15.200 euro.',\n",
       "  {'url': 'https://www.vinmec.com/tin-tuc/thong-tin-suc-khoe/suc-khoe-tong-quat/hoi-chung-met-moi-ke-gay-hau-qua-tham-lang/',\n",
       "   '_node_content': '{\"id_\": \"bb3ac0d4-d18d-4d63-a4da-1554a083e499\", \"embedding\": null, \"metadata\": {\"url\": \"https://www.vinmec.com/tin-tuc/thong-tin-suc-khoe/suc-khoe-tong-quat/hoi-chung-met-moi-ke-gay-hau-qua-tham-lang/\"}, \"excluded_embed_metadata_keys\": [], \"excluded_llm_metadata_keys\": [], \"relationships\": {\"1\": {\"node_id\": \"38180a30-2c7b-4b03-b6c9-4b4055d9fd17\", \"node_type\": \"4\", \"metadata\": {\"url\": \"https://www.vinmec.com/tin-tuc/thong-tin-suc-khoe/suc-khoe-tong-quat/hoi-chung-met-moi-ke-gay-hau-qua-tham-lang/\"}, \"hash\": \"9db6e1b52881b2119d8f7d5e42c4e78e83f95e8bb333dc781007176dbe21dcfd\", \"class_name\": \"RelatedNodeInfo\"}, \"2\": {\"node_id\": \"e1d58899-63bc-4166-a96f-340b2a43fed2\", \"node_type\": \"1\", \"metadata\": {\"url\": \"https://www.vinmec.com/tin-tuc/thong-tin-suc-khoe/suc-khoe-tong-quat/hoi-chung-met-moi-ke-gay-hau-qua-tham-lang/\"}, \"hash\": \"ce8daff72187bbe07621525259d63030668e1616960fdbc0b956e79527b259ac\", \"class_name\": \"RelatedNodeInfo\"}, \"3\": {\"node_id\": \"587509fe-eeea-4fed-89cb-da22f2916d31\", \"node_type\": \"1\", \"metadata\": {}, \"hash\": \"b1fe2e6c39ba9000e6f87e9a1ca5e437bfe89e05b81361a106a8d0909e95ce93\", \"class_name\": \"RelatedNodeInfo\"}}, \"hash\": \"83088b11ce06f8a4227ca4532071fb4b1c9197c670c2d25b1f53024507a274e0\", \"text\": \"\", \"start_char_idx\": 1287, \"end_char_idx\": 3044, \"text_template\": \"{metadata_str}\\\\n\\\\n{content}\", \"metadata_template\": \"{key}: {value}\", \"metadata_seperator\": \"\\\\n\", \"class_name\": \"TextNode\"}',\n",
       "   '_node_type': 'TextNode',\n",
       "   'document_id': '38180a30-2c7b-4b03-b6c9-4b4055d9fd17',\n",
       "   'doc_id': '38180a30-2c7b-4b03-b6c9-4b4055d9fd17',\n",
       "   'ref_doc_id': '38180a30-2c7b-4b03-b6c9-4b4055d9fd17'},\n",
       "  'bb3ac0d4-d18d-4d63-a4da-1554a083e499'),\n",
       " ('Nhưng điều này gây thiệt hại về năng suất làm việc trên toàn cầu khoảng 6.900 triệu euro. Ước tính hàng năm, mỗi bệnh nhân gây tổn thất 15.200 euro. Những con số này cho thấy hội chứng mệt mỏi là gánh nặng kinh tế xã hội và chăm sóc sức khỏe.Việc nhận diện sai về hội chứng mệt mỏi đã dẫn đến các phương án xử lý không phù hợp. Đặc điểm của hội chứng mệt mỏi như một bệnh tâm thần kinh đã dẫn đến đơn trị bằng liệu pháp hành vi nhận thức hay liệu pháp tập thể dục phân loại khiến bị thất bại. Khi một đứa trẻ bị hội chứng mệt mỏi mạn tính, cha mẹ hoặc người giám hộ có thể bị buộc tội theo luật của các tiểu ban Hoa Kỳ. Trong một số trường hợp, những đứa trẻ này đã bị cách ly khỏi gia đình dẫn đến mức độ nghiêm trọng của bệnh tật ngày càng nặng.Một số nhà khoa học chuyên nghiệp đã theo đuổi nghiên cứu bệnh lý này, nhưng sự nghiệp và sinh kế của họ bị đe dọa. Các bác sĩ lâm sàng của một số trường y trên thế giới đã được yêu cầu ngừng khám bệnh nhân hội chứng mệt mỏi vì mất quá nhiều thời gian của bác sĩ và hiệu quả không như mong đợi. Việc điều trị rất cần sự phối hợp của nhiều bác sĩ chuyên khoa. Gia đình, bè bạn và đồng nghiệp cũng không muốn tiếp xúc với người bệnh. Người bệnh không thể hòa nhập với cộng đồng và sinh hoạt hàng ngày. Đây cũng chính là các rào cản lớn khiến người bệnh khó lòng đạt được kết quả điều trị.Điều trị hội chứng mệt mỏi cần được thăm khám và chẩn đoán xác địnhCác bác sĩ hiện đang điều trị hội chứng mệt mỏi khẳng định nó còn “tàn phá” hơn cả HIV/AIDS. Mặc dù HIV/AIDS gây hậu quả nặng nề cho nhân loại nhưng ngày nay, bệnh lý này đã từng bước được chặn đứng. Thành quả có được là nhờ sự quan tâm của chính phủ và hệ thống y tế các nước trước đại dịch của nhân loại. Thế nhưng, qua những vấn nạn mô tả ở trên, hội chứng mệt mỏi vẫn chưa được quan tâm một cách đúng mức.',\n",
       "  {'url': 'https://www.vinmec.com/tin-tuc/thong-tin-suc-khoe/suc-khoe-tong-quat/hoi-chung-met-moi-ke-gay-hau-qua-tham-lang/',\n",
       "   '_node_content': '{\"id_\": \"587509fe-eeea-4fed-89cb-da22f2916d31\", \"embedding\": null, \"metadata\": {\"url\": \"https://www.vinmec.com/tin-tuc/thong-tin-suc-khoe/suc-khoe-tong-quat/hoi-chung-met-moi-ke-gay-hau-qua-tham-lang/\"}, \"excluded_embed_metadata_keys\": [], \"excluded_llm_metadata_keys\": [], \"relationships\": {\"1\": {\"node_id\": \"38180a30-2c7b-4b03-b6c9-4b4055d9fd17\", \"node_type\": \"4\", \"metadata\": {\"url\": \"https://www.vinmec.com/tin-tuc/thong-tin-suc-khoe/suc-khoe-tong-quat/hoi-chung-met-moi-ke-gay-hau-qua-tham-lang/\"}, \"hash\": \"9db6e1b52881b2119d8f7d5e42c4e78e83f95e8bb333dc781007176dbe21dcfd\", \"class_name\": \"RelatedNodeInfo\"}, \"2\": {\"node_id\": \"bb3ac0d4-d18d-4d63-a4da-1554a083e499\", \"node_type\": \"1\", \"metadata\": {\"url\": \"https://www.vinmec.com/tin-tuc/thong-tin-suc-khoe/suc-khoe-tong-quat/hoi-chung-met-moi-ke-gay-hau-qua-tham-lang/\"}, \"hash\": \"83088b11ce06f8a4227ca4532071fb4b1c9197c670c2d25b1f53024507a274e0\", \"class_name\": \"RelatedNodeInfo\"}, \"3\": {\"node_id\": \"19b74b50-8686-4edc-92cd-1afe9a6e5707\", \"node_type\": \"1\", \"metadata\": {}, \"hash\": \"29ee22ecc94728c791503cb4c774b635c9e57d2fd8c1e189e75431ed458e4858\", \"class_name\": \"RelatedNodeInfo\"}}, \"hash\": \"b1fe2e6c39ba9000e6f87e9a1ca5e437bfe89e05b81361a106a8d0909e95ce93\", \"text\": \"\", \"start_char_idx\": 2896, \"end_char_idx\": 4705, \"text_template\": \"{metadata_str}\\\\n\\\\n{content}\", \"metadata_template\": \"{key}: {value}\", \"metadata_seperator\": \"\\\\n\", \"class_name\": \"TextNode\"}',\n",
       "   '_node_type': 'TextNode',\n",
       "   'document_id': '38180a30-2c7b-4b03-b6c9-4b4055d9fd17',\n",
       "   'doc_id': '38180a30-2c7b-4b03-b6c9-4b4055d9fd17',\n",
       "   'ref_doc_id': '38180a30-2c7b-4b03-b6c9-4b4055d9fd17'},\n",
       "  '587509fe-eeea-4fed-89cb-da22f2916d31'),\n",
       " ('Mặc dù HIV/AIDS gây hậu quả nặng nề cho nhân loại nhưng ngày nay, bệnh lý này đã từng bước được chặn đứng. Thành quả có được là nhờ sự quan tâm của chính phủ và hệ thống y tế các nước trước đại dịch của nhân loại. Thế nhưng, qua những vấn nạn mô tả ở trên, hội chứng mệt mỏi vẫn chưa được quan tâm một cách đúng mức. Ở Hoa Kỳ- quốc gia có nền y tế bậc nhất thế giới, Chính phủ Hoa Kỳ phân bổ chi phí cho việc nghiên cứu hội chứng mệt mỏi mạn tính thấp hơn nhiều so với các bệnh mãn tính khác. Trong khi đó tại Mỹ, ước tính số bệnh nhân bị hội chứng mệt mỏi mạn tính có thể gấp đôi số người nhiễm HIV/AIDS. Ví dụ, chi phí nghiên cứu ước tính năm 2018 cho mỗi bệnh nhân HIV/AIDS ở Hoa Kỳ là 2.000 đô la. Trong khi chi tiêu cho nghiên cứu hội chứng mệt mỏi mạn tính chỉ chưa đến 6 đô la cho mỗi bệnh nhân. Một sự chênh lệch lên đến 357 lần.Tóm lại, trong khi ngành y tế gặp nhiều khó khăn về chẩn đoán, điều trị hội chứng mệt mỏi, thì hơn ai hết bạn hãy tự bảo vệ mình trước bệnh lý này. Chế độ ăn uống bổ sung dinh dưỡng đầy đủ, duy trì lối sống lành mạnh, làm việc và nghỉ ngơi hợp lý là lá chắn tốt giúp cơ thể bạn không bị hội chứng mệt mỏi. Đó cũng là phương châm phòng bệnh hơn chữa bệnh.',\n",
       "  {'url': 'https://www.vinmec.com/tin-tuc/thong-tin-suc-khoe/suc-khoe-tong-quat/hoi-chung-met-moi-ke-gay-hau-qua-tham-lang/',\n",
       "   '_node_content': '{\"id_\": \"19b74b50-8686-4edc-92cd-1afe9a6e5707\", \"embedding\": null, \"metadata\": {\"url\": \"https://www.vinmec.com/tin-tuc/thong-tin-suc-khoe/suc-khoe-tong-quat/hoi-chung-met-moi-ke-gay-hau-qua-tham-lang/\"}, \"excluded_embed_metadata_keys\": [], \"excluded_llm_metadata_keys\": [], \"relationships\": {\"1\": {\"node_id\": \"38180a30-2c7b-4b03-b6c9-4b4055d9fd17\", \"node_type\": \"4\", \"metadata\": {\"url\": \"https://www.vinmec.com/tin-tuc/thong-tin-suc-khoe/suc-khoe-tong-quat/hoi-chung-met-moi-ke-gay-hau-qua-tham-lang/\"}, \"hash\": \"9db6e1b52881b2119d8f7d5e42c4e78e83f95e8bb333dc781007176dbe21dcfd\", \"class_name\": \"RelatedNodeInfo\"}, \"2\": {\"node_id\": \"587509fe-eeea-4fed-89cb-da22f2916d31\", \"node_type\": \"1\", \"metadata\": {\"url\": \"https://www.vinmec.com/tin-tuc/thong-tin-suc-khoe/suc-khoe-tong-quat/hoi-chung-met-moi-ke-gay-hau-qua-tham-lang/\"}, \"hash\": \"b1fe2e6c39ba9000e6f87e9a1ca5e437bfe89e05b81361a106a8d0909e95ce93\", \"class_name\": \"RelatedNodeInfo\"}, \"3\": {\"node_id\": \"6d349f77-a211-4fe6-aed4-83b151800944\", \"node_type\": \"1\", \"metadata\": {}, \"hash\": \"f030396add70a45c4576099efe1af5181340e7ed04dcb873989dbd8fac3dc591\", \"class_name\": \"RelatedNodeInfo\"}}, \"hash\": \"29ee22ecc94728c791503cb4c774b635c9e57d2fd8c1e189e75431ed458e4858\", \"text\": \"\", \"start_char_idx\": 4389, \"end_char_idx\": 5580, \"text_template\": \"{metadata_str}\\\\n\\\\n{content}\", \"metadata_template\": \"{key}: {value}\", \"metadata_seperator\": \"\\\\n\", \"class_name\": \"TextNode\"}',\n",
       "   '_node_type': 'TextNode',\n",
       "   'document_id': '38180a30-2c7b-4b03-b6c9-4b4055d9fd17',\n",
       "   'doc_id': '38180a30-2c7b-4b03-b6c9-4b4055d9fd17',\n",
       "   'ref_doc_id': '38180a30-2c7b-4b03-b6c9-4b4055d9fd17'},\n",
       "  '19b74b50-8686-4edc-92cd-1afe9a6e5707')]"
      ]
     },
     "execution_count": 36,
     "metadata": {},
     "output_type": "execute_result"
    }
   ],
   "source": [
    "search_nodes"
   ]
  },
  {
   "cell_type": "code",
   "execution_count": null,
   "metadata": {},
   "outputs": [],
   "source": []
  },
  {
   "cell_type": "code",
   "execution_count": 40,
   "metadata": {},
   "outputs": [],
   "source": [
    "import psycopg2\n",
    "from llama_index import VectorStoreIndex, Document\n",
    "import requests\n",
    "from bs4 import BeautifulSoup\n",
    "from llama_index import VectorStoreIndex, ServiceContext, Document,StorageContext\n",
    "from llama_index.retrievers import VectorIndexRetriever\n",
    "from llama_index.query_engine import RetrieverQueryEngine\n",
    "from llama_index.postprocessor import SimilarityPostprocessor\n",
    "from llama_index.memory import ChatMemoryBuffer\n",
    "from llama_index.llms import OpenAI\n",
    "import asyncio\n",
    "import streamlit as st\n",
    "from sqlalchemy import make_url\n",
    "from llama_index.vector_stores import PGVectorStore\n",
    "from llama_index import load_index_from_storage\n",
    "from llama_index.indices.vector_store.retrievers import VectorIndexRetriever\n",
    "from llama_index.query_engine.retriever_query_engine import (\n",
    "    RetrieverQueryEngine,\n",
    ")\n",
    "from llama_index import get_response_synthesizer\n",
    "from llama_index.prompts import PromptTemplate\n",
    "\n",
    "from llama_index.indices.postprocessor import SimilarityPostprocessor\n",
    "from llama_index.indices.postprocessor import LLMRerank\n",
    "from llama_index.indices.postprocessor import SentenceEmbeddingOptimizer\n",
    "import json\n",
    "from CustomRV import CustomRetriever\n",
    "from llama_index.schema import NodeWithScore,TextNode,NodeRelationship,ObjectType,RelatedNodeInfo"
   ]
  },
  {
   "cell_type": "code",
   "execution_count": 45,
   "metadata": {},
   "outputs": [
    {
     "data": {
      "text/plain": [
       "[TextNode(id_='e1d58899-63bc-4166-a96f-340b2a43fed2', embedding=None, metadata={'url': 'https://www.vinmec.com/tin-tuc/thong-tin-suc-khoe/suc-khoe-tong-quat/hoi-chung-met-moi-ke-gay-hau-qua-tham-lang/'}, excluded_embed_metadata_keys=[], excluded_llm_metadata_keys=[], relationships={<NodeRelationship.SOURCE: '1'>: RelatedNodeInfo(node_id='38180a30-2c7b-4b03-b6c9-4b4055d9fd17', node_type=<ObjectType.DOCUMENT: '4'>, metadata={'url': 'https://www.vinmec.com/tin-tuc/thong-tin-suc-khoe/suc-khoe-tong-quat/hoi-chung-met-moi-ke-gay-hau-qua-tham-lang/'}, hash='9db6e1b52881b2119d8f7d5e42c4e78e83f95e8bb333dc781007176dbe21dcfd'), <NodeRelationship.PREVIOUS: '2'>: RelatedNodeInfo(node_id='83d1c749-bdab-4ced-ad98-f4ab89a263c4', node_type=<ObjectType.TEXT: '1'>, metadata={'url': 'https://www.vinmec.com/ung-buou-xa-tri/tu-van-bac-si/dieu-tri-ung-thu-phoi-di-can-hach-nhu-nao/'}, hash='e8da29fd08aeaa58def5792de46b4525f5c806f78ab177b14a279c54005c08c3'), <NodeRelationship.NEXT: '3'>: RelatedNodeInfo(node_id='bb3ac0d4-d18d-4d63-a4da-1554a083e499', node_type=<ObjectType.TEXT: '1'>, metadata={}, hash='83088b11ce06f8a4227ca4532071fb4b1c9197c670c2d25b1f53024507a274e0')}, hash='c28eb498707b90a52cf55bdd44e5f0e4a7b9b2feaee0f7650097c97ce013e047', text='Bài viết của Bác sĩ chuyên khoa I Võ Khắc Khôi Nguyên - Bác sĩ Chấn thương chỉnh hình - Khoa Ngoại tổng hợp - Bệnh viện Đa khoa Quốc tế Vinmec Central ParkHội chứng mệt mỏi là một bệnh lý có mặt trên toàn thế giới. Bệnh lý này cho đến nay vẫn thường bị bỏ sót hoặc ít được chú ý cho đến khi nó trở thành tình trạng mạn tính. Tỷ lệ mắc hội chứng mệt mỏi mạn tính được báo cáo khác nhau ở các khu vực trên thế giới. Tỷ lệ hiện mắc trong cộng đồng chiếm 3,6% dân số ở Hoa Kỳ. Tỷ lệ hiện mắc ở tuổi vị thành niên dao động từ 0,9% ở Vương quốc Anh đến 0,11% ở Hà Lan.Hội chứng mệt mỏi mạn tính có thể ảnh hưởng đến 2,5 triệu người Mỹ. Ước tính có khoảng 25 % bệnh nhân hội chứng mệt mỏi mức độ nặng, tức là ở một thời điểm nào đó trong cuộc đời của họ phải ở nhà hoặc nằm trên giường. Bệnh nhân bị hội chứng mệt mỏi mạn tính cần được chăm sóc nhiều hơn các bệnh nhân mắc nhiều bệnh khác. Tuy nhiên, ngay cả ở Hoa Kỳ, có những vùng nơi người bệnh không nhận được bất kỳ dịch vụ chăm sóc y tế chuyên biệt nào. Cho đến nay, không có một xét nghiệm chuyên biệt nào giúp chẩn đoán xác định bệnh. Trên lâm sàng, cũng không có triệu chứng hay dấu hiệu đặc biệt nào để chẩn đoán chắc chắn. Không có một loại thuốc nào được cục quản lý dược phẩm Hoa Kỳ (FDA) chấp thuận để điều trị hội chứng mệt mỏi. Ngược lại, có khoảng 40 loại thuốc được FDA chấp thuận để điều trị HIV / AIDS một căn bệnh của thời đại. Và rõ ràng không có cách đặc trị cho hội chứng mệt mỏi. Đã hơn 80 năm kể từ khi xuất hiện ca hội chứng mệt mỏi mạn tính đầu tiên được ghi nhận ở Hoa Kỳ, nhưng cho đến nay căn bệnh này vẫn không có cách đặc trị.', start_char_idx=None, end_char_idx=None, text_template='{metadata_str}\\n\\n{content}', metadata_template='{key}: {value}', metadata_seperator='\\n'),\n",
       " TextNode(id_='bb3ac0d4-d18d-4d63-a4da-1554a083e499', embedding=None, metadata={'url': 'https://www.vinmec.com/tin-tuc/thong-tin-suc-khoe/suc-khoe-tong-quat/hoi-chung-met-moi-ke-gay-hau-qua-tham-lang/'}, excluded_embed_metadata_keys=[], excluded_llm_metadata_keys=[], relationships={<NodeRelationship.SOURCE: '1'>: RelatedNodeInfo(node_id='38180a30-2c7b-4b03-b6c9-4b4055d9fd17', node_type=<ObjectType.DOCUMENT: '4'>, metadata={'url': 'https://www.vinmec.com/tin-tuc/thong-tin-suc-khoe/suc-khoe-tong-quat/hoi-chung-met-moi-ke-gay-hau-qua-tham-lang/'}, hash='9db6e1b52881b2119d8f7d5e42c4e78e83f95e8bb333dc781007176dbe21dcfd'), <NodeRelationship.PREVIOUS: '2'>: RelatedNodeInfo(node_id='e1d58899-63bc-4166-a96f-340b2a43fed2', node_type=<ObjectType.TEXT: '1'>, metadata={'url': 'https://www.vinmec.com/tin-tuc/thong-tin-suc-khoe/suc-khoe-tong-quat/hoi-chung-met-moi-ke-gay-hau-qua-tham-lang/'}, hash='ce8daff72187bbe07621525259d63030668e1616960fdbc0b956e79527b259ac'), <NodeRelationship.NEXT: '3'>: RelatedNodeInfo(node_id='587509fe-eeea-4fed-89cb-da22f2916d31', node_type=<ObjectType.TEXT: '1'>, metadata={}, hash='b1fe2e6c39ba9000e6f87e9a1ca5e437bfe89e05b81361a106a8d0909e95ce93')}, hash='cc12fe54813657a8aa6fff44dffb4cacee15befdc8f5e7be1ba55c2f1d4484be', text='Ngược lại, có khoảng 40 loại thuốc được FDA chấp thuận để điều trị HIV / AIDS một căn bệnh của thời đại. Và rõ ràng không có cách đặc trị cho hội chứng mệt mỏi. Đã hơn 80 năm kể từ khi xuất hiện ca hội chứng mệt mỏi mạn tính đầu tiên được ghi nhận ở Hoa Kỳ, nhưng cho đến nay căn bệnh này vẫn không có cách đặc trị. Ngược lại, khoảng thời gian từ ca nhiễm HIV / AIDS đầu tiên đến khi phát triển phương pháp điều trị với các loại thuốc được Cục Quản lý Dược phẩm Liên bang (FDA) phê duyệt là chưa đầy một thập kỷ.Hội chứng mệt mỏi là một rối loạn mạn tính, phức tạp, không rõ nguyên nhân, đặc trưng bởi sự xuất hiện của sự mệt mỏi dữ dội, khuyết tật (thể chất và tinh thần). Bệnh nhân bị cản trở các hoạt động hàng ngày, không giảm khi nghỉ ngơi, nặng hơn khi tập thể dục, và thường liên quan đến các biểu hiện toàn thân, nhiều hệ cơ quan.Hội chứng mệt mỏi kéo dài được Cơ quan Y tế Công cộng Hoa Kỳ mô tả vào năm 1934. Hiện tại, chúng ta vẫn chưa biết nguyên nhân của bệnh một cách rõ ràng. Do đó, bản chất bệnh lý của hội chứng mệt mỏi đã bị bỏ qua và căn bệnh này bị kỳ thị do bị gán nhãn sai là bệnh tâm thần hoặc rối loạn dạng cơ thể. Những nhận thức sai lầm như vậy về căn bệnh này đã dẫn đến việc nghiên cứu không đầy đủ về nó và việc chăm sóc, chữa trị vẫn còn nhiều thiếu sót. Năm 2015, Viện Y học Hoa Kỳ lần đầu tiên đã báo động căn bệnh này ảnh hưởng đến hàng triệu người Mỹ và cảnh báo chính phủ Hoa Kỳ đã đầu tư nghiên cứu về căn bệnh này và hỗ trợ bệnh nhân rất ít.Mặc dù nhiều người bị hội chứng mệt mỏi mạn tính vẫn tiếp tục làm việc bất chấp bệnh tật của họ vì lý do kinh tế và uy tín xã hội. Nhưng điều này gây thiệt hại về năng suất làm việc trên toàn cầu khoảng 6.900 triệu euro. Ước tính hàng năm, mỗi bệnh nhân gây tổn thất 15.200 euro.', start_char_idx=None, end_char_idx=None, text_template='{metadata_str}\\n\\n{content}', metadata_template='{key}: {value}', metadata_seperator='\\n'),\n",
       " TextNode(id_='587509fe-eeea-4fed-89cb-da22f2916d31', embedding=None, metadata={'url': 'https://www.vinmec.com/tin-tuc/thong-tin-suc-khoe/suc-khoe-tong-quat/hoi-chung-met-moi-ke-gay-hau-qua-tham-lang/'}, excluded_embed_metadata_keys=[], excluded_llm_metadata_keys=[], relationships={<NodeRelationship.SOURCE: '1'>: RelatedNodeInfo(node_id='38180a30-2c7b-4b03-b6c9-4b4055d9fd17', node_type=<ObjectType.DOCUMENT: '4'>, metadata={'url': 'https://www.vinmec.com/tin-tuc/thong-tin-suc-khoe/suc-khoe-tong-quat/hoi-chung-met-moi-ke-gay-hau-qua-tham-lang/'}, hash='9db6e1b52881b2119d8f7d5e42c4e78e83f95e8bb333dc781007176dbe21dcfd'), <NodeRelationship.PREVIOUS: '2'>: RelatedNodeInfo(node_id='bb3ac0d4-d18d-4d63-a4da-1554a083e499', node_type=<ObjectType.TEXT: '1'>, metadata={'url': 'https://www.vinmec.com/tin-tuc/thong-tin-suc-khoe/suc-khoe-tong-quat/hoi-chung-met-moi-ke-gay-hau-qua-tham-lang/'}, hash='83088b11ce06f8a4227ca4532071fb4b1c9197c670c2d25b1f53024507a274e0'), <NodeRelationship.NEXT: '3'>: RelatedNodeInfo(node_id='19b74b50-8686-4edc-92cd-1afe9a6e5707', node_type=<ObjectType.TEXT: '1'>, metadata={}, hash='29ee22ecc94728c791503cb4c774b635c9e57d2fd8c1e189e75431ed458e4858')}, hash='2e39e10112521494976aa4e4751fcb8a140010a793139077ca4e89f30f60430a', text='Nhưng điều này gây thiệt hại về năng suất làm việc trên toàn cầu khoảng 6.900 triệu euro. Ước tính hàng năm, mỗi bệnh nhân gây tổn thất 15.200 euro. Những con số này cho thấy hội chứng mệt mỏi là gánh nặng kinh tế xã hội và chăm sóc sức khỏe.Việc nhận diện sai về hội chứng mệt mỏi đã dẫn đến các phương án xử lý không phù hợp. Đặc điểm của hội chứng mệt mỏi như một bệnh tâm thần kinh đã dẫn đến đơn trị bằng liệu pháp hành vi nhận thức hay liệu pháp tập thể dục phân loại khiến bị thất bại. Khi một đứa trẻ bị hội chứng mệt mỏi mạn tính, cha mẹ hoặc người giám hộ có thể bị buộc tội theo luật của các tiểu ban Hoa Kỳ. Trong một số trường hợp, những đứa trẻ này đã bị cách ly khỏi gia đình dẫn đến mức độ nghiêm trọng của bệnh tật ngày càng nặng.Một số nhà khoa học chuyên nghiệp đã theo đuổi nghiên cứu bệnh lý này, nhưng sự nghiệp và sinh kế của họ bị đe dọa. Các bác sĩ lâm sàng của một số trường y trên thế giới đã được yêu cầu ngừng khám bệnh nhân hội chứng mệt mỏi vì mất quá nhiều thời gian của bác sĩ và hiệu quả không như mong đợi. Việc điều trị rất cần sự phối hợp của nhiều bác sĩ chuyên khoa. Gia đình, bè bạn và đồng nghiệp cũng không muốn tiếp xúc với người bệnh. Người bệnh không thể hòa nhập với cộng đồng và sinh hoạt hàng ngày. Đây cũng chính là các rào cản lớn khiến người bệnh khó lòng đạt được kết quả điều trị.Điều trị hội chứng mệt mỏi cần được thăm khám và chẩn đoán xác địnhCác bác sĩ hiện đang điều trị hội chứng mệt mỏi khẳng định nó còn “tàn phá” hơn cả HIV/AIDS. Mặc dù HIV/AIDS gây hậu quả nặng nề cho nhân loại nhưng ngày nay, bệnh lý này đã từng bước được chặn đứng. Thành quả có được là nhờ sự quan tâm của chính phủ và hệ thống y tế các nước trước đại dịch của nhân loại. Thế nhưng, qua những vấn nạn mô tả ở trên, hội chứng mệt mỏi vẫn chưa được quan tâm một cách đúng mức.', start_char_idx=None, end_char_idx=None, text_template='{metadata_str}\\n\\n{content}', metadata_template='{key}: {value}', metadata_seperator='\\n'),\n",
       " TextNode(id_='19b74b50-8686-4edc-92cd-1afe9a6e5707', embedding=None, metadata={'url': 'https://www.vinmec.com/tin-tuc/thong-tin-suc-khoe/suc-khoe-tong-quat/hoi-chung-met-moi-ke-gay-hau-qua-tham-lang/'}, excluded_embed_metadata_keys=[], excluded_llm_metadata_keys=[], relationships={<NodeRelationship.SOURCE: '1'>: RelatedNodeInfo(node_id='38180a30-2c7b-4b03-b6c9-4b4055d9fd17', node_type=<ObjectType.DOCUMENT: '4'>, metadata={'url': 'https://www.vinmec.com/tin-tuc/thong-tin-suc-khoe/suc-khoe-tong-quat/hoi-chung-met-moi-ke-gay-hau-qua-tham-lang/'}, hash='9db6e1b52881b2119d8f7d5e42c4e78e83f95e8bb333dc781007176dbe21dcfd'), <NodeRelationship.PREVIOUS: '2'>: RelatedNodeInfo(node_id='587509fe-eeea-4fed-89cb-da22f2916d31', node_type=<ObjectType.TEXT: '1'>, metadata={'url': 'https://www.vinmec.com/tin-tuc/thong-tin-suc-khoe/suc-khoe-tong-quat/hoi-chung-met-moi-ke-gay-hau-qua-tham-lang/'}, hash='b1fe2e6c39ba9000e6f87e9a1ca5e437bfe89e05b81361a106a8d0909e95ce93'), <NodeRelationship.NEXT: '3'>: RelatedNodeInfo(node_id='6d349f77-a211-4fe6-aed4-83b151800944', node_type=<ObjectType.TEXT: '1'>, metadata={}, hash='f030396add70a45c4576099efe1af5181340e7ed04dcb873989dbd8fac3dc591')}, hash='4a7e725cf1dbfeee00ba9c228b14f1abf73b54f8587a3d7bed665edd632081a0', text='Mặc dù HIV/AIDS gây hậu quả nặng nề cho nhân loại nhưng ngày nay, bệnh lý này đã từng bước được chặn đứng. Thành quả có được là nhờ sự quan tâm của chính phủ và hệ thống y tế các nước trước đại dịch của nhân loại. Thế nhưng, qua những vấn nạn mô tả ở trên, hội chứng mệt mỏi vẫn chưa được quan tâm một cách đúng mức. Ở Hoa Kỳ- quốc gia có nền y tế bậc nhất thế giới, Chính phủ Hoa Kỳ phân bổ chi phí cho việc nghiên cứu hội chứng mệt mỏi mạn tính thấp hơn nhiều so với các bệnh mãn tính khác. Trong khi đó tại Mỹ, ước tính số bệnh nhân bị hội chứng mệt mỏi mạn tính có thể gấp đôi số người nhiễm HIV/AIDS. Ví dụ, chi phí nghiên cứu ước tính năm 2018 cho mỗi bệnh nhân HIV/AIDS ở Hoa Kỳ là 2.000 đô la. Trong khi chi tiêu cho nghiên cứu hội chứng mệt mỏi mạn tính chỉ chưa đến 6 đô la cho mỗi bệnh nhân. Một sự chênh lệch lên đến 357 lần.Tóm lại, trong khi ngành y tế gặp nhiều khó khăn về chẩn đoán, điều trị hội chứng mệt mỏi, thì hơn ai hết bạn hãy tự bảo vệ mình trước bệnh lý này. Chế độ ăn uống bổ sung dinh dưỡng đầy đủ, duy trì lối sống lành mạnh, làm việc và nghỉ ngơi hợp lý là lá chắn tốt giúp cơ thể bạn không bị hội chứng mệt mỏi. Đó cũng là phương châm phòng bệnh hơn chữa bệnh.', start_char_idx=None, end_char_idx=None, text_template='{metadata_str}\\n\\n{content}', metadata_template='{key}: {value}', metadata_seperator='\\n')]"
      ]
     },
     "execution_count": 45,
     "metadata": {},
     "output_type": "execute_result"
    }
   ],
   "source": [
    "convert_nodes = vin_retriever.struct_create_node(search_nodes)\n",
    "convert_nodes"
   ]
  },
  {
   "cell_type": "code",
   "execution_count": 46,
   "metadata": {},
   "outputs": [],
   "source": [
    "final_list_nodes = selected_nodes + convert_nodes"
   ]
  },
  {
   "cell_type": "code",
   "execution_count": 47,
   "metadata": {},
   "outputs": [
    {
     "name": "stdout",
     "output_type": "stream",
     "text": [
      "https://www.vinmec.com/tin-tuc/thong-tin-suc-khoe/suc-khoe-tong-quat/met-moi-co-phai-la-benh/\n",
      "https://www.vinmec.com/tin-tuc/thong-tin-suc-khoe/suc-khoe-tong-quat/hoi-chung-met-moi-ke-gay-hau-qua-tham-lang/\n",
      "https://www.vinmec.com/tin-tuc/thong-tin-suc-khoe/suc-khoe-tong-quat/hoi-chung-met-moi-ke-gay-hau-qua-tham-lang/\n",
      "Triệu chứng kiệt sức có thể là một trong những triệu chứng của hội chứng mệt mỏi. Hội chứng mệt mỏi là một bệnh lý phức tạp và khó điều trị, có thể ảnh hưởng đến nhiề"
     ]
    },
    {
     "ename": "KeyboardInterrupt",
     "evalue": "",
     "output_type": "error",
     "traceback": [
      "\u001b[1;31m---------------------------------------------------------------------------\u001b[0m",
      "\u001b[1;31mKeyboardInterrupt\u001b[0m                         Traceback (most recent call last)",
      "Cell \u001b[1;32mIn[47], line 12\u001b[0m\n\u001b[0;32m     10\u001b[0m \u001b[38;5;28;01mfor\u001b[39;00m source \u001b[38;5;129;01min\u001b[39;00m response\u001b[38;5;241m.\u001b[39msource_nodes:\n\u001b[0;32m     11\u001b[0m     \u001b[38;5;28mprint\u001b[39m(source\u001b[38;5;241m.\u001b[39mmetadata[\u001b[38;5;124m'\u001b[39m\u001b[38;5;124murl\u001b[39m\u001b[38;5;124m'\u001b[39m])\n\u001b[1;32m---> 12\u001b[0m \u001b[38;5;28;01mfor\u001b[39;00m text \u001b[38;5;129;01min\u001b[39;00m response\u001b[38;5;241m.\u001b[39mresponse_gen:\n\u001b[0;32m     13\u001b[0m     \u001b[38;5;28mprint\u001b[39m(text,end\u001b[38;5;241m=\u001b[39m\u001b[38;5;124m'\u001b[39m\u001b[38;5;124m'\u001b[39m)\n",
      "File \u001b[1;32md:\\du-ws\\text2SQL\\venv\\lib\\site-packages\\llama_index\\llms\\llm.py:58\u001b[0m, in \u001b[0;36mstream_chat_response_to_tokens.<locals>.gen\u001b[1;34m()\u001b[0m\n\u001b[0;32m     57\u001b[0m \u001b[38;5;28;01mdef\u001b[39;00m \u001b[38;5;21mgen\u001b[39m() \u001b[38;5;241m-\u001b[39m\u001b[38;5;241m>\u001b[39m TokenGen:\n\u001b[1;32m---> 58\u001b[0m     \u001b[38;5;28;01mfor\u001b[39;00m response \u001b[38;5;129;01min\u001b[39;00m chat_response_gen:\n\u001b[0;32m     59\u001b[0m         \u001b[38;5;28;01myield\u001b[39;00m response\u001b[38;5;241m.\u001b[39mdelta \u001b[38;5;129;01mor\u001b[39;00m \u001b[38;5;124m\"\u001b[39m\u001b[38;5;124m\"\u001b[39m\n",
      "File \u001b[1;32md:\\du-ws\\text2SQL\\venv\\lib\\site-packages\\llama_index\\llms\\base.py:103\u001b[0m, in \u001b[0;36mllm_chat_callback.<locals>.wrap.<locals>.wrapped_llm_chat.<locals>.wrapped_gen\u001b[1;34m()\u001b[0m\n\u001b[0;32m    101\u001b[0m \u001b[38;5;28;01mdef\u001b[39;00m \u001b[38;5;21mwrapped_gen\u001b[39m() \u001b[38;5;241m-\u001b[39m\u001b[38;5;241m>\u001b[39m ChatResponseGen:\n\u001b[0;32m    102\u001b[0m     last_response \u001b[38;5;241m=\u001b[39m \u001b[38;5;28;01mNone\u001b[39;00m\n\u001b[1;32m--> 103\u001b[0m     \u001b[38;5;28;01mfor\u001b[39;00m x \u001b[38;5;129;01min\u001b[39;00m f_return_val:\n\u001b[0;32m    104\u001b[0m         \u001b[38;5;28;01myield\u001b[39;00m cast(ChatResponse, x)\n\u001b[0;32m    105\u001b[0m         last_response \u001b[38;5;241m=\u001b[39m x\n",
      "File \u001b[1;32md:\\du-ws\\text2SQL\\venv\\lib\\site-packages\\llama_index\\llms\\openai.py:360\u001b[0m, in \u001b[0;36mOpenAI._stream_chat.<locals>.gen\u001b[1;34m()\u001b[0m\n\u001b[0;32m    357\u001b[0m tool_calls: List[ChoiceDeltaToolCall] \u001b[38;5;241m=\u001b[39m []\n\u001b[0;32m    359\u001b[0m is_function \u001b[38;5;241m=\u001b[39m \u001b[38;5;28;01mFalse\u001b[39;00m\n\u001b[1;32m--> 360\u001b[0m \u001b[38;5;28;01mfor\u001b[39;00m response \u001b[38;5;129;01min\u001b[39;00m client\u001b[38;5;241m.\u001b[39mchat\u001b[38;5;241m.\u001b[39mcompletions\u001b[38;5;241m.\u001b[39mcreate(\n\u001b[0;32m    361\u001b[0m     messages\u001b[38;5;241m=\u001b[39mmessage_dicts,\n\u001b[0;32m    362\u001b[0m     stream\u001b[38;5;241m=\u001b[39m\u001b[38;5;28;01mTrue\u001b[39;00m,\n\u001b[0;32m    363\u001b[0m     \u001b[38;5;241m*\u001b[39m\u001b[38;5;241m*\u001b[39m\u001b[38;5;28mself\u001b[39m\u001b[38;5;241m.\u001b[39m_get_model_kwargs(\u001b[38;5;241m*\u001b[39m\u001b[38;5;241m*\u001b[39mkwargs),\n\u001b[0;32m    364\u001b[0m ):\n\u001b[0;32m    365\u001b[0m     response \u001b[38;5;241m=\u001b[39m cast(ChatCompletionChunk, response)\n\u001b[0;32m    366\u001b[0m     \u001b[38;5;28;01mif\u001b[39;00m \u001b[38;5;28mlen\u001b[39m(response\u001b[38;5;241m.\u001b[39mchoices) \u001b[38;5;241m>\u001b[39m \u001b[38;5;241m0\u001b[39m:\n",
      "File \u001b[1;32md:\\du-ws\\text2SQL\\venv\\lib\\site-packages\\openai\\_streaming.py:40\u001b[0m, in \u001b[0;36mStream.__iter__\u001b[1;34m(self)\u001b[0m\n\u001b[0;32m     39\u001b[0m \u001b[38;5;28;01mdef\u001b[39;00m \u001b[38;5;21m__iter__\u001b[39m(\u001b[38;5;28mself\u001b[39m) \u001b[38;5;241m-\u001b[39m\u001b[38;5;241m>\u001b[39m Iterator[ResponseT]:\n\u001b[1;32m---> 40\u001b[0m     \u001b[38;5;28;01mfor\u001b[39;00m item \u001b[38;5;129;01min\u001b[39;00m \u001b[38;5;28mself\u001b[39m\u001b[38;5;241m.\u001b[39m_iterator:\n\u001b[0;32m     41\u001b[0m         \u001b[38;5;28;01myield\u001b[39;00m item\n",
      "File \u001b[1;32md:\\du-ws\\text2SQL\\venv\\lib\\site-packages\\openai\\_streaming.py:52\u001b[0m, in \u001b[0;36mStream.__stream__\u001b[1;34m(self)\u001b[0m\n\u001b[0;32m     49\u001b[0m process_data \u001b[38;5;241m=\u001b[39m \u001b[38;5;28mself\u001b[39m\u001b[38;5;241m.\u001b[39m_client\u001b[38;5;241m.\u001b[39m_process_response_data\n\u001b[0;32m     50\u001b[0m iterator \u001b[38;5;241m=\u001b[39m \u001b[38;5;28mself\u001b[39m\u001b[38;5;241m.\u001b[39m_iter_events()\n\u001b[1;32m---> 52\u001b[0m \u001b[38;5;28;01mfor\u001b[39;00m sse \u001b[38;5;129;01min\u001b[39;00m iterator:\n\u001b[0;32m     53\u001b[0m     \u001b[38;5;28;01mif\u001b[39;00m sse\u001b[38;5;241m.\u001b[39mdata\u001b[38;5;241m.\u001b[39mstartswith(\u001b[38;5;124m\"\u001b[39m\u001b[38;5;124m[DONE]\u001b[39m\u001b[38;5;124m\"\u001b[39m):\n\u001b[0;32m     54\u001b[0m         \u001b[38;5;28;01mbreak\u001b[39;00m\n",
      "File \u001b[1;32md:\\du-ws\\text2SQL\\venv\\lib\\site-packages\\openai\\_streaming.py:44\u001b[0m, in \u001b[0;36mStream._iter_events\u001b[1;34m(self)\u001b[0m\n\u001b[0;32m     43\u001b[0m \u001b[38;5;28;01mdef\u001b[39;00m \u001b[38;5;21m_iter_events\u001b[39m(\u001b[38;5;28mself\u001b[39m) \u001b[38;5;241m-\u001b[39m\u001b[38;5;241m>\u001b[39m Iterator[ServerSentEvent]:\n\u001b[1;32m---> 44\u001b[0m     \u001b[38;5;28;01myield from\u001b[39;00m \u001b[38;5;28mself\u001b[39m\u001b[38;5;241m.\u001b[39m_decoder\u001b[38;5;241m.\u001b[39miter(\u001b[38;5;28mself\u001b[39m\u001b[38;5;241m.\u001b[39mresponse\u001b[38;5;241m.\u001b[39miter_lines())\n",
      "File \u001b[1;32md:\\du-ws\\text2SQL\\venv\\lib\\site-packages\\openai\\_streaming.py:182\u001b[0m, in \u001b[0;36mSSEDecoder.iter\u001b[1;34m(self, iterator)\u001b[0m\n\u001b[0;32m    180\u001b[0m \u001b[38;5;28;01mdef\u001b[39;00m \u001b[38;5;21miter\u001b[39m(\u001b[38;5;28mself\u001b[39m, iterator: Iterator[\u001b[38;5;28mstr\u001b[39m]) \u001b[38;5;241m-\u001b[39m\u001b[38;5;241m>\u001b[39m Iterator[ServerSentEvent]:\n\u001b[0;32m    181\u001b[0m \u001b[38;5;250m    \u001b[39m\u001b[38;5;124;03m\"\"\"Given an iterator that yields lines, iterate over it & yield every event encountered\"\"\"\u001b[39;00m\n\u001b[1;32m--> 182\u001b[0m     \u001b[38;5;28;01mfor\u001b[39;00m line \u001b[38;5;129;01min\u001b[39;00m iterator:\n\u001b[0;32m    183\u001b[0m         line \u001b[38;5;241m=\u001b[39m line\u001b[38;5;241m.\u001b[39mrstrip(\u001b[38;5;124m\"\u001b[39m\u001b[38;5;130;01m\\n\u001b[39;00m\u001b[38;5;124m\"\u001b[39m)\n\u001b[0;32m    184\u001b[0m         sse \u001b[38;5;241m=\u001b[39m \u001b[38;5;28mself\u001b[39m\u001b[38;5;241m.\u001b[39mdecode(line)\n",
      "File \u001b[1;32md:\\du-ws\\text2SQL\\venv\\lib\\site-packages\\httpx\\_models.py:862\u001b[0m, in \u001b[0;36mResponse.iter_lines\u001b[1;34m(self)\u001b[0m\n\u001b[0;32m    860\u001b[0m decoder \u001b[38;5;241m=\u001b[39m LineDecoder()\n\u001b[0;32m    861\u001b[0m \u001b[38;5;28;01mwith\u001b[39;00m request_context(request\u001b[38;5;241m=\u001b[39m\u001b[38;5;28mself\u001b[39m\u001b[38;5;241m.\u001b[39m_request):\n\u001b[1;32m--> 862\u001b[0m     \u001b[38;5;28;01mfor\u001b[39;00m text \u001b[38;5;129;01min\u001b[39;00m \u001b[38;5;28mself\u001b[39m\u001b[38;5;241m.\u001b[39miter_text():\n\u001b[0;32m    863\u001b[0m         \u001b[38;5;28;01mfor\u001b[39;00m line \u001b[38;5;129;01min\u001b[39;00m decoder\u001b[38;5;241m.\u001b[39mdecode(text):\n\u001b[0;32m    864\u001b[0m             \u001b[38;5;28;01myield\u001b[39;00m line\n",
      "File \u001b[1;32md:\\du-ws\\text2SQL\\venv\\lib\\site-packages\\httpx\\_models.py:849\u001b[0m, in \u001b[0;36mResponse.iter_text\u001b[1;34m(self, chunk_size)\u001b[0m\n\u001b[0;32m    847\u001b[0m chunker \u001b[38;5;241m=\u001b[39m TextChunker(chunk_size\u001b[38;5;241m=\u001b[39mchunk_size)\n\u001b[0;32m    848\u001b[0m \u001b[38;5;28;01mwith\u001b[39;00m request_context(request\u001b[38;5;241m=\u001b[39m\u001b[38;5;28mself\u001b[39m\u001b[38;5;241m.\u001b[39m_request):\n\u001b[1;32m--> 849\u001b[0m     \u001b[38;5;28;01mfor\u001b[39;00m byte_content \u001b[38;5;129;01min\u001b[39;00m \u001b[38;5;28mself\u001b[39m\u001b[38;5;241m.\u001b[39miter_bytes():\n\u001b[0;32m    850\u001b[0m         text_content \u001b[38;5;241m=\u001b[39m decoder\u001b[38;5;241m.\u001b[39mdecode(byte_content)\n\u001b[0;32m    851\u001b[0m         \u001b[38;5;28;01mfor\u001b[39;00m chunk \u001b[38;5;129;01min\u001b[39;00m chunker\u001b[38;5;241m.\u001b[39mdecode(text_content):\n",
      "File \u001b[1;32md:\\du-ws\\text2SQL\\venv\\lib\\site-packages\\httpx\\_models.py:828\u001b[0m, in \u001b[0;36mResponse.iter_bytes\u001b[1;34m(self, chunk_size)\u001b[0m\n\u001b[0;32m    826\u001b[0m chunker \u001b[38;5;241m=\u001b[39m ByteChunker(chunk_size\u001b[38;5;241m=\u001b[39mchunk_size)\n\u001b[0;32m    827\u001b[0m \u001b[38;5;28;01mwith\u001b[39;00m request_context(request\u001b[38;5;241m=\u001b[39m\u001b[38;5;28mself\u001b[39m\u001b[38;5;241m.\u001b[39m_request):\n\u001b[1;32m--> 828\u001b[0m     \u001b[38;5;28;01mfor\u001b[39;00m raw_bytes \u001b[38;5;129;01min\u001b[39;00m \u001b[38;5;28mself\u001b[39m\u001b[38;5;241m.\u001b[39miter_raw():\n\u001b[0;32m    829\u001b[0m         decoded \u001b[38;5;241m=\u001b[39m decoder\u001b[38;5;241m.\u001b[39mdecode(raw_bytes)\n\u001b[0;32m    830\u001b[0m         \u001b[38;5;28;01mfor\u001b[39;00m chunk \u001b[38;5;129;01min\u001b[39;00m chunker\u001b[38;5;241m.\u001b[39mdecode(decoded):\n",
      "File \u001b[1;32md:\\du-ws\\text2SQL\\venv\\lib\\site-packages\\httpx\\_models.py:886\u001b[0m, in \u001b[0;36mResponse.iter_raw\u001b[1;34m(self, chunk_size)\u001b[0m\n\u001b[0;32m    883\u001b[0m chunker \u001b[38;5;241m=\u001b[39m ByteChunker(chunk_size\u001b[38;5;241m=\u001b[39mchunk_size)\n\u001b[0;32m    885\u001b[0m \u001b[38;5;28;01mwith\u001b[39;00m request_context(request\u001b[38;5;241m=\u001b[39m\u001b[38;5;28mself\u001b[39m\u001b[38;5;241m.\u001b[39m_request):\n\u001b[1;32m--> 886\u001b[0m     \u001b[38;5;28;01mfor\u001b[39;00m raw_stream_bytes \u001b[38;5;129;01min\u001b[39;00m \u001b[38;5;28mself\u001b[39m\u001b[38;5;241m.\u001b[39mstream:\n\u001b[0;32m    887\u001b[0m         \u001b[38;5;28mself\u001b[39m\u001b[38;5;241m.\u001b[39m_num_bytes_downloaded \u001b[38;5;241m+\u001b[39m\u001b[38;5;241m=\u001b[39m \u001b[38;5;28mlen\u001b[39m(raw_stream_bytes)\n\u001b[0;32m    888\u001b[0m         \u001b[38;5;28;01mfor\u001b[39;00m chunk \u001b[38;5;129;01min\u001b[39;00m chunker\u001b[38;5;241m.\u001b[39mdecode(raw_stream_bytes):\n",
      "File \u001b[1;32md:\\du-ws\\text2SQL\\venv\\lib\\site-packages\\httpx\\_client.py:123\u001b[0m, in \u001b[0;36mBoundSyncStream.__iter__\u001b[1;34m(self)\u001b[0m\n\u001b[0;32m    122\u001b[0m \u001b[38;5;28;01mdef\u001b[39;00m \u001b[38;5;21m__iter__\u001b[39m(\u001b[38;5;28mself\u001b[39m) \u001b[38;5;241m-\u001b[39m\u001b[38;5;241m>\u001b[39m typing\u001b[38;5;241m.\u001b[39mIterator[\u001b[38;5;28mbytes\u001b[39m]:\n\u001b[1;32m--> 123\u001b[0m     \u001b[38;5;28;01mfor\u001b[39;00m chunk \u001b[38;5;129;01min\u001b[39;00m \u001b[38;5;28mself\u001b[39m\u001b[38;5;241m.\u001b[39m_stream:\n\u001b[0;32m    124\u001b[0m         \u001b[38;5;28;01myield\u001b[39;00m chunk\n",
      "File \u001b[1;32md:\\du-ws\\text2SQL\\venv\\lib\\site-packages\\httpx\\_transports\\default.py:110\u001b[0m, in \u001b[0;36mResponseStream.__iter__\u001b[1;34m(self)\u001b[0m\n\u001b[0;32m    108\u001b[0m \u001b[38;5;28;01mdef\u001b[39;00m \u001b[38;5;21m__iter__\u001b[39m(\u001b[38;5;28mself\u001b[39m) \u001b[38;5;241m-\u001b[39m\u001b[38;5;241m>\u001b[39m typing\u001b[38;5;241m.\u001b[39mIterator[\u001b[38;5;28mbytes\u001b[39m]:\n\u001b[0;32m    109\u001b[0m     \u001b[38;5;28;01mwith\u001b[39;00m map_httpcore_exceptions():\n\u001b[1;32m--> 110\u001b[0m         \u001b[38;5;28;01mfor\u001b[39;00m part \u001b[38;5;129;01min\u001b[39;00m \u001b[38;5;28mself\u001b[39m\u001b[38;5;241m.\u001b[39m_httpcore_stream:\n\u001b[0;32m    111\u001b[0m             \u001b[38;5;28;01myield\u001b[39;00m part\n",
      "File \u001b[1;32md:\\du-ws\\text2SQL\\venv\\lib\\site-packages\\httpcore\\_sync\\connection_pool.py:361\u001b[0m, in \u001b[0;36mConnectionPoolByteStream.__iter__\u001b[1;34m(self)\u001b[0m\n\u001b[0;32m    360\u001b[0m \u001b[38;5;28;01mdef\u001b[39;00m \u001b[38;5;21m__iter__\u001b[39m(\u001b[38;5;28mself\u001b[39m) \u001b[38;5;241m-\u001b[39m\u001b[38;5;241m>\u001b[39m Iterator[\u001b[38;5;28mbytes\u001b[39m]:\n\u001b[1;32m--> 361\u001b[0m     \u001b[38;5;28;01mfor\u001b[39;00m part \u001b[38;5;129;01min\u001b[39;00m \u001b[38;5;28mself\u001b[39m\u001b[38;5;241m.\u001b[39m_stream:\n\u001b[0;32m    362\u001b[0m         \u001b[38;5;28;01myield\u001b[39;00m part\n",
      "File \u001b[1;32md:\\du-ws\\text2SQL\\venv\\lib\\site-packages\\httpcore\\_sync\\http11.py:337\u001b[0m, in \u001b[0;36mHTTP11ConnectionByteStream.__iter__\u001b[1;34m(self)\u001b[0m\n\u001b[0;32m    335\u001b[0m \u001b[38;5;28;01mwith\u001b[39;00m ShieldCancellation():\n\u001b[0;32m    336\u001b[0m     \u001b[38;5;28mself\u001b[39m\u001b[38;5;241m.\u001b[39mclose()\n\u001b[1;32m--> 337\u001b[0m \u001b[38;5;28;01mraise\u001b[39;00m exc\n",
      "File \u001b[1;32md:\\du-ws\\text2SQL\\venv\\lib\\site-packages\\httpcore\\_sync\\http11.py:329\u001b[0m, in \u001b[0;36mHTTP11ConnectionByteStream.__iter__\u001b[1;34m(self)\u001b[0m\n\u001b[0;32m    327\u001b[0m \u001b[38;5;28;01mtry\u001b[39;00m:\n\u001b[0;32m    328\u001b[0m     \u001b[38;5;28;01mwith\u001b[39;00m Trace(\u001b[38;5;124m\"\u001b[39m\u001b[38;5;124mreceive_response_body\u001b[39m\u001b[38;5;124m\"\u001b[39m, logger, \u001b[38;5;28mself\u001b[39m\u001b[38;5;241m.\u001b[39m_request, kwargs):\n\u001b[1;32m--> 329\u001b[0m         \u001b[38;5;28;01mfor\u001b[39;00m chunk \u001b[38;5;129;01min\u001b[39;00m \u001b[38;5;28mself\u001b[39m\u001b[38;5;241m.\u001b[39m_connection\u001b[38;5;241m.\u001b[39m_receive_response_body(\u001b[38;5;241m*\u001b[39m\u001b[38;5;241m*\u001b[39mkwargs):\n\u001b[0;32m    330\u001b[0m             \u001b[38;5;28;01myield\u001b[39;00m chunk\n\u001b[0;32m    331\u001b[0m \u001b[38;5;28;01mexcept\u001b[39;00m \u001b[38;5;167;01mBaseException\u001b[39;00m \u001b[38;5;28;01mas\u001b[39;00m exc:\n\u001b[0;32m    332\u001b[0m     \u001b[38;5;66;03m# If we get an exception while streaming the response,\u001b[39;00m\n\u001b[0;32m    333\u001b[0m     \u001b[38;5;66;03m# we want to close the response (and possibly the connection)\u001b[39;00m\n\u001b[0;32m    334\u001b[0m     \u001b[38;5;66;03m# before raising that exception.\u001b[39;00m\n",
      "File \u001b[1;32md:\\du-ws\\text2SQL\\venv\\lib\\site-packages\\httpcore\\_sync\\http11.py:198\u001b[0m, in \u001b[0;36mHTTP11Connection._receive_response_body\u001b[1;34m(self, request)\u001b[0m\n\u001b[0;32m    195\u001b[0m timeout \u001b[38;5;241m=\u001b[39m timeouts\u001b[38;5;241m.\u001b[39mget(\u001b[38;5;124m\"\u001b[39m\u001b[38;5;124mread\u001b[39m\u001b[38;5;124m\"\u001b[39m, \u001b[38;5;28;01mNone\u001b[39;00m)\n\u001b[0;32m    197\u001b[0m \u001b[38;5;28;01mwhile\u001b[39;00m \u001b[38;5;28;01mTrue\u001b[39;00m:\n\u001b[1;32m--> 198\u001b[0m     event \u001b[38;5;241m=\u001b[39m \u001b[38;5;28;43mself\u001b[39;49m\u001b[38;5;241;43m.\u001b[39;49m\u001b[43m_receive_event\u001b[49m\u001b[43m(\u001b[49m\u001b[43mtimeout\u001b[49m\u001b[38;5;241;43m=\u001b[39;49m\u001b[43mtimeout\u001b[49m\u001b[43m)\u001b[49m\n\u001b[0;32m    199\u001b[0m     \u001b[38;5;28;01mif\u001b[39;00m \u001b[38;5;28misinstance\u001b[39m(event, h11\u001b[38;5;241m.\u001b[39mData):\n\u001b[0;32m    200\u001b[0m         \u001b[38;5;28;01myield\u001b[39;00m \u001b[38;5;28mbytes\u001b[39m(event\u001b[38;5;241m.\u001b[39mdata)\n",
      "File \u001b[1;32md:\\du-ws\\text2SQL\\venv\\lib\\site-packages\\httpcore\\_sync\\http11.py:212\u001b[0m, in \u001b[0;36mHTTP11Connection._receive_event\u001b[1;34m(self, timeout)\u001b[0m\n\u001b[0;32m    209\u001b[0m     event \u001b[38;5;241m=\u001b[39m \u001b[38;5;28mself\u001b[39m\u001b[38;5;241m.\u001b[39m_h11_state\u001b[38;5;241m.\u001b[39mnext_event()\n\u001b[0;32m    211\u001b[0m \u001b[38;5;28;01mif\u001b[39;00m event \u001b[38;5;129;01mis\u001b[39;00m h11\u001b[38;5;241m.\u001b[39mNEED_DATA:\n\u001b[1;32m--> 212\u001b[0m     data \u001b[38;5;241m=\u001b[39m \u001b[38;5;28;43mself\u001b[39;49m\u001b[38;5;241;43m.\u001b[39;49m\u001b[43m_network_stream\u001b[49m\u001b[38;5;241;43m.\u001b[39;49m\u001b[43mread\u001b[49m\u001b[43m(\u001b[49m\n\u001b[0;32m    213\u001b[0m \u001b[43m        \u001b[49m\u001b[38;5;28;43mself\u001b[39;49m\u001b[38;5;241;43m.\u001b[39;49m\u001b[43mREAD_NUM_BYTES\u001b[49m\u001b[43m,\u001b[49m\u001b[43m \u001b[49m\u001b[43mtimeout\u001b[49m\u001b[38;5;241;43m=\u001b[39;49m\u001b[43mtimeout\u001b[49m\n\u001b[0;32m    214\u001b[0m \u001b[43m    \u001b[49m\u001b[43m)\u001b[49m\n\u001b[0;32m    216\u001b[0m     \u001b[38;5;66;03m# If we feed this case through h11 we'll raise an exception like:\u001b[39;00m\n\u001b[0;32m    217\u001b[0m     \u001b[38;5;66;03m#\u001b[39;00m\n\u001b[0;32m    218\u001b[0m     \u001b[38;5;66;03m#     httpcore.RemoteProtocolError: can't handle event type\u001b[39;00m\n\u001b[1;32m   (...)\u001b[0m\n\u001b[0;32m    222\u001b[0m     \u001b[38;5;66;03m# perspective. Instead we handle this case distinctly and treat\u001b[39;00m\n\u001b[0;32m    223\u001b[0m     \u001b[38;5;66;03m# it as a ConnectError.\u001b[39;00m\n\u001b[0;32m    224\u001b[0m     \u001b[38;5;28;01mif\u001b[39;00m data \u001b[38;5;241m==\u001b[39m \u001b[38;5;124mb\u001b[39m\u001b[38;5;124m\"\u001b[39m\u001b[38;5;124m\"\u001b[39m \u001b[38;5;129;01mand\u001b[39;00m \u001b[38;5;28mself\u001b[39m\u001b[38;5;241m.\u001b[39m_h11_state\u001b[38;5;241m.\u001b[39mtheir_state \u001b[38;5;241m==\u001b[39m h11\u001b[38;5;241m.\u001b[39mSEND_RESPONSE:\n",
      "File \u001b[1;32md:\\du-ws\\text2SQL\\venv\\lib\\site-packages\\httpcore\\_backends\\sync.py:126\u001b[0m, in \u001b[0;36mSyncStream.read\u001b[1;34m(self, max_bytes, timeout)\u001b[0m\n\u001b[0;32m    124\u001b[0m \u001b[38;5;28;01mwith\u001b[39;00m map_exceptions(exc_map):\n\u001b[0;32m    125\u001b[0m     \u001b[38;5;28mself\u001b[39m\u001b[38;5;241m.\u001b[39m_sock\u001b[38;5;241m.\u001b[39msettimeout(timeout)\n\u001b[1;32m--> 126\u001b[0m     \u001b[38;5;28;01mreturn\u001b[39;00m \u001b[38;5;28;43mself\u001b[39;49m\u001b[38;5;241;43m.\u001b[39;49m\u001b[43m_sock\u001b[49m\u001b[38;5;241;43m.\u001b[39;49m\u001b[43mrecv\u001b[49m\u001b[43m(\u001b[49m\u001b[43mmax_bytes\u001b[49m\u001b[43m)\u001b[49m\n",
      "File \u001b[1;32m~\\AppData\\Local\\Programs\\Python\\Python39\\lib\\ssl.py:1227\u001b[0m, in \u001b[0;36mSSLSocket.recv\u001b[1;34m(self, buflen, flags)\u001b[0m\n\u001b[0;32m   1223\u001b[0m     \u001b[38;5;28;01mif\u001b[39;00m flags \u001b[38;5;241m!=\u001b[39m \u001b[38;5;241m0\u001b[39m:\n\u001b[0;32m   1224\u001b[0m         \u001b[38;5;28;01mraise\u001b[39;00m \u001b[38;5;167;01mValueError\u001b[39;00m(\n\u001b[0;32m   1225\u001b[0m             \u001b[38;5;124m\"\u001b[39m\u001b[38;5;124mnon-zero flags not allowed in calls to recv() on \u001b[39m\u001b[38;5;132;01m%s\u001b[39;00m\u001b[38;5;124m\"\u001b[39m \u001b[38;5;241m%\u001b[39m\n\u001b[0;32m   1226\u001b[0m             \u001b[38;5;28mself\u001b[39m\u001b[38;5;241m.\u001b[39m\u001b[38;5;18m__class__\u001b[39m)\n\u001b[1;32m-> 1227\u001b[0m     \u001b[38;5;28;01mreturn\u001b[39;00m \u001b[38;5;28;43mself\u001b[39;49m\u001b[38;5;241;43m.\u001b[39;49m\u001b[43mread\u001b[49m\u001b[43m(\u001b[49m\u001b[43mbuflen\u001b[49m\u001b[43m)\u001b[49m\n\u001b[0;32m   1228\u001b[0m \u001b[38;5;28;01melse\u001b[39;00m:\n\u001b[0;32m   1229\u001b[0m     \u001b[38;5;28;01mreturn\u001b[39;00m \u001b[38;5;28msuper\u001b[39m()\u001b[38;5;241m.\u001b[39mrecv(buflen, flags)\n",
      "File \u001b[1;32m~\\AppData\\Local\\Programs\\Python\\Python39\\lib\\ssl.py:1102\u001b[0m, in \u001b[0;36mSSLSocket.read\u001b[1;34m(self, len, buffer)\u001b[0m\n\u001b[0;32m   1100\u001b[0m         \u001b[38;5;28;01mreturn\u001b[39;00m \u001b[38;5;28mself\u001b[39m\u001b[38;5;241m.\u001b[39m_sslobj\u001b[38;5;241m.\u001b[39mread(\u001b[38;5;28mlen\u001b[39m, buffer)\n\u001b[0;32m   1101\u001b[0m     \u001b[38;5;28;01melse\u001b[39;00m:\n\u001b[1;32m-> 1102\u001b[0m         \u001b[38;5;28;01mreturn\u001b[39;00m \u001b[38;5;28;43mself\u001b[39;49m\u001b[38;5;241;43m.\u001b[39;49m\u001b[43m_sslobj\u001b[49m\u001b[38;5;241;43m.\u001b[39;49m\u001b[43mread\u001b[49m\u001b[43m(\u001b[49m\u001b[38;5;28;43mlen\u001b[39;49m\u001b[43m)\u001b[49m\n\u001b[0;32m   1103\u001b[0m \u001b[38;5;28;01mexcept\u001b[39;00m SSLError \u001b[38;5;28;01mas\u001b[39;00m x:\n\u001b[0;32m   1104\u001b[0m     \u001b[38;5;28;01mif\u001b[39;00m x\u001b[38;5;241m.\u001b[39margs[\u001b[38;5;241m0\u001b[39m] \u001b[38;5;241m==\u001b[39m SSL_ERROR_EOF \u001b[38;5;129;01mand\u001b[39;00m \u001b[38;5;28mself\u001b[39m\u001b[38;5;241m.\u001b[39msuppress_ragged_eofs:\n",
      "\u001b[1;31mKeyboardInterrupt\u001b[0m: "
     ]
    }
   ],
   "source": [
    "storage_instance = StorageContext.from_defaults(docstore=vin_retriever.index.docstore)\n",
    "instance_vectorindex = VectorStoreIndex(final_list_nodes,storage_context=storage_instance)\n",
    "\n",
    "query_engine = RetrieverQueryEngine(\n",
    "    retriever=VectorIndexRetriever(instance_vectorindex,similarity_top_k=3),response_synthesizer=get_response_synthesizer(response_mode=\"tree_summarize\",streaming=True)\n",
    "    )\n",
    "\n",
    "query_engine = vin_retriever.prompt_format(query_engine)\n",
    "response = query_engine.query(question)\n",
    "for source in response.source_nodes:\n",
    "    print(source.metadata['url'])\n",
    "for text in response.response_gen:\n",
    "    print(text,end='')"
   ]
  },
  {
   "cell_type": "code",
   "execution_count": 27,
   "metadata": {},
   "outputs": [
    {
     "data": {
      "text/plain": [
       "[TextNode(id_='8bb3ec62-f886-49a5-ae3f-9c1a46d9ecad', embedding=None, metadata={'url': 'https://www.vinmec.com/tin-tuc/thong-tin-suc-khoe/suc-khoe-tong-quat/huong-dan-xu-tri-cap-cuu-hoc-nghen/'}, excluded_embed_metadata_keys=[], excluded_llm_metadata_keys=[], relationships={<NodeRelationship.SOURCE: '1'>: RelatedNodeInfo(node_id='5d1ab158-fc05-436a-82b1-bbc9bd0a3e86', node_type=<ObjectType.DOCUMENT: '4'>, metadata={'url': 'https://www.vinmec.com/tin-tuc/thong-tin-suc-khoe/suc-khoe-tong-quat/huong-dan-xu-tri-cap-cuu-hoc-nghen/'}, hash='cef7ac877debaa978ef7b44aa026694b69e2134b3d70c66593c1eac098238b6c'), <NodeRelationship.PREVIOUS: '2'>: RelatedNodeInfo(node_id='c0ca0dbc-2d84-45b8-83e1-581691a66efd', node_type=<ObjectType.TEXT: '1'>, metadata={'url': 'https://www.vinmec.com/tieu-hoa-gan-mat/thong-tin-suc-khoe/bi-gan-nhiem-mo-uong-gi-het/'}, hash='a4003e62884b12066fc5e60ea358266fe179c0ec5685ba0ace36cafee1c472e8'), <NodeRelationship.NEXT: '3'>: RelatedNodeInfo(node_id='2d6ae4f4-c6db-4253-b8c1-1fec407d85a4', node_type=<ObjectType.TEXT: '1'>, metadata={}, hash='05a9b7bebb2e6441a1dd43de3ea38a3de434b165b68eb8e008698f8842ba1bc9')}, hash='54a77e7abf0c83cbf25b90a025a34b330916e86b0d2343b1b02c0fe1cc8c7105', text='Bài viết được viết bởi ThS, BS. Lê Thị Thanh Hương, Khoa Hồi sức cấp cứu - Bệnh viện Đa khoa Quốc tế Vinmec Central ParkHóc nghẹn là tình trạng thức ăn hoặc vật lạ bị vướng ở vùng họng và gây tắc nghẽn đường hô hấp, cản trở không khí vào phổi. Đây là tình trạng cấp cứu rất thường gặp, đặc biệt ở trẻ em và trẻ nhũ nhi (Ví dụ: bị sặc sữa, bị đồ chơi hoặc thức ăn hóc ở họng hoặc rơi vào đường hô hấp). Nội dung bài giúp hướng dẫn các bước để một người bình thường có thể nhận biết và xử trí cấp cứu một nạn nhân đang bị hóc nghẹn.Hóc nghẹn có thể xảy ra ở mọi lứa tuổi, và có nhiều mức độ:1.1. Mức độ nhẹ1.1.1. Dấu hiệu nhận biếtNạn nhân bị hóc nghẹn nhưng vẫn có thể:Nói hoặc phát ra âm thanhHo lớn.1.2.2. Xử tríỞ lại bên cạnh người bị nghẹn và khuyến khích nạn nhân tiếp tục ho.Nếu thấy không yên tâm về vấn đề hô hấp của nạn nhân thì nên gọi cấp cứu. Tiếp tục ở lại với nạn nhân cho đến khi đội cấp cứu đến.1.2. Hóc nghẹn mức độ nặng1.2.1. Nhận biếtNạn nhân trong tình huống nghi ngờ hóc nghẹn, và:Không thở được, không thể nói hoặc không thể phát ra âm thanh;Ho nhưng không phát ra âm thanh;Biểu hiện dấu hóc nghẹn (Choking sign): nạn nhân dùng một hoặc hai tay ôm lấy cổ.Nạn nhân dùng một hoặc hai tay ôm lấy cổ1.2.2. Xử tríKhi nạn nhân có dấu hiệu hóc nghẹn nặng cần hành động can thiệp ngay:Nếu bạn nghĩ nạn nhân bị nghẹn, cần hỏi ngay “ Anh bị nghẹn phải không? Tôi có thể giúp anh được không”Nếu nạn nhân gật đầu đồng ý, bạn cần can thiệp giúp đỡ ngay.Đứng hoặc quỳ phía sau nạn nhân (tùy vào kích thước của nạn nhân), có thể bước một chân trụ tới trước để tư thế vững vàng hơn.', start_char_idx=None, end_char_idx=None, text_template='{metadata_str}\\n\\n{content}', metadata_template='{key}: {value}', metadata_seperator='\\n'),\n",
       " TextNode(id_='2d6ae4f4-c6db-4253-b8c1-1fec407d85a4', embedding=None, metadata={'url': 'https://www.vinmec.com/tin-tuc/thong-tin-suc-khoe/suc-khoe-tong-quat/huong-dan-xu-tri-cap-cuu-hoc-nghen/'}, excluded_embed_metadata_keys=[], excluded_llm_metadata_keys=[], relationships={<NodeRelationship.SOURCE: '1'>: RelatedNodeInfo(node_id='5d1ab158-fc05-436a-82b1-bbc9bd0a3e86', node_type=<ObjectType.DOCUMENT: '4'>, metadata={'url': 'https://www.vinmec.com/tin-tuc/thong-tin-suc-khoe/suc-khoe-tong-quat/huong-dan-xu-tri-cap-cuu-hoc-nghen/'}, hash='cef7ac877debaa978ef7b44aa026694b69e2134b3d70c66593c1eac098238b6c'), <NodeRelationship.PREVIOUS: '2'>: RelatedNodeInfo(node_id='8bb3ec62-f886-49a5-ae3f-9c1a46d9ecad', node_type=<ObjectType.TEXT: '1'>, metadata={'url': 'https://www.vinmec.com/tin-tuc/thong-tin-suc-khoe/suc-khoe-tong-quat/huong-dan-xu-tri-cap-cuu-hoc-nghen/'}, hash='2e0a2c0f1a6e384f6fd0a9198b6ef4b1e307ab710dd1b29ceff38adaa733cea3'), <NodeRelationship.NEXT: '3'>: RelatedNodeInfo(node_id='cd2d2d99-cec9-4d69-97f1-09a92131dda1', node_type=<ObjectType.TEXT: '1'>, metadata={}, hash='80dfbafe2e96109c72c7260bd2a3ddc849277b4229ca170848ae9a0f9db899b6')}, hash='b00265f7116436bf34555568c32f730eb7b550066aa4416527c2939d0ed6ff4f', text='Xử tríKhi nạn nhân có dấu hiệu hóc nghẹn nặng cần hành động can thiệp ngay:Nếu bạn nghĩ nạn nhân bị nghẹn, cần hỏi ngay “ Anh bị nghẹn phải không? Tôi có thể giúp anh được không”Nếu nạn nhân gật đầu đồng ý, bạn cần can thiệp giúp đỡ ngay.Đứng hoặc quỳ phía sau nạn nhân (tùy vào kích thước của nạn nhân), có thể bước một chân trụ tới trước để tư thế vững vàng hơn. Vòng hai tay qua, nắm hai bàn tay ở phía trước nạn nhân.Một bàn tay nắm lại tạo thành một nắm đấm.Đặt mặt có ngón cái của nắm đấm vào giữa vị trí trên rốn và dưới xương ức.Bàn tay kia nắm lấy nắm đấm, thúc nhanh và mạnh vào bụng nạn nhân về phía sau và lên trên.Tiếp tục thực hiện nhiều lần ép mạnh như vậy cho đến khi dị vật văng ra và nạn nhân có thể thở, ho hay nói chuyện, hoặc nạn nhân trở nên bất tỉnh không đáp ứng.Hình ảnh hướng dẫn chi tiết cách xử lý cấp cứu hóc nặngLưu ý: Nếu nạn nhân là phụ nữ có thai, hoặc người có vòng bụng quá lớn, bạn không thể ôm vòng qua eo, cần:Vòng hai tay qua nách nạn nhân, đặt nắm tay ở nửa dưới xương ức vùng ngực.Khi thúc thì ép nắm tay vào ngực hướng thẳng ra phía sau.Cách cấp cứu phụ nữ mang thai bị hóc nặngHóc nghẹn đặc biệt là sặc sữa là một trong những cấp cứu thường gặp ở trẻ nhũ nhi.Đối với trẻ nhũ nhi bị hóc nghẹn, việc ép vào bụng có thể làm tình trạng trẻ nặng nề hơn. Bạn chỉ tiến hành nghiệm pháp vỗ lưng và ấn ngực theo các bước như sau:Đặt bé nằm sấp trên cẳng tay, bàn tay đỡ đầu và hàm dưới.', start_char_idx=None, end_char_idx=None, text_template='{metadata_str}\\n\\n{content}', metadata_template='{key}: {value}', metadata_seperator='\\n'),\n",
       " TextNode(id_='ef9ee668-ef43-498e-9ae5-27d3e8c6f564', embedding=None, metadata={'url': 'https://www.vinmec.com/tin-tuc/thong-tin-suc-khoe/nhi/so-cuu-tre-bi-hoc-di-vat-gay-nghet-tho/'}, excluded_embed_metadata_keys=[], excluded_llm_metadata_keys=[], relationships={<NodeRelationship.SOURCE: '1'>: RelatedNodeInfo(node_id='aac436c1-17f2-43f3-aefc-2367fecd7a61', node_type=<ObjectType.DOCUMENT: '4'>, metadata={'url': 'https://www.vinmec.com/tin-tuc/thong-tin-suc-khoe/nhi/so-cuu-tre-bi-hoc-di-vat-gay-nghet-tho/'}, hash='110b07f51382fbfbe048e888f78c9d607a50b8796ca20eedc6c69d1d56119558'), <NodeRelationship.PREVIOUS: '2'>: RelatedNodeInfo(node_id='f451e174-eb9f-4758-a3ff-48ad31317f41', node_type=<ObjectType.TEXT: '1'>, metadata={'url': 'https://www.vinmec.com/tin-tuc/thong-tin-suc-khoe/nhi/so-cuu-tre-bi-hoc-di-vat-gay-nghet-tho/'}, hash='77d3fb0dfd6f4e0a3068d7d2811cab6e6261abda9c7c8eb8c6abc89dfedb6129'), <NodeRelationship.NEXT: '3'>: RelatedNodeInfo(node_id='0eb12505-9eb3-4453-9dfe-8f7bdf84ec21', node_type=<ObjectType.TEXT: '1'>, metadata={}, hash='24aa27298f01a9ff1134f58ea4dfe7af639c9e68d0ec1f6abfafea3025fee3c8')}, hash='2da9fc3da2748c400beaaaabf34ec240d9ff30e48f7de3d8241daeafc665cde2', text='Bởi chúng có thể làm thủng thực quản, dạ dày hoặc ruột của trẻ, hoặc tạo ra một dòng điện nhỏ trong cơ thể. Một cục nam châm nhỏ sẽ đi qua đường ống tiêu hóa, nhưng nếu có hai hoặc nhiều cục nam châm có thể khiến các phần khác nhau của ruột dính từ tính với nhau, dẫn đến xoắn, tắc nghẽn hoặc gây thủng ruột.Nếu con bạn nuốt phải thứ gì đó không sắc nhọn hoặc không có khả năng nguy hiểm, và dường như nó không bị mắc kẹt trong cổ họng của bé, rất có thể thứ đó đã đi xuống theo đường tiêu hóaNếu con bạn bị ngạt thở và bất tỉnh hoặc không thở được: Bạn cần bảo ai đó gọi điện cấp cứu và tiến hành hô hấp nhân tạo cho đến khi có sự trợ giúp. Nếu bạn ở một mình với bé, hãy thực hiện hô hấp nhân tạo trong vòng hai phút và sau đó gọi cấp cứu.Nếu trẻ bị hóc dị vật nhưng vẫn thở, bạn hãy để trẻ ho ra dị vật nếu có thể. Nếu trẻ không tự ho ra được, bạn hãy gọi điện thoại cấp cứu và cố gắng đánh bật dị vật ra ngoài bằng động tác vỗ lưng và ấn ngực.4.1 Vỗ lưngNếu trẻ còn tỉnh nhưng không thể ho, khóc hoặc thở và bạn tin rằng có vật gì đó bị mắc kẹt trong đường thở của trẻ, hãy cẩn thận đặt trẻ nằm ngửa trên một cảnh tay, dung tay đó ôm lấy gáy của bé. Sau đó đặt bàn tay còn lại và cẳng tay lên phía trước của bé.Tiếp theo dùng ngón cái và các ngón tay để giữ hàm của bé và lật bé nằm úp xuống dọc theo cẳng tay của bạn. Hạ cánh tay của bạn xuống đùi, để đầu của bé thấp hơn ngực của bé.Sử dụng bàn tay của bạn thực hiện năm cú vỗ lưng một cách dứt khoát vào giữa hai bả vai của bé để cố gắng đánh bật dị vật ra. Trong quá trình vỗ, cần giữ đầu và cổ của bé bằng cách giữ chắc hàm của bé nằm giữa ngón cái và ngón trỏ của bạn.Nếu dị vật vẫn chưa được tống ra ngoài, hãy đặt bàn tay còn lại của bạn lên phía sau đầu của trẻ với cánh tay của bạn đặt dọc theo cột sống của bé.', start_char_idx=None, end_char_idx=None, text_template='{metadata_str}\\n\\n{content}', metadata_template='{key}: {value}', metadata_seperator='\\n')]"
      ]
     },
     "execution_count": 27,
     "metadata": {},
     "output_type": "execute_result"
    }
   ],
   "source": [
    "\n",
    "storage_instance = StorageContext.from_defaults(docstore=vin_retriever.index.docstore)\n",
    "instance_vectorindex = VectorStoreIndex(final_list_nodes,storage_context=storage_instance)\n",
    "instance_search = VectorIndexRetriever(instance_vectorindex,similarity_top_k=3)\n",
    "instance_ans = instance_search.retrieve(question) #find node high score in excluse node\n",
    "selected_node_with_score = [node for node in vin_retriever.ans if node.node.node_id in [_[2] for _ in vin_retriever.selected_node]]\n",
    "combine_node = [node.node for node in selected_node_with_score + instance_ans]\n",
    "combine_node"
   ]
  },
  {
   "cell_type": "code",
   "execution_count": null,
   "metadata": {},
   "outputs": [],
   "source": []
  },
  {
   "cell_type": "code",
   "execution_count": 16,
   "metadata": {},
   "outputs": [
    {
     "name": "stdout",
     "output_type": "stream",
     "text": [
      "https://www.vinmec.com/tin-tuc/thong-tin-suc-khoe/suc-khoe-tong-quat/huong-dan-xu-tri-cap-cuu-hoc-nghen/\n",
      "https://www.vinmec.com/tin-tuc/thong-tin-suc-khoe/nhi/so-cuu-tre-bi-hoc-di-vat-gay-nghet-tho/\n",
      "https://www.vinmec.com/tin-tuc/thong-tin-suc-khoe/suc-khoe-tong-quat/huong-dan-xu-tri-cap-cuu-hoc-nghen/\n",
      "Khi bị hóc nghẹn ở cổ, bạn cần hành động ngay lập tức để giúp nạn nhân. Đầu tiên, hỏi ngay nạn nhân xem anh/chị có bị hóc không và có cần giúp đỡ không. Nếu nạn nhân gật đầu đồng ý, bạn cần can thiệp ngay.\n",
      "\n",
      "Đứng hoặc quỳ phía sau nạn nhân (tùy vào kích thước của nạn nhân), có thể bước một chân trụ tới trước để tư thế vững vàng hơn. Vòng hai tay qua, nắm hai bàn tay ở phía trước nạn nhân. Một bàn tay nắm lại tạo thành một nắm đấm. Đặt mặt có ngón cái của nắm đấm vào giữa vị trí trên rốn và dưới xương ức. Bàn tay kia nắm lấy nắm đấm, thúc nhanh và mạnh vào bụng nạn nhân về phía sau và lên trên. Tiếp tục thực hiện nhiều lần ép mạnh như vậy cho đến khi dị vật văng ra và nạn nhân có thể thở, hoặc nói chuyện, hoặc nạn nhân trở nên bất tỉnh không đáp ứng.\n",
      "\n",
      "Tuy nhiên, nếu nạn nhân là phụ nữ mang thai hoặc người có vòng bụng quá lớn, bạn không thể ôm vòng qua eo. Trong trường hợp này, bạn cần vòng hai tay qua nách nạn nhân, đặt nắm tay ở nửa dưới xương ức vùng ngực. Khi thúc thì ép nắm tay vào ngực hướng thẳng ra phía sau.\n",
      "\n",
      "Tôi khuyến nghị bạn nên đến Bệnh viện Đa khoa Quốc tế Vinmec gần nhất để được tư vấn và xử trí cấp cứu chính xác."
     ]
    }
   ],
   "source": [
    "instance_vectorindex = VectorStoreIndex(combine_node,storage_context=storage_instance)\n",
    "query_engine = RetrieverQueryEngine(\n",
    "    retriever=VectorIndexRetriever(instance_vectorindex,similarity_top_k=3),response_synthesizer=get_response_synthesizer(response_mode=\"tree_summarize\",streaming=True)\n",
    "    )\n",
    "\n",
    "query_engine = vin_retriever.prompt_format(query_engine)\n",
    "response = query_engine.query(question)\n",
    "for source in response.source_nodes:\n",
    "    print(source.metadata['url'])\n",
    "for text in response.response_gen:\n",
    "    print(text,end='')"
   ]
  },
  {
   "cell_type": "code",
   "execution_count": 63,
   "metadata": {},
   "outputs": [
    {
     "data": {
      "text/plain": [
       "[NodeWithScore(node=TextNode(id_='8bb3ec62-f886-49a5-ae3f-9c1a46d9ecad', embedding=None, metadata={'url': 'https://www.vinmec.com/tin-tuc/thong-tin-suc-khoe/suc-khoe-tong-quat/huong-dan-xu-tri-cap-cuu-hoc-nghen/'}, excluded_embed_metadata_keys=[], excluded_llm_metadata_keys=[], relationships={<NodeRelationship.SOURCE: '1'>: RelatedNodeInfo(node_id='5d1ab158-fc05-436a-82b1-bbc9bd0a3e86', node_type=<ObjectType.DOCUMENT: '4'>, metadata={'url': 'https://www.vinmec.com/tin-tuc/thong-tin-suc-khoe/suc-khoe-tong-quat/huong-dan-xu-tri-cap-cuu-hoc-nghen/'}, hash='cef7ac877debaa978ef7b44aa026694b69e2134b3d70c66593c1eac098238b6c'), <NodeRelationship.PREVIOUS: '2'>: RelatedNodeInfo(node_id='c0ca0dbc-2d84-45b8-83e1-581691a66efd', node_type=<ObjectType.TEXT: '1'>, metadata={'url': 'https://www.vinmec.com/tieu-hoa-gan-mat/thong-tin-suc-khoe/bi-gan-nhiem-mo-uong-gi-het/'}, hash='a4003e62884b12066fc5e60ea358266fe179c0ec5685ba0ace36cafee1c472e8'), <NodeRelationship.NEXT: '3'>: RelatedNodeInfo(node_id='2d6ae4f4-c6db-4253-b8c1-1fec407d85a4', node_type=<ObjectType.TEXT: '1'>, metadata={}, hash='05a9b7bebb2e6441a1dd43de3ea38a3de434b165b68eb8e008698f8842ba1bc9')}, hash='54a77e7abf0c83cbf25b90a025a34b330916e86b0d2343b1b02c0fe1cc8c7105', text='Bài viết được viết bởi ThS, BS. Lê Thị Thanh Hương, Khoa Hồi sức cấp cứu - Bệnh viện Đa khoa Quốc tế Vinmec Central ParkHóc nghẹn là tình trạng thức ăn hoặc vật lạ bị vướng ở vùng họng và gây tắc nghẽn đường hô hấp, cản trở không khí vào phổi. Đây là tình trạng cấp cứu rất thường gặp, đặc biệt ở trẻ em và trẻ nhũ nhi (Ví dụ: bị sặc sữa, bị đồ chơi hoặc thức ăn hóc ở họng hoặc rơi vào đường hô hấp). Nội dung bài giúp hướng dẫn các bước để một người bình thường có thể nhận biết và xử trí cấp cứu một nạn nhân đang bị hóc nghẹn.Hóc nghẹn có thể xảy ra ở mọi lứa tuổi, và có nhiều mức độ:1.1. Mức độ nhẹ1.1.1. Dấu hiệu nhận biếtNạn nhân bị hóc nghẹn nhưng vẫn có thể:Nói hoặc phát ra âm thanhHo lớn.1.2.2. Xử tríỞ lại bên cạnh người bị nghẹn và khuyến khích nạn nhân tiếp tục ho.Nếu thấy không yên tâm về vấn đề hô hấp của nạn nhân thì nên gọi cấp cứu. Tiếp tục ở lại với nạn nhân cho đến khi đội cấp cứu đến.1.2. Hóc nghẹn mức độ nặng1.2.1. Nhận biếtNạn nhân trong tình huống nghi ngờ hóc nghẹn, và:Không thở được, không thể nói hoặc không thể phát ra âm thanh;Ho nhưng không phát ra âm thanh;Biểu hiện dấu hóc nghẹn (Choking sign): nạn nhân dùng một hoặc hai tay ôm lấy cổ.Nạn nhân dùng một hoặc hai tay ôm lấy cổ1.2.2. Xử tríKhi nạn nhân có dấu hiệu hóc nghẹn nặng cần hành động can thiệp ngay:Nếu bạn nghĩ nạn nhân bị nghẹn, cần hỏi ngay “ Anh bị nghẹn phải không? Tôi có thể giúp anh được không”Nếu nạn nhân gật đầu đồng ý, bạn cần can thiệp giúp đỡ ngay.Đứng hoặc quỳ phía sau nạn nhân (tùy vào kích thước của nạn nhân), có thể bước một chân trụ tới trước để tư thế vững vàng hơn.', start_char_idx=None, end_char_idx=None, text_template='{metadata_str}\\n\\n{content}', metadata_template='{key}: {value}', metadata_seperator='\\n'), score=0.8779212907683829),\n",
       " NodeWithScore(node=TextNode(id_='b61a0379-8ca9-442d-bad9-f1caed0a1605', embedding=None, metadata={'url': 'https://www.vinmec.com/tin-tuc/thong-tin-suc-khoe/nhi/so-cuu-tre-bi-hoc-di-vat-gay-nghet-tho/'}, excluded_embed_metadata_keys=[], excluded_llm_metadata_keys=[], relationships={<NodeRelationship.SOURCE: '1'>: RelatedNodeInfo(node_id='aac436c1-17f2-43f3-aefc-2367fecd7a61', node_type=<ObjectType.DOCUMENT: '4'>, metadata={'url': 'https://www.vinmec.com/tin-tuc/thong-tin-suc-khoe/nhi/so-cuu-tre-bi-hoc-di-vat-gay-nghet-tho/'}, hash='110b07f51382fbfbe048e888f78c9d607a50b8796ca20eedc6c69d1d56119558'), <NodeRelationship.PREVIOUS: '2'>: RelatedNodeInfo(node_id='01436328-3842-43e6-9ce0-135f2fb78e52', node_type=<ObjectType.TEXT: '1'>, metadata={'url': 'https://www.vinmec.com/tin-tuc/thong-tin-suc-khoe/nhi/so-cuu-tre-bi-hoc-di-vat-gay-nghet-tho/'}, hash='a75869419f004222c3b9f4649b9cfa24739b31827a4adce23e10cd76c3f0ad37'), <NodeRelationship.NEXT: '3'>: RelatedNodeInfo(node_id='f451e174-eb9f-4758-a3ff-48ad31317f41', node_type=<ObjectType.TEXT: '1'>, metadata={}, hash='77d3fb0dfd6f4e0a3068d7d2811cab6e6261abda9c7c8eb8c6abc89dfedb6129')}, hash='76fedeeab216038ae6505e34a77b068dd087ae1ec349e36dc753215eaf4b1eac', text='Nguyên nhân là do các bé rất tò mò, trong khi khám phá thế giới xung quanh, trẻ thường bỏ tất cả mọi thứ trẻ cầm được vào trong miệng.Trẻ nhỏ chưa có răng hàm nên không thể nhai và nghiền nát hoàn toàn các loại thức ăn cứng như bánh quy, kẹo cứng,... Đồng thời, việc nhai và nuốt của trẻ cũng chưa thuần thục. Do đó trẻ có thể bị hóc gây ngạt thở. Trong khi đó các trẻ lớn hơn lại hay chạy nhảy, cười đùa khi đang ăn, nên vẫn có nguy cơ bị hóc do thức ăn.Ngoài thức ăn, còn có nhiều loại dị vật khác nhau có thể khiến trẻ bị hóc gây ngạt thở, bao gồm:Các loại hạtQuả, hạt quảMảnh xươngMóng tayĐồ chơi nhỏĐồng xuGhimCúc quần áoMảnh vỡ của dụng cụ y tế và thiết bị nha khoa....Ngạt thở do hóc dị vật có thể là một trường hợp khẩn cấp đi dọa tính mạng trẻ em cũng như người lớnTrong số các trường hợp trẻ bị hóc dị vật, thì có đến một phần ba các bậc phụ huynh không biết về tình trạng đó hoặc không nhớ đến sự việc xảy ra hơn một tuần trước khi phát hiện ra. Có tới 25% trường hợp, trẻ bị dị vật đường thở hơn một tháng mới phát hiện.Thông thường, khi bị hóc dị vật gây ngạt thở, trẻ sẽ xuất hiện một cơn ho đột ngột hoặc bị sặc trong khi ăn, kèm theo đó là thở khò khè, ho hoặc nói lắp. Những trường hợp dị vật gây tắc toàn bộ hoặc gần toàn bộ đường thở có thể dẫn đến tử vong hoặc tổn thương não do thiếu oxy.Có những trường hợp mà người lớn không chứng kiến hoặc không biết trẻ đã cho gì vào miệng, mũi do đó không nghĩ tới việc trẻ bị ngạt thở do hóc dị vật.Trong trường hợp này, trẻ có thể có biểu hiện ho dai dẳng hoặc mặt tái nhợt, thở khò khè.', start_char_idx=None, end_char_idx=None, text_template='{metadata_str}\\n\\n{content}', metadata_template='{key}: {value}', metadata_seperator='\\n'), score=0.8699364681041603),\n",
       " NodeWithScore(node=TextNode(id_='2d6ae4f4-c6db-4253-b8c1-1fec407d85a4', embedding=None, metadata={'url': 'https://www.vinmec.com/tin-tuc/thong-tin-suc-khoe/suc-khoe-tong-quat/huong-dan-xu-tri-cap-cuu-hoc-nghen/'}, excluded_embed_metadata_keys=[], excluded_llm_metadata_keys=[], relationships={<NodeRelationship.SOURCE: '1'>: RelatedNodeInfo(node_id='5d1ab158-fc05-436a-82b1-bbc9bd0a3e86', node_type=<ObjectType.DOCUMENT: '4'>, metadata={'url': 'https://www.vinmec.com/tin-tuc/thong-tin-suc-khoe/suc-khoe-tong-quat/huong-dan-xu-tri-cap-cuu-hoc-nghen/'}, hash='cef7ac877debaa978ef7b44aa026694b69e2134b3d70c66593c1eac098238b6c'), <NodeRelationship.PREVIOUS: '2'>: RelatedNodeInfo(node_id='8bb3ec62-f886-49a5-ae3f-9c1a46d9ecad', node_type=<ObjectType.TEXT: '1'>, metadata={'url': 'https://www.vinmec.com/tin-tuc/thong-tin-suc-khoe/suc-khoe-tong-quat/huong-dan-xu-tri-cap-cuu-hoc-nghen/'}, hash='2e0a2c0f1a6e384f6fd0a9198b6ef4b1e307ab710dd1b29ceff38adaa733cea3'), <NodeRelationship.NEXT: '3'>: RelatedNodeInfo(node_id='cd2d2d99-cec9-4d69-97f1-09a92131dda1', node_type=<ObjectType.TEXT: '1'>, metadata={}, hash='80dfbafe2e96109c72c7260bd2a3ddc849277b4229ca170848ae9a0f9db899b6')}, hash='b00265f7116436bf34555568c32f730eb7b550066aa4416527c2939d0ed6ff4f', text='Xử tríKhi nạn nhân có dấu hiệu hóc nghẹn nặng cần hành động can thiệp ngay:Nếu bạn nghĩ nạn nhân bị nghẹn, cần hỏi ngay “ Anh bị nghẹn phải không? Tôi có thể giúp anh được không”Nếu nạn nhân gật đầu đồng ý, bạn cần can thiệp giúp đỡ ngay.Đứng hoặc quỳ phía sau nạn nhân (tùy vào kích thước của nạn nhân), có thể bước một chân trụ tới trước để tư thế vững vàng hơn. Vòng hai tay qua, nắm hai bàn tay ở phía trước nạn nhân.Một bàn tay nắm lại tạo thành một nắm đấm.Đặt mặt có ngón cái của nắm đấm vào giữa vị trí trên rốn và dưới xương ức.Bàn tay kia nắm lấy nắm đấm, thúc nhanh và mạnh vào bụng nạn nhân về phía sau và lên trên.Tiếp tục thực hiện nhiều lần ép mạnh như vậy cho đến khi dị vật văng ra và nạn nhân có thể thở, ho hay nói chuyện, hoặc nạn nhân trở nên bất tỉnh không đáp ứng.Hình ảnh hướng dẫn chi tiết cách xử lý cấp cứu hóc nặngLưu ý: Nếu nạn nhân là phụ nữ có thai, hoặc người có vòng bụng quá lớn, bạn không thể ôm vòng qua eo, cần:Vòng hai tay qua nách nạn nhân, đặt nắm tay ở nửa dưới xương ức vùng ngực.Khi thúc thì ép nắm tay vào ngực hướng thẳng ra phía sau.Cách cấp cứu phụ nữ mang thai bị hóc nặngHóc nghẹn đặc biệt là sặc sữa là một trong những cấp cứu thường gặp ở trẻ nhũ nhi.Đối với trẻ nhũ nhi bị hóc nghẹn, việc ép vào bụng có thể làm tình trạng trẻ nặng nề hơn. Bạn chỉ tiến hành nghiệm pháp vỗ lưng và ấn ngực theo các bước như sau:Đặt bé nằm sấp trên cẳng tay, bàn tay đỡ đầu và hàm dưới.', start_char_idx=None, end_char_idx=None, text_template='{metadata_str}\\n\\n{content}', metadata_template='{key}: {value}', metadata_seperator='\\n'), score=0.8661795644779249)]"
      ]
     },
     "execution_count": 63,
     "metadata": {},
     "output_type": "execute_result"
    }
   ],
   "source": [
    "combine_node"
   ]
  },
  {
   "cell_type": "code",
   "execution_count": 6,
   "metadata": {},
   "outputs": [
    {
     "data": {
      "text/plain": [
       "([('https://www.vinmec.com/tim-mach/tu-van-bac-si/nhoi-nguc-khi-be-vat-nang-kem-kho-tho-la-bi-lam-sao/',\n",
       "   'Nhói ngực khi bê vật nặng kèm khó thở là bị làm sao?,'),\n",
       "  ('https://www.vinmec.com/tin-tuc/hoi-dap-bac-si/tre-so-sinh-bi-nghet-mui-phai-lam-sao/',\n",
       "   'Trẻ sơ sinh bị nghẹt mũi phải làm sao?,'),\n",
       "  ('https://www.vinmec.com/tin-tuc/hoi-dap-bac-si/nhiem-trung-vet-mo-phai-lam-sao/',\n",
       "   'Nhiễm trùng vết mổ phải làm sao?,'),\n",
       "  ('https://www.vinmec.com/tin-tuc/hoi-dap-bac-si/be-bi-ngheo-co-phai-dieu-tri-nhu-nao/',\n",
       "   'Bé bị nghẹo cổ phải điều trị như thế nào?,'),\n",
       "  ('https://www.vinmec.com/tin-tuc/thong-tin-suc-khoe/nhi/lam-gi-khi-tre-bi-dong-vat-can/',\n",
       "   'Làm gì khi trẻ bị động vật cắn?,  Xử lý khi trẻ bị động vật cắn,  Nguy cơ bệnh dại khi trẻ bị động vật cắn,  Các bệnh nhiễm trùng khác,  Phòng ngừa trẻ bị động vật cắn,'),\n",
       "  ('https://www.vinmec.com/tin-tuc/thong-tin-suc-khoe/nhi/so-cuu-vet-thuong-do-dong-vat-can/',\n",
       "   'Sơ cứu vết thương do động vật cắn,  Cách sơ cứu vết thương do động vật cắn nhẹ,  Khi bị động vật cắn cần phải đến bệnh viện,  Điều trị và theo dõi tiếp theo,')],\n",
       " '1. Nhói ngực khi bê vật nặng kèm khó thở là bị làm sao?,\\n2. Trẻ sơ sinh bị nghẹt mũi phải làm sao?,\\n3. Nhiễm trùng vết mổ phải làm sao?,\\n4. Bé bị nghẹo cổ phải điều trị như thế nào?,\\n5. Làm gì khi trẻ bị động vật cắn?,  Xử lý khi trẻ bị động vật cắn,  Nguy cơ bệnh dại khi trẻ bị động vật cắn,  Các bệnh nhiễm trùng khác,  Phòng ngừa trẻ bị động vật cắn,\\n6. Sơ cứu vết thương do động vật cắn,  Cách sơ cứu vết thương do động vật cắn nhẹ,  Khi bị động vật cắn cần phải đến bệnh viện,  Điều trị và theo dõi tiếp theo,\\n')"
      ]
     },
     "execution_count": 6,
     "metadata": {},
     "output_type": "execute_result"
    }
   ],
   "source": [
    "question = \"Bị nghẹn vật to ở cổ thì phải làm sao?\"\n",
    "link_selected = vin_retriever.get_customRV(question)\n",
    "link_selected"
   ]
  },
  {
   "cell_type": "code",
   "execution_count": null,
   "metadata": {},
   "outputs": [],
   "source": []
  }
 ],
 "metadata": {
  "kernelspec": {
   "display_name": "venv",
   "language": "python",
   "name": "python3"
  },
  "language_info": {
   "codemirror_mode": {
    "name": "ipython",
    "version": 3
   },
   "file_extension": ".py",
   "mimetype": "text/x-python",
   "name": "python",
   "nbconvert_exporter": "python",
   "pygments_lexer": "ipython3",
   "version": "3.9.13"
  }
 },
 "nbformat": 4,
 "nbformat_minor": 2
}
