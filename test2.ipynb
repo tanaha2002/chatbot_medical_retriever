{
 "cells": [
  {
   "cell_type": "code",
   "execution_count": 1,
   "metadata": {},
   "outputs": [],
   "source": [
    "import os\n",
    "\n",
    "os.chdir(\"..\")\n",
    "os.chdir(\"D:\\du-ws\\\\text2SQL\\chatbot_medical_retriever\")\n"
   ]
  },
  {
   "cell_type": "code",
   "execution_count": 5,
   "metadata": {},
   "outputs": [
    {
     "name": "stdout",
     "output_type": "stream",
     "text": [
      "connect successfully\n"
     ]
    }
   ],
   "source": [
    "import nest_asyncio\n",
    "nest_asyncio.apply()\n",
    "import VinRAG\n",
    "import importlib\n",
    "#using importlib to reload module\n",
    "importlib.reload(VinRAG)\n",
    "from VinRAG import VinmecRetriever\n",
    "import streamlit as st\n",
    "\n",
    "DB_VECTOR = \"storage_index\"\n",
    "DB_ROOT = \"api\"\n",
    "url_pg_vector = st.secrets['url_pg_vector'] +\"/{db}\" #store information embedding\n",
    "\n",
    "model = \"gpt-3.5-turbo-1106\"\n",
    "api_key = st.secrets['api_key']\n",
    "vin_retriever = VinmecRetriever(DB_VECTOR, DB_ROOT, url_pg_vector,model,api_key)"
   ]
  },
  {
   "cell_type": "code",
   "execution_count": 6,
   "metadata": {},
   "outputs": [],
   "source": [
    "question = \"Triệu chứng kiệt sức\"\n",
    "title,title_str,list_link = vin_retriever.get_customRV(question)\n",
    "# title\n",
    "# ans = vin_retriever.get_customRV(question)"
   ]
  },
  {
   "cell_type": "code",
   "execution_count": 26,
   "metadata": {},
   "outputs": [
    {
     "data": {
      "text/plain": [
       "[('https://www.vinmec.com/tin-tuc/thong-tin-suc-khoe/suc-khoe-tong-quat/cac-hoi-chung-benh-ly-ho-hap-thuong-gap/',\n",
       "  'Các hội chứng, bệnh lý hô hấp thường gặp,  Tràn dịch màng phổi,  Tràn khí màng phổi,  Hội chứng đông đặc phổi,  Hội chứng hạn chế và hội chứng tắc nghẽn,'),\n",
       " ('https://www.vinmec.com/tin-tuc/thong-tin-suc-khoe/suc-khoe-tong-quat/trieu-chung-lam-sang-va-hinh-anh-hep-ong-song-do-truot-dot-song-lung/',\n",
       "  'Triệu chứng lâm sàng và hình ảnh hẹp ống sống do trượt đốt sống thắt lưng,  Hẹp ống sống do trượt đốt sống thắt lưng là gì?,  Triệu chứng lâm sàng của hẹp ống sống do trượt đốt sống thắt lưng,  Hình ảnh hẹp ống sống do trượt đốt sống thắt lưng,'),\n",
       " ('https://www.vinmec.com/tin-tuc/thong-tin-suc-khoe/dinh-duong/trieu-chung-say-san-ngo-doc-san/',\n",
       "  'Triệu chứng say sắn, ngộ độc sắn,  Biểu hiện ngộ độc sắn,  Vì sao ăn sắn có thể bị ngộ độc,'),\n",
       " ('https://www.vinmec.com/tin-tuc/thong-tin-suc-khoe/suc-khoe-tong-quat/hoi-chung-met-moi-ke-gay-hau-qua-tham-lang/',\n",
       "  'Hội chứng mệt mỏi: Kẻ gây hậu quả thầm lặng,  Hiểu rõ về hội chứng mệt mỏi,  Khó khăn trong việc điều trị hội chứng mệt mỏi,'),\n",
       " ('https://www.vinmec.com/tin-tuc/thong-tin-suc-khoe/suc-khoe-tong-quat/met-moi-co-phai-la-benh/',\n",
       "  'Mệt mỏi có phải là bệnh?,  Hội chứng mệt mỏi một bệnh lý phức tạp,  Cần phân biệt hội chứng mệt mỏi với các bệnh lý khác,')]"
      ]
     },
     "execution_count": 26,
     "metadata": {},
     "output_type": "execute_result"
    }
   ],
   "source": [
    "title"
   ]
  },
  {
   "cell_type": "code",
   "execution_count": 15,
   "metadata": {},
   "outputs": [
    {
     "name": "stdout",
     "output_type": "stream",
     "text": [
      "\n",
      "        Bạn là người trợ giúp hữu ích trong việc giúp xác định các mục trong danh sách dưới đây tương ứng với cùng loại bệnh như trong truy vấn của tôi.\n",
      "        Hãy chắc chắn rằng bạn đọc tất cả chúng một cách cẩn thận.\n",
      "        Vui lòng xem xét danh sách các mô tả bệnh tật và chỉ ra các mục mô tả cùng loại bệnh như trong câu hỏi của tôi.\n",
      "        Chỉ mục được chọn bao gồm các mục mô tả các triệu chứng hoặc vấn đề liên quan đến cùng loại bệnh như được đề cập trong truy vấn. Xác định tất cả các chỉ số có liên quan.\n",
      "        Không cần phải giải thích.\n",
      "        Luôn trả lời số chỉ mục.\n",
      "        Ví dụ:\n",
      "        Hỏi: Chăm sóc và điều trị bong gân cổ?\n",
      "        Thông tin:\n",
      "        1. Bị bong gân cổ phải làm sao?\n",
      "        2. Trẻ mới biết đi từ 2-4 tuổi có bị trầm cảm không?\n",
      "        3. Hướng dẫn chăm sóc trẻ bị ho\n",
      "        4. Trẻ rất nhạy cảm\n",
      "        5. Làm thế nào để giảm căng cơ cổ khi ngủ?\n",
      "        6. Điều trị và chăm sóc trẻ nhỏ bị viêm phổi\n",
      "        Chỉ số đã chọn: 1, 5\n",
      "        Nếu không có chỉ mục tương đối thì trả về `None`.\n",
      "        Truy vấn: Triệu chứng kiệt sức\n",
      "\n",
      "        Thông tin: \n",
      "1. Các hội chứng, bệnh lý hô hấp thường gặp,  Tràn dịch màng phổi,  Tràn khí màng phổi,  Hội chứng đông đặc phổi,  Hội chứng hạn chế và hội chứng tắc nghẽn,\n",
      "2. Triệu chứng lâm sàng và hình ảnh hẹp ống sống do trượt đốt sống thắt lưng,  Hẹp ống sống do trượt đốt sống thắt lưng là gì?,  Triệu chứng lâm sàng của hẹp ống sống do trượt đốt sống thắt lưng,  Hình ảnh hẹp ống sống do trượt đốt sống thắt lưng,\n",
      "3. Triệu chứng say sắn, ngộ độc sắn,  Biểu hiện ngộ độc sắn,  Vì sao ăn sắn có thể bị ngộ độc,\n",
      "4. Hội chứng mệt mỏi: Kẻ gây hậu quả thầm lặng,  Hiểu rõ về hội chứng mệt mỏi,  Khó khăn trong việc điều trị hội chứng mệt mỏi,\n",
      "5. Mệt mỏi có phải là bệnh?,  Hội chứng mệt mỏi một bệnh lý phức tạp,  Cần phân biệt hội chứng mệt mỏi với các bệnh lý khác,\n",
      "\n",
      "\n",
      "        Chỉ số đã chọn:\n",
      "        \n"
     ]
    },
    {
     "data": {
      "text/plain": [
       "'4, 5'"
      ]
     },
     "execution_count": 15,
     "metadata": {},
     "output_type": "execute_result"
    }
   ],
   "source": [
    "ans = vin_retriever.decide_index_retriever(question,title_str)\n",
    "ans"
   ]
  },
  {
   "cell_type": "code",
   "execution_count": 16,
   "metadata": {},
   "outputs": [
    {
     "data": {
      "text/plain": [
       "['https://www.vinmec.com/tin-tuc/thong-tin-suc-khoe/suc-khoe-tong-quat/hoi-chung-met-moi-ke-gay-hau-qua-tham-lang/',\n",
       " 'https://www.vinmec.com/tin-tuc/thong-tin-suc-khoe/suc-khoe-tong-quat/met-moi-co-phai-la-benh/']"
      ]
     },
     "execution_count": 16,
     "metadata": {},
     "output_type": "execute_result"
    }
   ],
   "source": [
    "link_selected = vin_retriever.get_index(ans,title)\n",
    "link_selected"
   ]
  },
  {
   "cell_type": "code",
   "execution_count": 17,
   "metadata": {},
   "outputs": [
    {
     "data": {
      "text/plain": [
       "2"
      ]
     },
     "execution_count": 17,
     "metadata": {},
     "output_type": "execute_result"
    }
   ],
   "source": [
    "excluse_node = vin_retriever.get_excluse_node(link_selected)\n",
    "len(excluse_node)"
   ]
  },
  {
   "cell_type": "code",
   "execution_count": 43,
   "metadata": {},
   "outputs": [],
   "source": [
    "vin_retriever.conn.rollback()"
   ]
  },
  {
   "cell_type": "code",
   "execution_count": 22,
   "metadata": {},
   "outputs": [
    {
     "data": {
      "text/plain": [
       "1"
      ]
     },
     "execution_count": 22,
     "metadata": {},
     "output_type": "execute_result"
    }
   ],
   "source": [
    "selected_node = []\n",
    "with vin_retriever.conn.cursor() as cur:\n",
    "    for node in excluse_node:\n",
    "        query = \"SELECT text,metadata_,node_id FROM data_vinmec_storage_index  WHERE node_id   = '{}'\".format(node['id_'])\n",
    "        cur.execute(query)\n",
    "        dat = cur.fetchone()\n",
    "        if dat:\n",
    "            selected_node.append(dat)\n",
    "len(selected_node)"
   ]
  },
  {
   "cell_type": "code",
   "execution_count": 23,
   "metadata": {},
   "outputs": [
    {
     "data": {
      "text/plain": [
       "[('Cho đến hiện nay, không có bộ xét nghiệm tiêu chuẩn nào giúp bác sĩ chẩn đoán bệnh. Khi không có xét nghiệm hoặc dấu hiệu sinh học cụ thể về bệnh, các bác sĩ sẽ không có lựa chọn nào khác ngoài việc chẩn đoán dựa trên các triệu chứng mà bệnh nhân khai báo. Một số triệu chứng được coi là bắt buộc để chẩn đoán, trong khi những triệu chứng khác được coi là hỗ trợ. Việc chẩn đoán ở người lớn còn khá miễn cưỡng cho đến khi họ bị bệnh ít nhất 6 tháng và các bệnh đồng mắc của họ đã được giải quyết. Đối với trẻ em và thanh thiếu niên, thời gian mắc bệnh đã được rút ngắn xuống còn 3 tháng, nhưng bác sĩ điều trị tùy theo tình trạng cụ thể mà quyết định.Từ những mô tả trên, chúng ta dễ dàng nhận ra rằng việc điều trị bệnh cũng gặp nhiều khó khăn. Công tác điều trị sẽ liên quan đến nhiều chuyên khoa và cần có sự phối hợp đồng bộ. Cho đến nay chưa có một phác đồ điều trị nhất quán. Bất kỳ phương pháp điều trị nào được sử dụng để giảm bớt các triệu chứng đều được coi là \"giảm nhẹ\".Hội chứng mệt mỏi mạn tính là bệnh lý phức tạp khó điều trịHội chứng mệt mỏi có biểu hiện nhiều triệu chứng ở nhiều hệ cơ quan. Vì vậy, cần có cái nhìn tổng thể về người bệnh hơn là chỉ chú ý từng hệ cơ quan riêng lẻ.Trước hết, cần phân biệt hội chứng mệt mỏi với chứng suy nhược cơ thể. Suy nhược được định nghĩa là tình trạng thiếu sức lực hoặc cảm giác không có khả năng thực hiện các công việc hàng ngày, cơn đau dữ dội hơn vào cuối ngày, và thường cải thiện sau một thời gian ngủ. Mặt khác, suy nhược cơ thể làm giảm hoặc mất sức mạnh cơ bắp, và là triệu chứng quan trọng trong các bệnh về cơ bắp.Ngoài mệt mỏi, hội chứng mệt mỏi còn có liên quan đến một loạt các triệu chứng, bao gồm đau khớp, đau cơ, đau đầu, lo lắng, các triệu chứng trầm cảm, rối loạn nhận thức, rối loạn giấc ngủ hoặc không chịu được gắng sức.',\n",
       "  {'url': 'https://www.vinmec.com/tin-tuc/thong-tin-suc-khoe/suc-khoe-tong-quat/met-moi-co-phai-la-benh/',\n",
       "   '_node_content': '{\"id_\": \"8fe881cc-be61-4b8b-a4d9-f6b85d4247a0\", \"embedding\": null, \"metadata\": {\"url\": \"https://www.vinmec.com/tin-tuc/thong-tin-suc-khoe/suc-khoe-tong-quat/met-moi-co-phai-la-benh/\"}, \"excluded_embed_metadata_keys\": [], \"excluded_llm_metadata_keys\": [], \"relationships\": {\"1\": {\"node_id\": \"ec39eab3-d416-4b08-ab82-2d7e1c7d85f8\", \"node_type\": \"4\", \"metadata\": {\"url\": \"https://www.vinmec.com/tin-tuc/thong-tin-suc-khoe/suc-khoe-tong-quat/met-moi-co-phai-la-benh/\"}, \"hash\": \"661b6aab07755742ae194439c52e8e6ad0da9472eefd4da9da615eba68207c00\", \"class_name\": \"RelatedNodeInfo\"}, \"2\": {\"node_id\": \"d77e4b7c-3a85-4321-8c81-b1aa926d598d\", \"node_type\": \"1\", \"metadata\": {\"url\": \"https://www.vinmec.com/tin-tuc/thong-tin-suc-khoe/suc-khoe-tong-quat/met-moi-co-phai-la-benh/\"}, \"hash\": \"eaa6111c710fb62b75d198739173c1e28387a4182a04b12d5016ef1ba7e78edd\", \"class_name\": \"RelatedNodeInfo\"}, \"3\": {\"node_id\": \"1f9a05f4-0207-4f5d-927a-b5badbfa3019\", \"node_type\": \"1\", \"metadata\": {}, \"hash\": \"e0b9572068cf97fc66309e6a89ebd705255c54f3aba0833e206b29091eeec500\", \"class_name\": \"RelatedNodeInfo\"}}, \"hash\": \"3892af2cb7099a8d7d3b6fbaa398a232fdf60b460604a2dc6f863287fb32072d\", \"text\": \"\", \"start_char_idx\": 3290, \"end_char_idx\": 5092, \"text_template\": \"{metadata_str}\\\\n\\\\n{content}\", \"metadata_template\": \"{key}: {value}\", \"metadata_seperator\": \"\\\\n\", \"class_name\": \"TextNode\"}',\n",
       "   '_node_type': 'TextNode',\n",
       "   'document_id': 'ec39eab3-d416-4b08-ab82-2d7e1c7d85f8',\n",
       "   'doc_id': 'ec39eab3-d416-4b08-ab82-2d7e1c7d85f8',\n",
       "   'ref_doc_id': 'ec39eab3-d416-4b08-ab82-2d7e1c7d85f8'},\n",
       "  '8fe881cc-be61-4b8b-a4d9-f6b85d4247a0')]"
      ]
     },
     "execution_count": 23,
     "metadata": {},
     "output_type": "execute_result"
    }
   ],
   "source": [
    "selected_node"
   ]
  },
  {
   "cell_type": "code",
   "execution_count": 25,
   "metadata": {},
   "outputs": [
    {
     "name": "stdout",
     "output_type": "stream",
     "text": [
      "1\n"
     ]
    },
    {
     "data": {
      "text/plain": [
       "[{'id_': 'ca296b7a-0546-4bb2-9b63-d701cbb6fa24',\n",
       "  'embedding': None,\n",
       "  'metadata': {'url': 'https://www.vinmec.com/tin-tuc/thong-tin-suc-khoe/suc-khoe-tong-quat/hoi-chung-met-moi-ke-gay-hau-qua-tham-lang/'},\n",
       "  'excluded_embed_metadata_keys': [],\n",
       "  'excluded_llm_metadata_keys': [],\n",
       "  'relationships': {<NodeRelationship.SOURCE: '1'>: {'node_id': '69a6e8ab-054f-4251-9d5e-b340d2fd584c',\n",
       "    'node_type': <ObjectType.DOCUMENT: '4'>,\n",
       "    'metadata': {'url': 'https://www.vinmec.com/tin-tuc/thong-tin-suc-khoe/suc-khoe-tong-quat/hoi-chung-met-moi-ke-gay-hau-qua-tham-lang/'},\n",
       "    'hash': 'c4fdfdd32690abc82e764fc3f1c7abc822c29e4b05ee5fb9ba36ec8435065749',\n",
       "    'class_name': 'RelatedNodeInfo'},\n",
       "   <NodeRelationship.PREVIOUS: '2'>: {'node_id': 'b1d44e2c-ef4f-4351-bcee-eaa12e1db222',\n",
       "    'node_type': <ObjectType.TEXT: '1'>,\n",
       "    'metadata': {'url': 'https://www.vinmec.com/tin-tuc/thong-tin-suc-khoe/lam-dep/tai-sao-moi-ban-bi-sung-khi-vua-thuc-day/'},\n",
       "    'hash': '51aca7f7bca1b3682d4c0bb04170a7a0eff9540254108ac97df505d6be28e39b',\n",
       "    'class_name': 'RelatedNodeInfo'},\n",
       "   <NodeRelationship.NEXT: '3'>: {'node_id': '6611edc6-273e-49a3-910c-d67e21ea8cbe',\n",
       "    'node_type': <ObjectType.TEXT: '1'>,\n",
       "    'metadata': {},\n",
       "    'hash': '11ca35685f27ca0ea436cc3ed4b58e5c5555dbcac44a89046df533414f35f8c9',\n",
       "    'class_name': 'RelatedNodeInfo'}},\n",
       "  'hash': 'd21f21e62eea07e062e030d425f4b492bbd003346797341440bbfd9766ac6cd2',\n",
       "  'text': 'Hội chứng mệt mỏi: Kẻ gây hậu quả thầm lặng,  Hiểu rõ về hội chứng mệt mỏi,  Khó khăn trong việc điều trị hội chứng mệt mỏi,',\n",
       "  'start_char_idx': 0,\n",
       "  'end_char_idx': 124,\n",
       "  'text_template': '{metadata_str}\\n\\n{content}',\n",
       "  'metadata_template': '{key}: {value}',\n",
       "  'metadata_seperator': '\\n',\n",
       "  'class_name': 'TextNode'}]"
      ]
     },
     "execution_count": 25,
     "metadata": {},
     "output_type": "execute_result"
    }
   ],
   "source": [
    "excluse_node_ = [node for node in excluse_node if node['id_'] not in [node[2] for node in selected_node if node is not None]]\n",
    "print(len(excluse_node_))\n",
    "excluse_node_"
   ]
  },
  {
   "cell_type": "code",
   "execution_count": 103,
   "metadata": {},
   "outputs": [
    {
     "ename": "IndexError",
     "evalue": "list index out of range",
     "output_type": "error",
     "traceback": [
      "\u001b[1;31m---------------------------------------------------------------------------\u001b[0m",
      "\u001b[1;31mIndexError\u001b[0m                                Traceback (most recent call last)",
      "Cell \u001b[1;32mIn[103], line 1\u001b[0m\n\u001b[1;32m----> 1\u001b[0m \u001b[43mselected_node\u001b[49m\u001b[43m[\u001b[49m\u001b[38;5;241;43m4\u001b[39;49m\u001b[43m]\u001b[49m\n",
      "\u001b[1;31mIndexError\u001b[0m: list index out of range"
     ]
    }
   ],
   "source": [
    "selected_node[4]"
   ]
  },
  {
   "cell_type": "code",
   "execution_count": 88,
   "metadata": {},
   "outputs": [
    {
     "ename": "TypeError",
     "evalue": "'NoneType' object is not subscriptable",
     "output_type": "error",
     "traceback": [
      "\u001b[1;31m---------------------------------------------------------------------------\u001b[0m",
      "\u001b[1;31mTypeError\u001b[0m                                 Traceback (most recent call last)",
      "Cell \u001b[1;32mIn[88], line 6\u001b[0m\n\u001b[0;32m      4\u001b[0m \u001b[38;5;28;01mfor\u001b[39;00m node \u001b[38;5;129;01min\u001b[39;00m excluse_node:\n\u001b[0;32m      5\u001b[0m     \u001b[38;5;28;01mfor\u001b[39;00m node_ \u001b[38;5;129;01min\u001b[39;00m selected_node:\n\u001b[1;32m----> 6\u001b[0m         \u001b[38;5;28;01mif\u001b[39;00m node[\u001b[38;5;124m'\u001b[39m\u001b[38;5;124mid_\u001b[39m\u001b[38;5;124m'\u001b[39m] \u001b[38;5;241m==\u001b[39m \u001b[43mnode_\u001b[49m\u001b[43m[\u001b[49m\u001b[38;5;241;43m2\u001b[39;49m\u001b[43m]\u001b[49m:\n\u001b[0;32m      7\u001b[0m             excluse_node_\u001b[38;5;241m.\u001b[39mappend(node)\n\u001b[0;32m      8\u001b[0m             \u001b[38;5;28;01mbreak\u001b[39;00m\n",
      "\u001b[1;31mTypeError\u001b[0m: 'NoneType' object is not subscriptable"
     ]
    }
   ],
   "source": [
    "# excluse_node = [node for node in excluse_node if node['id_'] not in [node[2] for node in selected_node]]\n",
    "# excluse_node\n",
    "excluse_node_ = []\n",
    "for node in excluse_node:\n",
    "    for node_ in selected_node:\n",
    "        if node['id_'] == node_[2]:\n",
    "            excluse_node_.append(node)\n",
    "            break\n",
    "\n",
    "excluse_node_\n",
    "            \n",
    "            "
   ]
  },
  {
   "cell_type": "code",
   "execution_count": 10,
   "metadata": {},
   "outputs": [],
   "source": [
    "import psycopg2\n",
    "from llama_index import VectorStoreIndex, Document\n",
    "import requests\n",
    "from bs4 import BeautifulSoup\n",
    "from llama_index import VectorStoreIndex, ServiceContext, Document,StorageContext\n",
    "from llama_index.retrievers import VectorIndexRetriever\n",
    "from llama_index.query_engine import RetrieverQueryEngine\n",
    "from llama_index.postprocessor import SimilarityPostprocessor\n",
    "from llama_index.memory import ChatMemoryBuffer\n",
    "from llama_index.llms import OpenAI\n",
    "import asyncio\n",
    "import streamlit as st\n",
    "from sqlalchemy import make_url\n",
    "from llama_index.vector_stores import PGVectorStore\n",
    "from llama_index import load_index_from_storage\n",
    "from llama_index.indices.vector_store.retrievers import VectorIndexRetriever\n",
    "from llama_index.query_engine.retriever_query_engine import (\n",
    "    RetrieverQueryEngine,\n",
    ")\n",
    "from llama_index import get_response_synthesizer\n",
    "from llama_index.prompts import PromptTemplate\n",
    "\n",
    "from llama_index.indices.postprocessor import SimilarityPostprocessor\n",
    "from llama_index.indices.postprocessor import LLMRerank\n",
    "from llama_index.indices.postprocessor import SentenceEmbeddingOptimizer\n",
    "import json\n",
    "from CustomRV import CustomRetriever\n",
    "from llama_index.schema import NodeWithScore,TextNode,NodeRelationship,ObjectType,RelatedNodeInfo"
   ]
  },
  {
   "cell_type": "code",
   "execution_count": 27,
   "metadata": {},
   "outputs": [
    {
     "data": {
      "text/plain": [
       "[TextNode(id_='8bb3ec62-f886-49a5-ae3f-9c1a46d9ecad', embedding=None, metadata={'url': 'https://www.vinmec.com/tin-tuc/thong-tin-suc-khoe/suc-khoe-tong-quat/huong-dan-xu-tri-cap-cuu-hoc-nghen/'}, excluded_embed_metadata_keys=[], excluded_llm_metadata_keys=[], relationships={<NodeRelationship.SOURCE: '1'>: RelatedNodeInfo(node_id='5d1ab158-fc05-436a-82b1-bbc9bd0a3e86', node_type=<ObjectType.DOCUMENT: '4'>, metadata={'url': 'https://www.vinmec.com/tin-tuc/thong-tin-suc-khoe/suc-khoe-tong-quat/huong-dan-xu-tri-cap-cuu-hoc-nghen/'}, hash='cef7ac877debaa978ef7b44aa026694b69e2134b3d70c66593c1eac098238b6c'), <NodeRelationship.PREVIOUS: '2'>: RelatedNodeInfo(node_id='c0ca0dbc-2d84-45b8-83e1-581691a66efd', node_type=<ObjectType.TEXT: '1'>, metadata={'url': 'https://www.vinmec.com/tieu-hoa-gan-mat/thong-tin-suc-khoe/bi-gan-nhiem-mo-uong-gi-het/'}, hash='a4003e62884b12066fc5e60ea358266fe179c0ec5685ba0ace36cafee1c472e8'), <NodeRelationship.NEXT: '3'>: RelatedNodeInfo(node_id='2d6ae4f4-c6db-4253-b8c1-1fec407d85a4', node_type=<ObjectType.TEXT: '1'>, metadata={}, hash='05a9b7bebb2e6441a1dd43de3ea38a3de434b165b68eb8e008698f8842ba1bc9')}, hash='54a77e7abf0c83cbf25b90a025a34b330916e86b0d2343b1b02c0fe1cc8c7105', text='Bài viết được viết bởi ThS, BS. Lê Thị Thanh Hương, Khoa Hồi sức cấp cứu - Bệnh viện Đa khoa Quốc tế Vinmec Central ParkHóc nghẹn là tình trạng thức ăn hoặc vật lạ bị vướng ở vùng họng và gây tắc nghẽn đường hô hấp, cản trở không khí vào phổi. Đây là tình trạng cấp cứu rất thường gặp, đặc biệt ở trẻ em và trẻ nhũ nhi (Ví dụ: bị sặc sữa, bị đồ chơi hoặc thức ăn hóc ở họng hoặc rơi vào đường hô hấp). Nội dung bài giúp hướng dẫn các bước để một người bình thường có thể nhận biết và xử trí cấp cứu một nạn nhân đang bị hóc nghẹn.Hóc nghẹn có thể xảy ra ở mọi lứa tuổi, và có nhiều mức độ:1.1. Mức độ nhẹ1.1.1. Dấu hiệu nhận biếtNạn nhân bị hóc nghẹn nhưng vẫn có thể:Nói hoặc phát ra âm thanhHo lớn.1.2.2. Xử tríỞ lại bên cạnh người bị nghẹn và khuyến khích nạn nhân tiếp tục ho.Nếu thấy không yên tâm về vấn đề hô hấp của nạn nhân thì nên gọi cấp cứu. Tiếp tục ở lại với nạn nhân cho đến khi đội cấp cứu đến.1.2. Hóc nghẹn mức độ nặng1.2.1. Nhận biếtNạn nhân trong tình huống nghi ngờ hóc nghẹn, và:Không thở được, không thể nói hoặc không thể phát ra âm thanh;Ho nhưng không phát ra âm thanh;Biểu hiện dấu hóc nghẹn (Choking sign): nạn nhân dùng một hoặc hai tay ôm lấy cổ.Nạn nhân dùng một hoặc hai tay ôm lấy cổ1.2.2. Xử tríKhi nạn nhân có dấu hiệu hóc nghẹn nặng cần hành động can thiệp ngay:Nếu bạn nghĩ nạn nhân bị nghẹn, cần hỏi ngay “ Anh bị nghẹn phải không? Tôi có thể giúp anh được không”Nếu nạn nhân gật đầu đồng ý, bạn cần can thiệp giúp đỡ ngay.Đứng hoặc quỳ phía sau nạn nhân (tùy vào kích thước của nạn nhân), có thể bước một chân trụ tới trước để tư thế vững vàng hơn.', start_char_idx=None, end_char_idx=None, text_template='{metadata_str}\\n\\n{content}', metadata_template='{key}: {value}', metadata_seperator='\\n'),\n",
       " TextNode(id_='2d6ae4f4-c6db-4253-b8c1-1fec407d85a4', embedding=None, metadata={'url': 'https://www.vinmec.com/tin-tuc/thong-tin-suc-khoe/suc-khoe-tong-quat/huong-dan-xu-tri-cap-cuu-hoc-nghen/'}, excluded_embed_metadata_keys=[], excluded_llm_metadata_keys=[], relationships={<NodeRelationship.SOURCE: '1'>: RelatedNodeInfo(node_id='5d1ab158-fc05-436a-82b1-bbc9bd0a3e86', node_type=<ObjectType.DOCUMENT: '4'>, metadata={'url': 'https://www.vinmec.com/tin-tuc/thong-tin-suc-khoe/suc-khoe-tong-quat/huong-dan-xu-tri-cap-cuu-hoc-nghen/'}, hash='cef7ac877debaa978ef7b44aa026694b69e2134b3d70c66593c1eac098238b6c'), <NodeRelationship.PREVIOUS: '2'>: RelatedNodeInfo(node_id='8bb3ec62-f886-49a5-ae3f-9c1a46d9ecad', node_type=<ObjectType.TEXT: '1'>, metadata={'url': 'https://www.vinmec.com/tin-tuc/thong-tin-suc-khoe/suc-khoe-tong-quat/huong-dan-xu-tri-cap-cuu-hoc-nghen/'}, hash='2e0a2c0f1a6e384f6fd0a9198b6ef4b1e307ab710dd1b29ceff38adaa733cea3'), <NodeRelationship.NEXT: '3'>: RelatedNodeInfo(node_id='cd2d2d99-cec9-4d69-97f1-09a92131dda1', node_type=<ObjectType.TEXT: '1'>, metadata={}, hash='80dfbafe2e96109c72c7260bd2a3ddc849277b4229ca170848ae9a0f9db899b6')}, hash='b00265f7116436bf34555568c32f730eb7b550066aa4416527c2939d0ed6ff4f', text='Xử tríKhi nạn nhân có dấu hiệu hóc nghẹn nặng cần hành động can thiệp ngay:Nếu bạn nghĩ nạn nhân bị nghẹn, cần hỏi ngay “ Anh bị nghẹn phải không? Tôi có thể giúp anh được không”Nếu nạn nhân gật đầu đồng ý, bạn cần can thiệp giúp đỡ ngay.Đứng hoặc quỳ phía sau nạn nhân (tùy vào kích thước của nạn nhân), có thể bước một chân trụ tới trước để tư thế vững vàng hơn. Vòng hai tay qua, nắm hai bàn tay ở phía trước nạn nhân.Một bàn tay nắm lại tạo thành một nắm đấm.Đặt mặt có ngón cái của nắm đấm vào giữa vị trí trên rốn và dưới xương ức.Bàn tay kia nắm lấy nắm đấm, thúc nhanh và mạnh vào bụng nạn nhân về phía sau và lên trên.Tiếp tục thực hiện nhiều lần ép mạnh như vậy cho đến khi dị vật văng ra và nạn nhân có thể thở, ho hay nói chuyện, hoặc nạn nhân trở nên bất tỉnh không đáp ứng.Hình ảnh hướng dẫn chi tiết cách xử lý cấp cứu hóc nặngLưu ý: Nếu nạn nhân là phụ nữ có thai, hoặc người có vòng bụng quá lớn, bạn không thể ôm vòng qua eo, cần:Vòng hai tay qua nách nạn nhân, đặt nắm tay ở nửa dưới xương ức vùng ngực.Khi thúc thì ép nắm tay vào ngực hướng thẳng ra phía sau.Cách cấp cứu phụ nữ mang thai bị hóc nặngHóc nghẹn đặc biệt là sặc sữa là một trong những cấp cứu thường gặp ở trẻ nhũ nhi.Đối với trẻ nhũ nhi bị hóc nghẹn, việc ép vào bụng có thể làm tình trạng trẻ nặng nề hơn. Bạn chỉ tiến hành nghiệm pháp vỗ lưng và ấn ngực theo các bước như sau:Đặt bé nằm sấp trên cẳng tay, bàn tay đỡ đầu và hàm dưới.', start_char_idx=None, end_char_idx=None, text_template='{metadata_str}\\n\\n{content}', metadata_template='{key}: {value}', metadata_seperator='\\n'),\n",
       " TextNode(id_='ef9ee668-ef43-498e-9ae5-27d3e8c6f564', embedding=None, metadata={'url': 'https://www.vinmec.com/tin-tuc/thong-tin-suc-khoe/nhi/so-cuu-tre-bi-hoc-di-vat-gay-nghet-tho/'}, excluded_embed_metadata_keys=[], excluded_llm_metadata_keys=[], relationships={<NodeRelationship.SOURCE: '1'>: RelatedNodeInfo(node_id='aac436c1-17f2-43f3-aefc-2367fecd7a61', node_type=<ObjectType.DOCUMENT: '4'>, metadata={'url': 'https://www.vinmec.com/tin-tuc/thong-tin-suc-khoe/nhi/so-cuu-tre-bi-hoc-di-vat-gay-nghet-tho/'}, hash='110b07f51382fbfbe048e888f78c9d607a50b8796ca20eedc6c69d1d56119558'), <NodeRelationship.PREVIOUS: '2'>: RelatedNodeInfo(node_id='f451e174-eb9f-4758-a3ff-48ad31317f41', node_type=<ObjectType.TEXT: '1'>, metadata={'url': 'https://www.vinmec.com/tin-tuc/thong-tin-suc-khoe/nhi/so-cuu-tre-bi-hoc-di-vat-gay-nghet-tho/'}, hash='77d3fb0dfd6f4e0a3068d7d2811cab6e6261abda9c7c8eb8c6abc89dfedb6129'), <NodeRelationship.NEXT: '3'>: RelatedNodeInfo(node_id='0eb12505-9eb3-4453-9dfe-8f7bdf84ec21', node_type=<ObjectType.TEXT: '1'>, metadata={}, hash='24aa27298f01a9ff1134f58ea4dfe7af639c9e68d0ec1f6abfafea3025fee3c8')}, hash='2da9fc3da2748c400beaaaabf34ec240d9ff30e48f7de3d8241daeafc665cde2', text='Bởi chúng có thể làm thủng thực quản, dạ dày hoặc ruột của trẻ, hoặc tạo ra một dòng điện nhỏ trong cơ thể. Một cục nam châm nhỏ sẽ đi qua đường ống tiêu hóa, nhưng nếu có hai hoặc nhiều cục nam châm có thể khiến các phần khác nhau của ruột dính từ tính với nhau, dẫn đến xoắn, tắc nghẽn hoặc gây thủng ruột.Nếu con bạn nuốt phải thứ gì đó không sắc nhọn hoặc không có khả năng nguy hiểm, và dường như nó không bị mắc kẹt trong cổ họng của bé, rất có thể thứ đó đã đi xuống theo đường tiêu hóaNếu con bạn bị ngạt thở và bất tỉnh hoặc không thở được: Bạn cần bảo ai đó gọi điện cấp cứu và tiến hành hô hấp nhân tạo cho đến khi có sự trợ giúp. Nếu bạn ở một mình với bé, hãy thực hiện hô hấp nhân tạo trong vòng hai phút và sau đó gọi cấp cứu.Nếu trẻ bị hóc dị vật nhưng vẫn thở, bạn hãy để trẻ ho ra dị vật nếu có thể. Nếu trẻ không tự ho ra được, bạn hãy gọi điện thoại cấp cứu và cố gắng đánh bật dị vật ra ngoài bằng động tác vỗ lưng và ấn ngực.4.1 Vỗ lưngNếu trẻ còn tỉnh nhưng không thể ho, khóc hoặc thở và bạn tin rằng có vật gì đó bị mắc kẹt trong đường thở của trẻ, hãy cẩn thận đặt trẻ nằm ngửa trên một cảnh tay, dung tay đó ôm lấy gáy của bé. Sau đó đặt bàn tay còn lại và cẳng tay lên phía trước của bé.Tiếp theo dùng ngón cái và các ngón tay để giữ hàm của bé và lật bé nằm úp xuống dọc theo cẳng tay của bạn. Hạ cánh tay của bạn xuống đùi, để đầu của bé thấp hơn ngực của bé.Sử dụng bàn tay của bạn thực hiện năm cú vỗ lưng một cách dứt khoát vào giữa hai bả vai của bé để cố gắng đánh bật dị vật ra. Trong quá trình vỗ, cần giữ đầu và cổ của bé bằng cách giữ chắc hàm của bé nằm giữa ngón cái và ngón trỏ của bạn.Nếu dị vật vẫn chưa được tống ra ngoài, hãy đặt bàn tay còn lại của bạn lên phía sau đầu của trẻ với cánh tay của bạn đặt dọc theo cột sống của bé.', start_char_idx=None, end_char_idx=None, text_template='{metadata_str}\\n\\n{content}', metadata_template='{key}: {value}', metadata_seperator='\\n')]"
      ]
     },
     "execution_count": 27,
     "metadata": {},
     "output_type": "execute_result"
    }
   ],
   "source": [
    "storage_instance = StorageContext.from_defaults(docstore=vin_retriever.index.docstore)\n",
    "instance_vectorindex = VectorStoreIndex(excluse_node,storage_context=storage_instance)\n",
    "instance_search = VectorIndexRetriever(instance_vectorindex,similarity_top_k=3)\n",
    "instance_ans = instance_search.retrieve(question) #find node high score in excluse node\n",
    "selected_node_with_score = [node for node in vin_retriever.ans if node.node.node_id in [_[2] for _ in vin_retriever.selected_node]]\n",
    "combine_node = [node.node for node in selected_node_with_score + instance_ans]\n",
    "combine_node"
   ]
  },
  {
   "cell_type": "code",
   "execution_count": null,
   "metadata": {},
   "outputs": [],
   "source": []
  },
  {
   "cell_type": "code",
   "execution_count": 16,
   "metadata": {},
   "outputs": [
    {
     "name": "stdout",
     "output_type": "stream",
     "text": [
      "https://www.vinmec.com/tin-tuc/thong-tin-suc-khoe/suc-khoe-tong-quat/huong-dan-xu-tri-cap-cuu-hoc-nghen/\n",
      "https://www.vinmec.com/tin-tuc/thong-tin-suc-khoe/nhi/so-cuu-tre-bi-hoc-di-vat-gay-nghet-tho/\n",
      "https://www.vinmec.com/tin-tuc/thong-tin-suc-khoe/suc-khoe-tong-quat/huong-dan-xu-tri-cap-cuu-hoc-nghen/\n",
      "Khi bị hóc nghẹn ở cổ, bạn cần hành động ngay lập tức để giúp nạn nhân. Đầu tiên, hỏi ngay nạn nhân xem anh/chị có bị hóc không và có cần giúp đỡ không. Nếu nạn nhân gật đầu đồng ý, bạn cần can thiệp ngay.\n",
      "\n",
      "Đứng hoặc quỳ phía sau nạn nhân (tùy vào kích thước của nạn nhân), có thể bước một chân trụ tới trước để tư thế vững vàng hơn. Vòng hai tay qua, nắm hai bàn tay ở phía trước nạn nhân. Một bàn tay nắm lại tạo thành một nắm đấm. Đặt mặt có ngón cái của nắm đấm vào giữa vị trí trên rốn và dưới xương ức. Bàn tay kia nắm lấy nắm đấm, thúc nhanh và mạnh vào bụng nạn nhân về phía sau và lên trên. Tiếp tục thực hiện nhiều lần ép mạnh như vậy cho đến khi dị vật văng ra và nạn nhân có thể thở, hoặc nói chuyện, hoặc nạn nhân trở nên bất tỉnh không đáp ứng.\n",
      "\n",
      "Tuy nhiên, nếu nạn nhân là phụ nữ mang thai hoặc người có vòng bụng quá lớn, bạn không thể ôm vòng qua eo. Trong trường hợp này, bạn cần vòng hai tay qua nách nạn nhân, đặt nắm tay ở nửa dưới xương ức vùng ngực. Khi thúc thì ép nắm tay vào ngực hướng thẳng ra phía sau.\n",
      "\n",
      "Tôi khuyến nghị bạn nên đến Bệnh viện Đa khoa Quốc tế Vinmec gần nhất để được tư vấn và xử trí cấp cứu chính xác."
     ]
    }
   ],
   "source": [
    "instance_vectorindex = VectorStoreIndex(combine_node,storage_context=storage_instance)\n",
    "query_engine = RetrieverQueryEngine(\n",
    "    retriever=VectorIndexRetriever(instance_vectorindex,similarity_top_k=3),response_synthesizer=get_response_synthesizer(response_mode=\"tree_summarize\",streaming=True)\n",
    "    )\n",
    "\n",
    "query_engine = vin_retriever.prompt_format(query_engine)\n",
    "response = query_engine.query(question)\n",
    "for source in response.source_nodes:\n",
    "    print(source.metadata['url'])\n",
    "for text in response.response_gen:\n",
    "    print(text,end='')"
   ]
  },
  {
   "cell_type": "code",
   "execution_count": 63,
   "metadata": {},
   "outputs": [
    {
     "data": {
      "text/plain": [
       "[NodeWithScore(node=TextNode(id_='8bb3ec62-f886-49a5-ae3f-9c1a46d9ecad', embedding=None, metadata={'url': 'https://www.vinmec.com/tin-tuc/thong-tin-suc-khoe/suc-khoe-tong-quat/huong-dan-xu-tri-cap-cuu-hoc-nghen/'}, excluded_embed_metadata_keys=[], excluded_llm_metadata_keys=[], relationships={<NodeRelationship.SOURCE: '1'>: RelatedNodeInfo(node_id='5d1ab158-fc05-436a-82b1-bbc9bd0a3e86', node_type=<ObjectType.DOCUMENT: '4'>, metadata={'url': 'https://www.vinmec.com/tin-tuc/thong-tin-suc-khoe/suc-khoe-tong-quat/huong-dan-xu-tri-cap-cuu-hoc-nghen/'}, hash='cef7ac877debaa978ef7b44aa026694b69e2134b3d70c66593c1eac098238b6c'), <NodeRelationship.PREVIOUS: '2'>: RelatedNodeInfo(node_id='c0ca0dbc-2d84-45b8-83e1-581691a66efd', node_type=<ObjectType.TEXT: '1'>, metadata={'url': 'https://www.vinmec.com/tieu-hoa-gan-mat/thong-tin-suc-khoe/bi-gan-nhiem-mo-uong-gi-het/'}, hash='a4003e62884b12066fc5e60ea358266fe179c0ec5685ba0ace36cafee1c472e8'), <NodeRelationship.NEXT: '3'>: RelatedNodeInfo(node_id='2d6ae4f4-c6db-4253-b8c1-1fec407d85a4', node_type=<ObjectType.TEXT: '1'>, metadata={}, hash='05a9b7bebb2e6441a1dd43de3ea38a3de434b165b68eb8e008698f8842ba1bc9')}, hash='54a77e7abf0c83cbf25b90a025a34b330916e86b0d2343b1b02c0fe1cc8c7105', text='Bài viết được viết bởi ThS, BS. Lê Thị Thanh Hương, Khoa Hồi sức cấp cứu - Bệnh viện Đa khoa Quốc tế Vinmec Central ParkHóc nghẹn là tình trạng thức ăn hoặc vật lạ bị vướng ở vùng họng và gây tắc nghẽn đường hô hấp, cản trở không khí vào phổi. Đây là tình trạng cấp cứu rất thường gặp, đặc biệt ở trẻ em và trẻ nhũ nhi (Ví dụ: bị sặc sữa, bị đồ chơi hoặc thức ăn hóc ở họng hoặc rơi vào đường hô hấp). Nội dung bài giúp hướng dẫn các bước để một người bình thường có thể nhận biết và xử trí cấp cứu một nạn nhân đang bị hóc nghẹn.Hóc nghẹn có thể xảy ra ở mọi lứa tuổi, và có nhiều mức độ:1.1. Mức độ nhẹ1.1.1. Dấu hiệu nhận biếtNạn nhân bị hóc nghẹn nhưng vẫn có thể:Nói hoặc phát ra âm thanhHo lớn.1.2.2. Xử tríỞ lại bên cạnh người bị nghẹn và khuyến khích nạn nhân tiếp tục ho.Nếu thấy không yên tâm về vấn đề hô hấp của nạn nhân thì nên gọi cấp cứu. Tiếp tục ở lại với nạn nhân cho đến khi đội cấp cứu đến.1.2. Hóc nghẹn mức độ nặng1.2.1. Nhận biếtNạn nhân trong tình huống nghi ngờ hóc nghẹn, và:Không thở được, không thể nói hoặc không thể phát ra âm thanh;Ho nhưng không phát ra âm thanh;Biểu hiện dấu hóc nghẹn (Choking sign): nạn nhân dùng một hoặc hai tay ôm lấy cổ.Nạn nhân dùng một hoặc hai tay ôm lấy cổ1.2.2. Xử tríKhi nạn nhân có dấu hiệu hóc nghẹn nặng cần hành động can thiệp ngay:Nếu bạn nghĩ nạn nhân bị nghẹn, cần hỏi ngay “ Anh bị nghẹn phải không? Tôi có thể giúp anh được không”Nếu nạn nhân gật đầu đồng ý, bạn cần can thiệp giúp đỡ ngay.Đứng hoặc quỳ phía sau nạn nhân (tùy vào kích thước của nạn nhân), có thể bước một chân trụ tới trước để tư thế vững vàng hơn.', start_char_idx=None, end_char_idx=None, text_template='{metadata_str}\\n\\n{content}', metadata_template='{key}: {value}', metadata_seperator='\\n'), score=0.8779212907683829),\n",
       " NodeWithScore(node=TextNode(id_='b61a0379-8ca9-442d-bad9-f1caed0a1605', embedding=None, metadata={'url': 'https://www.vinmec.com/tin-tuc/thong-tin-suc-khoe/nhi/so-cuu-tre-bi-hoc-di-vat-gay-nghet-tho/'}, excluded_embed_metadata_keys=[], excluded_llm_metadata_keys=[], relationships={<NodeRelationship.SOURCE: '1'>: RelatedNodeInfo(node_id='aac436c1-17f2-43f3-aefc-2367fecd7a61', node_type=<ObjectType.DOCUMENT: '4'>, metadata={'url': 'https://www.vinmec.com/tin-tuc/thong-tin-suc-khoe/nhi/so-cuu-tre-bi-hoc-di-vat-gay-nghet-tho/'}, hash='110b07f51382fbfbe048e888f78c9d607a50b8796ca20eedc6c69d1d56119558'), <NodeRelationship.PREVIOUS: '2'>: RelatedNodeInfo(node_id='01436328-3842-43e6-9ce0-135f2fb78e52', node_type=<ObjectType.TEXT: '1'>, metadata={'url': 'https://www.vinmec.com/tin-tuc/thong-tin-suc-khoe/nhi/so-cuu-tre-bi-hoc-di-vat-gay-nghet-tho/'}, hash='a75869419f004222c3b9f4649b9cfa24739b31827a4adce23e10cd76c3f0ad37'), <NodeRelationship.NEXT: '3'>: RelatedNodeInfo(node_id='f451e174-eb9f-4758-a3ff-48ad31317f41', node_type=<ObjectType.TEXT: '1'>, metadata={}, hash='77d3fb0dfd6f4e0a3068d7d2811cab6e6261abda9c7c8eb8c6abc89dfedb6129')}, hash='76fedeeab216038ae6505e34a77b068dd087ae1ec349e36dc753215eaf4b1eac', text='Nguyên nhân là do các bé rất tò mò, trong khi khám phá thế giới xung quanh, trẻ thường bỏ tất cả mọi thứ trẻ cầm được vào trong miệng.Trẻ nhỏ chưa có răng hàm nên không thể nhai và nghiền nát hoàn toàn các loại thức ăn cứng như bánh quy, kẹo cứng,... Đồng thời, việc nhai và nuốt của trẻ cũng chưa thuần thục. Do đó trẻ có thể bị hóc gây ngạt thở. Trong khi đó các trẻ lớn hơn lại hay chạy nhảy, cười đùa khi đang ăn, nên vẫn có nguy cơ bị hóc do thức ăn.Ngoài thức ăn, còn có nhiều loại dị vật khác nhau có thể khiến trẻ bị hóc gây ngạt thở, bao gồm:Các loại hạtQuả, hạt quảMảnh xươngMóng tayĐồ chơi nhỏĐồng xuGhimCúc quần áoMảnh vỡ của dụng cụ y tế và thiết bị nha khoa....Ngạt thở do hóc dị vật có thể là một trường hợp khẩn cấp đi dọa tính mạng trẻ em cũng như người lớnTrong số các trường hợp trẻ bị hóc dị vật, thì có đến một phần ba các bậc phụ huynh không biết về tình trạng đó hoặc không nhớ đến sự việc xảy ra hơn một tuần trước khi phát hiện ra. Có tới 25% trường hợp, trẻ bị dị vật đường thở hơn một tháng mới phát hiện.Thông thường, khi bị hóc dị vật gây ngạt thở, trẻ sẽ xuất hiện một cơn ho đột ngột hoặc bị sặc trong khi ăn, kèm theo đó là thở khò khè, ho hoặc nói lắp. Những trường hợp dị vật gây tắc toàn bộ hoặc gần toàn bộ đường thở có thể dẫn đến tử vong hoặc tổn thương não do thiếu oxy.Có những trường hợp mà người lớn không chứng kiến hoặc không biết trẻ đã cho gì vào miệng, mũi do đó không nghĩ tới việc trẻ bị ngạt thở do hóc dị vật.Trong trường hợp này, trẻ có thể có biểu hiện ho dai dẳng hoặc mặt tái nhợt, thở khò khè.', start_char_idx=None, end_char_idx=None, text_template='{metadata_str}\\n\\n{content}', metadata_template='{key}: {value}', metadata_seperator='\\n'), score=0.8699364681041603),\n",
       " NodeWithScore(node=TextNode(id_='2d6ae4f4-c6db-4253-b8c1-1fec407d85a4', embedding=None, metadata={'url': 'https://www.vinmec.com/tin-tuc/thong-tin-suc-khoe/suc-khoe-tong-quat/huong-dan-xu-tri-cap-cuu-hoc-nghen/'}, excluded_embed_metadata_keys=[], excluded_llm_metadata_keys=[], relationships={<NodeRelationship.SOURCE: '1'>: RelatedNodeInfo(node_id='5d1ab158-fc05-436a-82b1-bbc9bd0a3e86', node_type=<ObjectType.DOCUMENT: '4'>, metadata={'url': 'https://www.vinmec.com/tin-tuc/thong-tin-suc-khoe/suc-khoe-tong-quat/huong-dan-xu-tri-cap-cuu-hoc-nghen/'}, hash='cef7ac877debaa978ef7b44aa026694b69e2134b3d70c66593c1eac098238b6c'), <NodeRelationship.PREVIOUS: '2'>: RelatedNodeInfo(node_id='8bb3ec62-f886-49a5-ae3f-9c1a46d9ecad', node_type=<ObjectType.TEXT: '1'>, metadata={'url': 'https://www.vinmec.com/tin-tuc/thong-tin-suc-khoe/suc-khoe-tong-quat/huong-dan-xu-tri-cap-cuu-hoc-nghen/'}, hash='2e0a2c0f1a6e384f6fd0a9198b6ef4b1e307ab710dd1b29ceff38adaa733cea3'), <NodeRelationship.NEXT: '3'>: RelatedNodeInfo(node_id='cd2d2d99-cec9-4d69-97f1-09a92131dda1', node_type=<ObjectType.TEXT: '1'>, metadata={}, hash='80dfbafe2e96109c72c7260bd2a3ddc849277b4229ca170848ae9a0f9db899b6')}, hash='b00265f7116436bf34555568c32f730eb7b550066aa4416527c2939d0ed6ff4f', text='Xử tríKhi nạn nhân có dấu hiệu hóc nghẹn nặng cần hành động can thiệp ngay:Nếu bạn nghĩ nạn nhân bị nghẹn, cần hỏi ngay “ Anh bị nghẹn phải không? Tôi có thể giúp anh được không”Nếu nạn nhân gật đầu đồng ý, bạn cần can thiệp giúp đỡ ngay.Đứng hoặc quỳ phía sau nạn nhân (tùy vào kích thước của nạn nhân), có thể bước một chân trụ tới trước để tư thế vững vàng hơn. Vòng hai tay qua, nắm hai bàn tay ở phía trước nạn nhân.Một bàn tay nắm lại tạo thành một nắm đấm.Đặt mặt có ngón cái của nắm đấm vào giữa vị trí trên rốn và dưới xương ức.Bàn tay kia nắm lấy nắm đấm, thúc nhanh và mạnh vào bụng nạn nhân về phía sau và lên trên.Tiếp tục thực hiện nhiều lần ép mạnh như vậy cho đến khi dị vật văng ra và nạn nhân có thể thở, ho hay nói chuyện, hoặc nạn nhân trở nên bất tỉnh không đáp ứng.Hình ảnh hướng dẫn chi tiết cách xử lý cấp cứu hóc nặngLưu ý: Nếu nạn nhân là phụ nữ có thai, hoặc người có vòng bụng quá lớn, bạn không thể ôm vòng qua eo, cần:Vòng hai tay qua nách nạn nhân, đặt nắm tay ở nửa dưới xương ức vùng ngực.Khi thúc thì ép nắm tay vào ngực hướng thẳng ra phía sau.Cách cấp cứu phụ nữ mang thai bị hóc nặngHóc nghẹn đặc biệt là sặc sữa là một trong những cấp cứu thường gặp ở trẻ nhũ nhi.Đối với trẻ nhũ nhi bị hóc nghẹn, việc ép vào bụng có thể làm tình trạng trẻ nặng nề hơn. Bạn chỉ tiến hành nghiệm pháp vỗ lưng và ấn ngực theo các bước như sau:Đặt bé nằm sấp trên cẳng tay, bàn tay đỡ đầu và hàm dưới.', start_char_idx=None, end_char_idx=None, text_template='{metadata_str}\\n\\n{content}', metadata_template='{key}: {value}', metadata_seperator='\\n'), score=0.8661795644779249)]"
      ]
     },
     "execution_count": 63,
     "metadata": {},
     "output_type": "execute_result"
    }
   ],
   "source": [
    "combine_node"
   ]
  },
  {
   "cell_type": "code",
   "execution_count": null,
   "metadata": {},
   "outputs": [],
   "source": []
  }
 ],
 "metadata": {
  "kernelspec": {
   "display_name": "venv",
   "language": "python",
   "name": "python3"
  },
  "language_info": {
   "codemirror_mode": {
    "name": "ipython",
    "version": 3
   },
   "file_extension": ".py",
   "mimetype": "text/x-python",
   "name": "python",
   "nbconvert_exporter": "python",
   "pygments_lexer": "ipython3",
   "version": "3.9.13"
  }
 },
 "nbformat": 4,
 "nbformat_minor": 2
}
